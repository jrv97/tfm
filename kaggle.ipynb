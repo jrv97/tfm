{
 "cells": [
  {
   "cell_type": "code",
   "execution_count": 1,
   "metadata": {},
   "outputs": [
    {
     "name": "stdout",
     "output_type": "stream",
     "text": [
      "Train: 3539\n",
      "Test: 885\n"
     ]
    }
   ],
   "source": [
    "import warnings\n",
    "from config import KAGGLE_DATA_PATH, KAGGLE_TARGET\n",
    "\n",
    "warnings.filterwarnings(\"ignore\")\n",
    "import numpy as np\n",
    "import pandas as pd\n",
    "from sklearn.model_selection import train_test_split"
   ]
  },
  {
   "cell_type": "code",
   "execution_count": 4,
   "metadata": {},
   "outputs": [
    {
     "name": "stdout",
     "output_type": "stream",
     "text": [
      "Train: 3539\n",
      "Test: 885\n"
     ]
    }
   ],
   "source": [
    "df = pd.read_csv(KAGGLE_DATA_PATH)\n",
    "X = df.drop(KAGGLE_TARGET, axis=1)\n",
    "y = df[KAGGLE_TARGET]\n",
    "X_train, X_test, y_train, y_test = train_test_split(X, y, test_size=0.2)\n",
    "\n",
    "print(\"Train:\", X_train.shape[0])\n",
    "print(\"Test:\", X_test.shape[0])"
   ]
  },
  {
   "cell_type": "code",
   "execution_count": 7,
   "metadata": {},
   "outputs": [
    {
     "name": "stdout",
     "output_type": "stream",
     "text": [
      "Train after removing outliers: 2553\n",
      "Test: 885\n"
     ]
    }
   ],
   "source": [
    "def remove_outliers(X_train, y_train):\n",
    "    from sklearn.ensemble import IsolationForest\n",
    "\n",
    "    isf = IsolationForest(n_jobs=-1, random_state=1)\n",
    "    isf.fit(X_train)\n",
    "\n",
    "    predictions = isf.predict(X_train)\n",
    "\n",
    "    # The predict method returns 1 for inliers and -1 for outliers.\n",
    "    X_train_filtered = X_train[predictions == 1]\n",
    "    y_train_filtered = y_train[predictions == 1]\n",
    "    return X_train_filtered, y_train_filtered\n",
    "\n",
    "\n",
    "X_train, y_train = remove_outliers(X_train, y_train)\n",
    "print(\"Train after removing outliers:\", X_train.shape[0])\n",
    "print(\"Test:\", X_test.shape[0])"
   ]
  },
  {
   "cell_type": "code",
   "execution_count": 8,
   "metadata": {},
   "outputs": [
    {
     "name": "stdout",
     "output_type": "stream",
     "text": [
      "Feature ranking:\n",
      "1. Curricular units 2nd sem (approved) (0.13329039149197358)\n",
      "2. Curricular units 1st sem (approved) (0.10609075781343576)\n",
      "3. Curricular units 2nd sem (grade) (0.09111503677206818)\n",
      "4. Curricular units 1st sem (grade) (0.06148314755513296)\n",
      "5. Curricular units 2nd sem (evaluations) (0.04825560695272764)\n",
      "6. Curricular units 1st sem (evaluations) (0.04344251449087888)\n",
      "7. Father's occupation (0.033925363915045144)\n",
      "8. Age at enrollment (0.03347628750561022)\n",
      "9. Course (0.03322761532931514)\n",
      "10. Mother's occupation (0.03197060339855032)\n",
      "11. Mother's qualification (0.028797978545620724)\n",
      "12. Unemployment rate (0.028230994935351812)\n",
      "13. Father's qualification (0.028031030392488134)\n",
      "14. Inflation rate (0.027184176843838358)\n",
      "15. Application mode (0.027135604184733507)\n",
      "16. GDP (0.026700235716730452)\n",
      "17. Scholarship holder (0.025732218656565845)\n",
      "18. Application order (0.02458162207885884)\n",
      "19. Tuition fees up to date (0.023287554884522787)\n",
      "20. Curricular units 2nd sem (enrolled) (0.022029155692466777)\n",
      "21. Gender (0.02161297871293791)\n",
      "22. Curricular units 1st sem (enrolled) (0.020393574620911455)\n",
      "23. Displaced (0.016698223855983567)\n",
      "24. Debtor (0.01152609395251149)\n",
      "25. Curricular units 1st sem (without evaluations) (0.008484393322970685)\n",
      "26. Curricular units 2nd sem (without evaluations) (0.008480512897631874)\n",
      "27. Previous qualification (0.008393304974896409)\n",
      "28. Marital status (0.006242633303385291)\n",
      "29. Curricular units 1st sem (credited) (0.005709194866425148)\n",
      "30. Daytime/evening attendance (0.00563902356440263)\n",
      "31. Curricular units 2nd sem (credited) (0.004334980872346091)\n",
      "32. Educational special needs (0.0025291970297887027)\n",
      "33. International (0.0010708969933137082)\n",
      "34. Nacionality (0.0008970938765801318)\n"
     ]
    }
   ],
   "source": [
    "from sklearn.ensemble import ExtraTreesClassifier\n",
    "\n",
    "# Initialize the model\n",
    "etc = ExtraTreesClassifier(n_estimators=100, random_state=1)\n",
    "etc.fit(X_train, y_train)\n",
    "\n",
    "# Get feature importances\n",
    "feature_importances = etc.feature_importances_\n",
    "\n",
    "# Sort the feature importances in descending order and get their indices\n",
    "sorted_indices = np.argsort(feature_importances)[::-1]\n",
    "\n",
    "# Print the features in descending order of importance\n",
    "print(\"Feature ranking:\")\n",
    "for i in range(X_train.shape[1]):\n",
    "    print(\n",
    "        f\"{i+1}. {X_train.columns[sorted_indices[i]]} ({feature_importances[sorted_indices[i]]})\"\n",
    "    )\n",
    "\n",
    "# If you want to keep only top N features\n",
    "N = 10  # For instance, keeping only top 10 features. Adjust this based on your requirements.\n",
    "selected_features = X_train.columns[sorted_indices[:N]]\n",
    "\n",
    "# Filter your data based on selected features\n",
    "X_train_selected = X_train[selected_features]"
   ]
  }
 ],
 "metadata": {
  "kernelspec": {
   "display_name": "base",
   "language": "python",
   "name": "python3"
  },
  "language_info": {
   "codemirror_mode": {
    "name": "ipython",
    "version": 3
   },
   "file_extension": ".py",
   "mimetype": "text/x-python",
   "name": "python",
   "nbconvert_exporter": "python",
   "pygments_lexer": "ipython3",
   "version": "3.10.9"
  },
  "orig_nbformat": 4
 },
 "nbformat": 4,
 "nbformat_minor": 2
}

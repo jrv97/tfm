{
 "cells": [
  {
   "cell_type": "code",
   "execution_count": 7,
   "metadata": {},
   "outputs": [],
   "source": [
    "from preprocessing import get_all_configurations, PREPROCESSING_CONFIGURATIONS\n",
    "import pandas as pd\n",
    "from sklearn.model_selection import train_test_split\n",
    "from sklearn.preprocessing import LabelEncoder\n",
    "from config import KAGGLE_DATA_PATH, KAGGLE_IGNORED_LABELS, KAGGLE_TARGET\n",
    "from sklearn.metrics import (\n",
    "    accuracy_score,\n",
    "    precision_score,\n",
    "    recall_score,\n",
    "    f1_score,\n",
    "    confusion_matrix,\n",
    ")\n",
    "from tqdm import tqdm\n",
    "import numpy as np\n",
    "from sklearn.discriminant_analysis import StandardScaler\n",
    "from sklearn.ensemble import RandomForestClassifier\n",
    "from sklearn.linear_model import LogisticRegression\n",
    "from sklearn.metrics import accuracy_score, f1_score, roc_auc_score\n",
    "from sklearn.model_selection import GridSearchCV, learning_curve, train_test_split\n",
    "from sklearn.naive_bayes import GaussianNB\n",
    "from sklearn.neighbors import KNeighborsClassifier\n",
    "from sklearn.neural_network import MLPClassifier\n",
    "from sklearn.svm import SVC\n",
    "from sklearn.tree import DecisionTreeClassifier\n",
    "from xgboost import XGBClassifier\n",
    "import pickle\n",
    "import warnings\n",
    "\n",
    "warnings.simplefilter(action=\"ignore\", category=Warning)\n",
    "\n",
    "\n",
    "def _generate_config_key(config):\n",
    "    return \" + \".join(func.__name__ for func in config)\n",
    "\n",
    "\n",
    "def _prepare_data(\n",
    "    datapath,\n",
    "    target_label,\n",
    "    columns_to_ignore=None,\n",
    "    labels_to_ignore=None,\n",
    "    test_size=0.2,\n",
    "    random_state=42,\n",
    "):\n",
    "    # Read the dataset\n",
    "    df = pd.read_csv(datapath)\n",
    "\n",
    "    # Drop specified columns\n",
    "    if columns_to_ignore:\n",
    "        df.drop(columns=columns_to_ignore, inplace=True)\n",
    "\n",
    "    # Drop rows with invalid categories in the target label\n",
    "    if labels_to_ignore:\n",
    "        df = df[~df[target_label].isin(labels_to_ignore)]\n",
    "\n",
    "    # Check if target variable is categorical and convert to numerical if true\n",
    "    if df[target_label].dtype == \"object\":\n",
    "        le = LabelEncoder()\n",
    "        df[target_label] = le.fit_transform(df[target_label])\n",
    "\n",
    "    # Split features and target variable\n",
    "    X = df.drop(columns=target_label)\n",
    "    y = df[target_label]\n",
    "\n",
    "    # Split data into training and testing sets\n",
    "    X_train, X_test, y_train, y_test = train_test_split(\n",
    "        X, y, test_size=test_size, random_state=random_state\n",
    "    )\n",
    "\n",
    "    return X_train, y_train, X_test, y_test\n",
    "\n",
    "\n",
    "def _apply_techniques(config, X_train_, y_train, X_test, y_test):\n",
    "    outliers_detection_technique = config[0]\n",
    "    features_selection_technique = config[1]\n",
    "    oversampling_technique = config[2]\n",
    "\n",
    "    # Apply outlier removal\n",
    "    X_train_, y_train = outliers_detection_technique(X_train_, y_train)\n",
    "\n",
    "    # Apply features selection\n",
    "    X_train_, y_train, X_test, y_test = features_selection_technique(\n",
    "        X_train_, y_train, X_test, y_test\n",
    "    )\n",
    "\n",
    "    # Apply oversampling\n",
    "    X_train_, y_train = oversampling_technique(X_train_, y_train)\n",
    "\n",
    "    return X_train_, y_train, X_test, y_test\n",
    "\n",
    "\n",
    "def get_data_for_config(config):\n",
    "    X_train, y_train, X_test, y_test = _prepare_data(\n",
    "        KAGGLE_DATA_PATH,\n",
    "        KAGGLE_TARGET,\n",
    "        labels_to_ignore=KAGGLE_IGNORED_LABELS,\n",
    "        test_size=0.8,\n",
    "    )\n",
    "    X_train, y_train, X_test, y_test = _apply_techniques(\n",
    "        config, X_train, y_train, X_test, y_test\n",
    "    )\n",
    "    # print(f\"Size of X_train: {X_train.shape}\")\n",
    "    # print(f\"Size of y_train: {y_train.shape}\")\n",
    "    # print(f\"Size of X_test: {X_test.shape}\")\n",
    "    # print(f\"Size of y_test: {y_test.shape}\")\n",
    "    # # Printing proportions\n",
    "    # train_counts = y_train.value_counts(normalize=True)\n",
    "    # test_counts = y_test.value_counts(normalize=True)\n",
    "\n",
    "    # print(\n",
    "    #     f\"Proportion in y_train (positive:negative): {train_counts.get(1, 0):.2f} : {train_counts.get(0, 0):.2f}\"\n",
    "    # )\n",
    "    # print(\n",
    "    #     f\"Proportion in y_test (positive:negative): {test_counts.get(1, 0):.2f} : {test_counts.get(0, 0):.2f}\"\n",
    "    # )\n",
    "    return X_train, y_train, X_test, y_test"
   ]
  },
  {
   "cell_type": "code",
   "execution_count": 8,
   "metadata": {},
   "outputs": [
    {
     "name": "stderr",
     "output_type": "stream",
     "text": [
      "  0%|          | 0/180 [00:00<?, ?it/s]"
     ]
    },
    {
     "name": "stdout",
     "output_type": "stream",
     "text": [
      "K-nearest-neighbor failed to train with configuration remove_outliers_none + features_selection_none + oversampling_none because: 'Flags' object has no attribute 'c_contiguous'\n"
     ]
    },
    {
     "name": "stderr",
     "output_type": "stream",
     "text": [
      "  1%|          | 1/180 [00:01<03:04,  1.03s/it]"
     ]
    },
    {
     "name": "stdout",
     "output_type": "stream",
     "text": [
      "K-nearest-neighbor failed to train with configuration remove_outliers_none + features_selection_none + oversampling_smote because: 'Flags' object has no attribute 'c_contiguous'\n"
     ]
    },
    {
     "name": "stderr",
     "output_type": "stream",
     "text": [
      "  1%|          | 2/180 [00:02<03:25,  1.15s/it]"
     ]
    },
    {
     "name": "stdout",
     "output_type": "stream",
     "text": [
      "K-nearest-neighbor failed to train with configuration remove_outliers_none + features_selection_none + oversampling_svm_smote because: 'Flags' object has no attribute 'c_contiguous'\n"
     ]
    },
    {
     "name": "stderr",
     "output_type": "stream",
     "text": [
      "  2%|▏         | 3/180 [00:03<03:27,  1.17s/it]"
     ]
    },
    {
     "name": "stdout",
     "output_type": "stream",
     "text": [
      "K-nearest-neighbor failed to train with configuration remove_outliers_none + features_selection_none + oversampling_adasyn because: 'Flags' object has no attribute 'c_contiguous'\n"
     ]
    },
    {
     "name": "stderr",
     "output_type": "stream",
     "text": [
      "  2%|▏         | 4/180 [00:04<03:28,  1.19s/it]"
     ]
    },
    {
     "name": "stdout",
     "output_type": "stream",
     "text": [
      "K-nearest-neighbor failed to train with configuration remove_outliers_none + features_selection_none + oversampling_smote_borderline because: 'Flags' object has no attribute 'c_contiguous'\n"
     ]
    },
    {
     "name": "stderr",
     "output_type": "stream",
     "text": [
      "  3%|▎         | 5/180 [00:05<03:29,  1.20s/it]"
     ]
    },
    {
     "name": "stdout",
     "output_type": "stream",
     "text": [
      "remove_outliers_none + features_selection_none + oversampling_nc_smote is invalid for this dataset because: SMOTE-NC is not designed to work only with numerical features. It requires some categorical features.\n"
     ]
    },
    {
     "name": "stderr",
     "output_type": "stream",
     "text": [
      "  7%|▋         | 12/180 [00:12<02:27,  1.14it/s]"
     ]
    },
    {
     "name": "stdout",
     "output_type": "stream",
     "text": [
      "remove_outliers_none + features_selection_extratrees + oversampling_nc_smote is invalid for this dataset because: SMOTE-NC is not designed to work only with numerical features. It requires some categorical features.\n"
     ]
    },
    {
     "name": "stderr",
     "output_type": "stream",
     "text": [
      " 10%|█         | 18/180 [00:19<02:39,  1.01it/s]"
     ]
    },
    {
     "name": "stdout",
     "output_type": "stream",
     "text": [
      "remove_outliers_none + features_selection_mutual_information + oversampling_nc_smote is invalid for this dataset because: SMOTE-NC is not designed to work only with numerical features. It requires some categorical features.\n",
      "K-nearest-neighbor failed to train with configuration remove_outliers_none + features_selection_rfe + oversampling_none because: 'Flags' object has no attribute 'c_contiguous'\n"
     ]
    },
    {
     "name": "stderr",
     "output_type": "stream",
     "text": [
      " 11%|█         | 19/180 [00:21<03:32,  1.32s/it]"
     ]
    },
    {
     "name": "stdout",
     "output_type": "stream",
     "text": [
      "K-nearest-neighbor failed to train with configuration remove_outliers_none + features_selection_rfe + oversampling_smote because: 'Flags' object has no attribute 'c_contiguous'\n"
     ]
    },
    {
     "name": "stderr",
     "output_type": "stream",
     "text": [
      " 11%|█         | 20/180 [00:23<04:01,  1.51s/it]"
     ]
    },
    {
     "name": "stdout",
     "output_type": "stream",
     "text": [
      "K-nearest-neighbor failed to train with configuration remove_outliers_none + features_selection_rfe + oversampling_svm_smote because: 'Flags' object has no attribute 'c_contiguous'\n"
     ]
    },
    {
     "name": "stderr",
     "output_type": "stream",
     "text": [
      " 12%|█▏        | 21/180 [00:25<04:25,  1.67s/it]"
     ]
    },
    {
     "name": "stdout",
     "output_type": "stream",
     "text": [
      "K-nearest-neighbor failed to train with configuration remove_outliers_none + features_selection_rfe + oversampling_adasyn because: 'Flags' object has no attribute 'c_contiguous'\n"
     ]
    },
    {
     "name": "stderr",
     "output_type": "stream",
     "text": [
      " 12%|█▏        | 22/180 [00:27<04:39,  1.77s/it]"
     ]
    },
    {
     "name": "stdout",
     "output_type": "stream",
     "text": [
      "K-nearest-neighbor failed to train with configuration remove_outliers_none + features_selection_rfe + oversampling_smote_borderline because: 'Flags' object has no attribute 'c_contiguous'\n"
     ]
    },
    {
     "name": "stderr",
     "output_type": "stream",
     "text": [
      " 13%|█▎        | 24/180 [00:30<04:06,  1.58s/it]"
     ]
    },
    {
     "name": "stdout",
     "output_type": "stream",
     "text": [
      "remove_outliers_none + features_selection_rfe + oversampling_nc_smote is invalid for this dataset because: SMOTE-NC is not designed to work only with numerical features. It requires some categorical features.\n",
      "K-nearest-neighbor failed to train with configuration remove_outliers_none + features_selection_variance_threshold + oversampling_none because: 'Flags' object has no attribute 'c_contiguous'\n"
     ]
    },
    {
     "name": "stderr",
     "output_type": "stream",
     "text": [
      " 14%|█▍        | 25/180 [00:31<03:41,  1.43s/it]"
     ]
    },
    {
     "name": "stdout",
     "output_type": "stream",
     "text": [
      "K-nearest-neighbor failed to train with configuration remove_outliers_none + features_selection_variance_threshold + oversampling_smote because: 'Flags' object has no attribute 'c_contiguous'\n"
     ]
    },
    {
     "name": "stderr",
     "output_type": "stream",
     "text": [
      " 14%|█▍        | 26/180 [00:32<03:30,  1.36s/it]"
     ]
    },
    {
     "name": "stdout",
     "output_type": "stream",
     "text": [
      "K-nearest-neighbor failed to train with configuration remove_outliers_none + features_selection_variance_threshold + oversampling_svm_smote because: 'Flags' object has no attribute 'c_contiguous'\n"
     ]
    },
    {
     "name": "stderr",
     "output_type": "stream",
     "text": [
      " 15%|█▌        | 27/180 [00:33<03:21,  1.32s/it]"
     ]
    },
    {
     "name": "stdout",
     "output_type": "stream",
     "text": [
      "K-nearest-neighbor failed to train with configuration remove_outliers_none + features_selection_variance_threshold + oversampling_adasyn because: 'Flags' object has no attribute 'c_contiguous'\n"
     ]
    },
    {
     "name": "stderr",
     "output_type": "stream",
     "text": [
      " 16%|█▌        | 28/180 [00:35<03:17,  1.30s/it]"
     ]
    },
    {
     "name": "stdout",
     "output_type": "stream",
     "text": [
      "K-nearest-neighbor failed to train with configuration remove_outliers_none + features_selection_variance_threshold + oversampling_smote_borderline because: 'Flags' object has no attribute 'c_contiguous'\n"
     ]
    },
    {
     "name": "stderr",
     "output_type": "stream",
     "text": [
      " 16%|█▌        | 29/180 [00:36<03:14,  1.29s/it]"
     ]
    },
    {
     "name": "stdout",
     "output_type": "stream",
     "text": [
      "remove_outliers_none + features_selection_variance_threshold + oversampling_nc_smote is invalid for this dataset because: SMOTE-NC is not designed to work only with numerical features. It requires some categorical features.\n",
      "K-nearest-neighbor failed to train with configuration remove_outliers_isolation_forest + features_selection_none + oversampling_none because: 'Flags' object has no attribute 'c_contiguous'\n"
     ]
    },
    {
     "name": "stderr",
     "output_type": "stream",
     "text": [
      " 17%|█▋        | 31/180 [00:37<02:23,  1.04it/s]"
     ]
    },
    {
     "name": "stdout",
     "output_type": "stream",
     "text": [
      "K-nearest-neighbor failed to train with configuration remove_outliers_isolation_forest + features_selection_none + oversampling_smote because: 'Flags' object has no attribute 'c_contiguous'\n"
     ]
    },
    {
     "name": "stderr",
     "output_type": "stream",
     "text": [
      " 18%|█▊        | 32/180 [00:38<02:35,  1.05s/it]"
     ]
    },
    {
     "name": "stdout",
     "output_type": "stream",
     "text": [
      "K-nearest-neighbor failed to train with configuration remove_outliers_isolation_forest + features_selection_none + oversampling_svm_smote because: 'Flags' object has no attribute 'c_contiguous'\n"
     ]
    },
    {
     "name": "stderr",
     "output_type": "stream",
     "text": [
      " 18%|█▊        | 33/180 [00:40<02:45,  1.13s/it]"
     ]
    },
    {
     "name": "stdout",
     "output_type": "stream",
     "text": [
      "K-nearest-neighbor failed to train with configuration remove_outliers_isolation_forest + features_selection_none + oversampling_adasyn because: 'Flags' object has no attribute 'c_contiguous'\n"
     ]
    },
    {
     "name": "stderr",
     "output_type": "stream",
     "text": [
      " 19%|█▉        | 34/180 [00:41<02:51,  1.18s/it]"
     ]
    },
    {
     "name": "stdout",
     "output_type": "stream",
     "text": [
      "K-nearest-neighbor failed to train with configuration remove_outliers_isolation_forest + features_selection_none + oversampling_smote_borderline because: 'Flags' object has no attribute 'c_contiguous'\n"
     ]
    },
    {
     "name": "stderr",
     "output_type": "stream",
     "text": [
      " 20%|██        | 36/180 [00:43<02:11,  1.10it/s]"
     ]
    },
    {
     "name": "stdout",
     "output_type": "stream",
     "text": [
      "remove_outliers_isolation_forest + features_selection_none + oversampling_nc_smote is invalid for this dataset because: SMOTE-NC is not designed to work only with numerical features. It requires some categorical features.\n"
     ]
    },
    {
     "name": "stderr",
     "output_type": "stream",
     "text": [
      " 23%|██▎       | 42/180 [00:49<02:15,  1.02it/s]"
     ]
    },
    {
     "name": "stdout",
     "output_type": "stream",
     "text": [
      "remove_outliers_isolation_forest + features_selection_extratrees + oversampling_nc_smote is invalid for this dataset because: SMOTE-NC is not designed to work only with numerical features. It requires some categorical features.\n"
     ]
    },
    {
     "name": "stderr",
     "output_type": "stream",
     "text": [
      " 27%|██▋       | 48/180 [00:56<02:12,  1.00s/it]"
     ]
    },
    {
     "name": "stdout",
     "output_type": "stream",
     "text": [
      "remove_outliers_isolation_forest + features_selection_mutual_information + oversampling_nc_smote is invalid for this dataset because: SMOTE-NC is not designed to work only with numerical features. It requires some categorical features.\n",
      "K-nearest-neighbor failed to train with configuration remove_outliers_isolation_forest + features_selection_rfe + oversampling_none because: 'Flags' object has no attribute 'c_contiguous'\n"
     ]
    },
    {
     "name": "stderr",
     "output_type": "stream",
     "text": [
      " 27%|██▋       | 49/180 [00:59<02:55,  1.34s/it]"
     ]
    },
    {
     "name": "stdout",
     "output_type": "stream",
     "text": [
      "K-nearest-neighbor failed to train with configuration remove_outliers_isolation_forest + features_selection_rfe + oversampling_smote because: 'Flags' object has no attribute 'c_contiguous'\n"
     ]
    },
    {
     "name": "stderr",
     "output_type": "stream",
     "text": [
      " 28%|██▊       | 50/180 [01:01<03:33,  1.65s/it]"
     ]
    },
    {
     "name": "stdout",
     "output_type": "stream",
     "text": [
      "K-nearest-neighbor failed to train with configuration remove_outliers_isolation_forest + features_selection_rfe + oversampling_svm_smote because: 'Flags' object has no attribute 'c_contiguous'\n"
     ]
    },
    {
     "name": "stderr",
     "output_type": "stream",
     "text": [
      " 28%|██▊       | 51/180 [01:03<03:53,  1.81s/it]"
     ]
    },
    {
     "name": "stdout",
     "output_type": "stream",
     "text": [
      "K-nearest-neighbor failed to train with configuration remove_outliers_isolation_forest + features_selection_rfe + oversampling_adasyn because: 'Flags' object has no attribute 'c_contiguous'\n"
     ]
    },
    {
     "name": "stderr",
     "output_type": "stream",
     "text": [
      " 29%|██▉       | 52/180 [01:05<04:03,  1.90s/it]"
     ]
    },
    {
     "name": "stdout",
     "output_type": "stream",
     "text": [
      "K-nearest-neighbor failed to train with configuration remove_outliers_isolation_forest + features_selection_rfe + oversampling_smote_borderline because: 'Flags' object has no attribute 'c_contiguous'\n"
     ]
    },
    {
     "name": "stderr",
     "output_type": "stream",
     "text": [
      " 30%|███       | 54/180 [01:08<03:30,  1.67s/it]"
     ]
    },
    {
     "name": "stdout",
     "output_type": "stream",
     "text": [
      "remove_outliers_isolation_forest + features_selection_rfe + oversampling_nc_smote is invalid for this dataset because: SMOTE-NC is not designed to work only with numerical features. It requires some categorical features.\n",
      "K-nearest-neighbor failed to train with configuration remove_outliers_isolation_forest + features_selection_variance_threshold + oversampling_none because: 'Flags' object has no attribute 'c_contiguous'\n"
     ]
    },
    {
     "name": "stderr",
     "output_type": "stream",
     "text": [
      " 31%|███       | 55/180 [01:09<03:08,  1.51s/it]"
     ]
    },
    {
     "name": "stdout",
     "output_type": "stream",
     "text": [
      "K-nearest-neighbor failed to train with configuration remove_outliers_isolation_forest + features_selection_variance_threshold + oversampling_smote because: 'Flags' object has no attribute 'c_contiguous'\n"
     ]
    },
    {
     "name": "stderr",
     "output_type": "stream",
     "text": [
      " 31%|███       | 56/180 [01:11<02:59,  1.45s/it]"
     ]
    },
    {
     "name": "stdout",
     "output_type": "stream",
     "text": [
      "K-nearest-neighbor failed to train with configuration remove_outliers_isolation_forest + features_selection_variance_threshold + oversampling_svm_smote because: 'Flags' object has no attribute 'c_contiguous'\n"
     ]
    },
    {
     "name": "stderr",
     "output_type": "stream",
     "text": [
      " 32%|███▏      | 57/180 [01:12<02:54,  1.42s/it]"
     ]
    },
    {
     "name": "stdout",
     "output_type": "stream",
     "text": [
      "K-nearest-neighbor failed to train with configuration remove_outliers_isolation_forest + features_selection_variance_threshold + oversampling_adasyn because: 'Flags' object has no attribute 'c_contiguous'\n"
     ]
    },
    {
     "name": "stderr",
     "output_type": "stream",
     "text": [
      " 32%|███▏      | 58/180 [01:13<02:50,  1.39s/it]"
     ]
    },
    {
     "name": "stdout",
     "output_type": "stream",
     "text": [
      "K-nearest-neighbor failed to train with configuration remove_outliers_isolation_forest + features_selection_variance_threshold + oversampling_smote_borderline because: 'Flags' object has no attribute 'c_contiguous'\n"
     ]
    },
    {
     "name": "stderr",
     "output_type": "stream",
     "text": [
      " 33%|███▎      | 60/180 [01:15<02:00,  1.01s/it]"
     ]
    },
    {
     "name": "stdout",
     "output_type": "stream",
     "text": [
      "remove_outliers_isolation_forest + features_selection_variance_threshold + oversampling_nc_smote is invalid for this dataset because: SMOTE-NC is not designed to work only with numerical features. It requires some categorical features.\n",
      "K-nearest-neighbor failed to train with configuration remove_outliers_zscore + features_selection_none + oversampling_none because: 'Flags' object has no attribute 'c_contiguous'\n"
     ]
    },
    {
     "name": "stderr",
     "output_type": "stream",
     "text": [
      " 34%|███▍      | 61/180 [01:16<01:54,  1.04it/s]"
     ]
    },
    {
     "name": "stdout",
     "output_type": "stream",
     "text": [
      "K-nearest-neighbor failed to train with configuration remove_outliers_zscore + features_selection_none + oversampling_smote because: 'Flags' object has no attribute 'c_contiguous'\n"
     ]
    },
    {
     "name": "stderr",
     "output_type": "stream",
     "text": [
      " 34%|███▍      | 62/180 [01:17<01:54,  1.03it/s]"
     ]
    },
    {
     "name": "stdout",
     "output_type": "stream",
     "text": [
      "K-nearest-neighbor failed to train with configuration remove_outliers_zscore + features_selection_none + oversampling_svm_smote because: 'Flags' object has no attribute 'c_contiguous'\n"
     ]
    },
    {
     "name": "stderr",
     "output_type": "stream",
     "text": [
      " 35%|███▌      | 63/180 [01:18<01:54,  1.02it/s]"
     ]
    },
    {
     "name": "stdout",
     "output_type": "stream",
     "text": [
      "K-nearest-neighbor failed to train with configuration remove_outliers_zscore + features_selection_none + oversampling_adasyn because: 'Flags' object has no attribute 'c_contiguous'\n"
     ]
    },
    {
     "name": "stderr",
     "output_type": "stream",
     "text": [
      " 36%|███▌      | 64/180 [01:19<01:52,  1.03it/s]"
     ]
    },
    {
     "name": "stdout",
     "output_type": "stream",
     "text": [
      "K-nearest-neighbor failed to train with configuration remove_outliers_zscore + features_selection_none + oversampling_smote_borderline because: 'Flags' object has no attribute 'c_contiguous'\n"
     ]
    },
    {
     "name": "stderr",
     "output_type": "stream",
     "text": [
      " 36%|███▌      | 65/180 [01:20<01:51,  1.03it/s]"
     ]
    },
    {
     "name": "stdout",
     "output_type": "stream",
     "text": [
      "remove_outliers_zscore + features_selection_none + oversampling_nc_smote is invalid for this dataset because: SMOTE-NC is not designed to work only with numerical features. It requires some categorical features.\n"
     ]
    },
    {
     "name": "stderr",
     "output_type": "stream",
     "text": [
      " 40%|████      | 72/180 [01:26<01:26,  1.24it/s]"
     ]
    },
    {
     "name": "stdout",
     "output_type": "stream",
     "text": [
      "remove_outliers_zscore + features_selection_extratrees + oversampling_nc_smote is invalid for this dataset because: SMOTE-NC is not designed to work only with numerical features. It requires some categorical features.\n"
     ]
    },
    {
     "name": "stderr",
     "output_type": "stream",
     "text": [
      " 43%|████▎     | 78/180 [01:31<01:22,  1.24it/s]"
     ]
    },
    {
     "name": "stdout",
     "output_type": "stream",
     "text": [
      "remove_outliers_zscore + features_selection_mutual_information + oversampling_nc_smote is invalid for this dataset because: SMOTE-NC is not designed to work only with numerical features. It requires some categorical features.\n",
      "K-nearest-neighbor failed to train with configuration remove_outliers_zscore + features_selection_rfe + oversampling_none because: 'Flags' object has no attribute 'c_contiguous'\n"
     ]
    },
    {
     "name": "stderr",
     "output_type": "stream",
     "text": [
      " 44%|████▍     | 79/180 [01:33<01:42,  1.02s/it]"
     ]
    },
    {
     "name": "stdout",
     "output_type": "stream",
     "text": [
      "K-nearest-neighbor failed to train with configuration remove_outliers_zscore + features_selection_rfe + oversampling_smote because: 'Flags' object has no attribute 'c_contiguous'\n"
     ]
    },
    {
     "name": "stderr",
     "output_type": "stream",
     "text": [
      " 44%|████▍     | 80/180 [01:34<02:00,  1.21s/it]"
     ]
    },
    {
     "name": "stdout",
     "output_type": "stream",
     "text": [
      "K-nearest-neighbor failed to train with configuration remove_outliers_zscore + features_selection_rfe + oversampling_svm_smote because: 'Flags' object has no attribute 'c_contiguous'\n"
     ]
    },
    {
     "name": "stderr",
     "output_type": "stream",
     "text": [
      " 45%|████▌     | 81/180 [01:36<02:13,  1.35s/it]"
     ]
    },
    {
     "name": "stdout",
     "output_type": "stream",
     "text": [
      "K-nearest-neighbor failed to train with configuration remove_outliers_zscore + features_selection_rfe + oversampling_adasyn because: 'Flags' object has no attribute 'c_contiguous'\n"
     ]
    },
    {
     "name": "stderr",
     "output_type": "stream",
     "text": [
      " 46%|████▌     | 82/180 [01:38<02:29,  1.52s/it]"
     ]
    },
    {
     "name": "stdout",
     "output_type": "stream",
     "text": [
      "K-nearest-neighbor failed to train with configuration remove_outliers_zscore + features_selection_rfe + oversampling_smote_borderline because: 'Flags' object has no attribute 'c_contiguous'\n"
     ]
    },
    {
     "name": "stderr",
     "output_type": "stream",
     "text": [
      " 47%|████▋     | 84/180 [01:41<02:08,  1.34s/it]"
     ]
    },
    {
     "name": "stdout",
     "output_type": "stream",
     "text": [
      "remove_outliers_zscore + features_selection_rfe + oversampling_nc_smote is invalid for this dataset because: SMOTE-NC is not designed to work only with numerical features. It requires some categorical features.\n",
      "K-nearest-neighbor failed to train with configuration remove_outliers_zscore + features_selection_variance_threshold + oversampling_none because: 'Flags' object has no attribute 'c_contiguous'\n"
     ]
    },
    {
     "name": "stderr",
     "output_type": "stream",
     "text": [
      " 47%|████▋     | 85/180 [01:41<01:54,  1.21s/it]"
     ]
    },
    {
     "name": "stdout",
     "output_type": "stream",
     "text": [
      "K-nearest-neighbor failed to train with configuration remove_outliers_zscore + features_selection_variance_threshold + oversampling_smote because: 'Flags' object has no attribute 'c_contiguous'\n"
     ]
    },
    {
     "name": "stderr",
     "output_type": "stream",
     "text": [
      " 48%|████▊     | 86/180 [01:42<01:48,  1.15s/it]"
     ]
    },
    {
     "name": "stdout",
     "output_type": "stream",
     "text": [
      "K-nearest-neighbor failed to train with configuration remove_outliers_zscore + features_selection_variance_threshold + oversampling_svm_smote because: 'Flags' object has no attribute 'c_contiguous'\n"
     ]
    },
    {
     "name": "stderr",
     "output_type": "stream",
     "text": [
      " 48%|████▊     | 87/180 [01:44<01:44,  1.12s/it]"
     ]
    },
    {
     "name": "stdout",
     "output_type": "stream",
     "text": [
      "K-nearest-neighbor failed to train with configuration remove_outliers_zscore + features_selection_variance_threshold + oversampling_adasyn because: 'Flags' object has no attribute 'c_contiguous'\n"
     ]
    },
    {
     "name": "stderr",
     "output_type": "stream",
     "text": [
      " 49%|████▉     | 88/180 [01:44<01:38,  1.07s/it]"
     ]
    },
    {
     "name": "stdout",
     "output_type": "stream",
     "text": [
      "K-nearest-neighbor failed to train with configuration remove_outliers_zscore + features_selection_variance_threshold + oversampling_smote_borderline because: 'Flags' object has no attribute 'c_contiguous'\n"
     ]
    },
    {
     "name": "stderr",
     "output_type": "stream",
     "text": [
      " 49%|████▉     | 89/180 [01:46<01:36,  1.06s/it]"
     ]
    },
    {
     "name": "stdout",
     "output_type": "stream",
     "text": [
      "remove_outliers_zscore + features_selection_variance_threshold + oversampling_nc_smote is invalid for this dataset because: SMOTE-NC is not designed to work only with numerical features. It requires some categorical features.\n"
     ]
    },
    {
     "name": "stderr",
     "output_type": "stream",
     "text": [
      " 51%|█████     | 91/180 [01:46<00:59,  1.49it/s]"
     ]
    },
    {
     "name": "stdout",
     "output_type": "stream",
     "text": [
      "K-nearest-neighbor failed to train with configuration remove_outliers_iqr + features_selection_none + oversampling_none because: 'Flags' object has no attribute 'c_contiguous'\n",
      "K-nearest-neighbor failed to train with configuration remove_outliers_iqr + features_selection_none + oversampling_smote because: 'Flags' object has no attribute 'c_contiguous'\n"
     ]
    },
    {
     "name": "stderr",
     "output_type": "stream",
     "text": [
      " 51%|█████     | 92/180 [01:47<01:02,  1.42it/s]"
     ]
    },
    {
     "name": "stdout",
     "output_type": "stream",
     "text": [
      "K-nearest-neighbor failed to train with configuration remove_outliers_iqr + features_selection_none + oversampling_svm_smote because: 'Flags' object has no attribute 'c_contiguous'\n"
     ]
    },
    {
     "name": "stderr",
     "output_type": "stream",
     "text": [
      " 52%|█████▏    | 93/180 [01:47<01:00,  1.43it/s]"
     ]
    },
    {
     "name": "stdout",
     "output_type": "stream",
     "text": [
      "K-nearest-neighbor failed to train with configuration remove_outliers_iqr + features_selection_none + oversampling_adasyn because: 'Flags' object has no attribute 'c_contiguous'\n"
     ]
    },
    {
     "name": "stderr",
     "output_type": "stream",
     "text": [
      " 52%|█████▏    | 94/180 [01:48<01:01,  1.39it/s]"
     ]
    },
    {
     "name": "stdout",
     "output_type": "stream",
     "text": [
      "K-nearest-neighbor failed to train with configuration remove_outliers_iqr + features_selection_none + oversampling_smote_borderline because: 'Flags' object has no attribute 'c_contiguous'\n"
     ]
    },
    {
     "name": "stderr",
     "output_type": "stream",
     "text": [
      " 53%|█████▎    | 95/180 [01:49<01:02,  1.36it/s]"
     ]
    },
    {
     "name": "stdout",
     "output_type": "stream",
     "text": [
      "remove_outliers_iqr + features_selection_none + oversampling_nc_smote is invalid for this dataset because: SMOTE-NC is not designed to work only with numerical features. It requires some categorical features.\n"
     ]
    },
    {
     "name": "stderr",
     "output_type": "stream",
     "text": [
      " 57%|█████▋    | 102/180 [01:54<00:49,  1.58it/s]"
     ]
    },
    {
     "name": "stdout",
     "output_type": "stream",
     "text": [
      "remove_outliers_iqr + features_selection_extratrees + oversampling_nc_smote is invalid for this dataset because: SMOTE-NC is not designed to work only with numerical features. It requires some categorical features.\n"
     ]
    },
    {
     "name": "stderr",
     "output_type": "stream",
     "text": [
      " 60%|██████    | 108/180 [01:58<00:43,  1.67it/s]"
     ]
    },
    {
     "name": "stdout",
     "output_type": "stream",
     "text": [
      "remove_outliers_iqr + features_selection_mutual_information + oversampling_nc_smote is invalid for this dataset because: SMOTE-NC is not designed to work only with numerical features. It requires some categorical features.\n",
      "K-nearest-neighbor failed to train with configuration remove_outliers_iqr + features_selection_rfe + oversampling_none because: 'Flags' object has no attribute 'c_contiguous'\n"
     ]
    },
    {
     "name": "stderr",
     "output_type": "stream",
     "text": [
      " 61%|██████    | 109/180 [01:59<00:50,  1.40it/s]"
     ]
    },
    {
     "name": "stdout",
     "output_type": "stream",
     "text": [
      "K-nearest-neighbor failed to train with configuration remove_outliers_iqr + features_selection_rfe + oversampling_smote because: 'Flags' object has no attribute 'c_contiguous'\n"
     ]
    },
    {
     "name": "stderr",
     "output_type": "stream",
     "text": [
      " 61%|██████    | 110/180 [02:00<01:00,  1.15it/s]"
     ]
    },
    {
     "name": "stdout",
     "output_type": "stream",
     "text": [
      "K-nearest-neighbor failed to train with configuration remove_outliers_iqr + features_selection_rfe + oversampling_svm_smote because: 'Flags' object has no attribute 'c_contiguous'\n"
     ]
    },
    {
     "name": "stderr",
     "output_type": "stream",
     "text": [
      " 62%|██████▏   | 111/180 [02:01<01:07,  1.02it/s]"
     ]
    },
    {
     "name": "stdout",
     "output_type": "stream",
     "text": [
      "K-nearest-neighbor failed to train with configuration remove_outliers_iqr + features_selection_rfe + oversampling_adasyn because: 'Flags' object has no attribute 'c_contiguous'\n"
     ]
    },
    {
     "name": "stderr",
     "output_type": "stream",
     "text": [
      " 62%|██████▏   | 112/180 [02:02<01:09,  1.02s/it]"
     ]
    },
    {
     "name": "stdout",
     "output_type": "stream",
     "text": [
      "K-nearest-neighbor failed to train with configuration remove_outliers_iqr + features_selection_rfe + oversampling_smote_borderline because: 'Flags' object has no attribute 'c_contiguous'\n"
     ]
    },
    {
     "name": "stderr",
     "output_type": "stream",
     "text": [
      " 63%|██████▎   | 114/180 [02:04<01:01,  1.08it/s]"
     ]
    },
    {
     "name": "stdout",
     "output_type": "stream",
     "text": [
      "remove_outliers_iqr + features_selection_rfe + oversampling_nc_smote is invalid for this dataset because: SMOTE-NC is not designed to work only with numerical features. It requires some categorical features.\n",
      "K-nearest-neighbor failed to train with configuration remove_outliers_iqr + features_selection_variance_threshold + oversampling_none because: 'Flags' object has no attribute 'c_contiguous'\n"
     ]
    },
    {
     "name": "stderr",
     "output_type": "stream",
     "text": [
      " 64%|██████▍   | 115/180 [02:04<00:52,  1.25it/s]"
     ]
    },
    {
     "name": "stdout",
     "output_type": "stream",
     "text": [
      "K-nearest-neighbor failed to train with configuration remove_outliers_iqr + features_selection_variance_threshold + oversampling_smote because: 'Flags' object has no attribute 'c_contiguous'\n"
     ]
    },
    {
     "name": "stderr",
     "output_type": "stream",
     "text": [
      " 64%|██████▍   | 116/180 [02:05<00:50,  1.28it/s]"
     ]
    },
    {
     "name": "stdout",
     "output_type": "stream",
     "text": [
      "K-nearest-neighbor failed to train with configuration remove_outliers_iqr + features_selection_variance_threshold + oversampling_svm_smote because: 'Flags' object has no attribute 'c_contiguous'\n"
     ]
    },
    {
     "name": "stderr",
     "output_type": "stream",
     "text": [
      " 65%|██████▌   | 117/180 [02:06<00:46,  1.36it/s]"
     ]
    },
    {
     "name": "stdout",
     "output_type": "stream",
     "text": [
      "K-nearest-neighbor failed to train with configuration remove_outliers_iqr + features_selection_variance_threshold + oversampling_adasyn because: 'Flags' object has no attribute 'c_contiguous'\n"
     ]
    },
    {
     "name": "stderr",
     "output_type": "stream",
     "text": [
      " 66%|██████▌   | 118/180 [02:07<00:45,  1.35it/s]"
     ]
    },
    {
     "name": "stdout",
     "output_type": "stream",
     "text": [
      "K-nearest-neighbor failed to train with configuration remove_outliers_iqr + features_selection_variance_threshold + oversampling_smote_borderline because: 'Flags' object has no attribute 'c_contiguous'\n"
     ]
    },
    {
     "name": "stderr",
     "output_type": "stream",
     "text": [
      " 69%|██████▉   | 125/180 [02:08<00:10,  5.02it/s]"
     ]
    },
    {
     "name": "stdout",
     "output_type": "stream",
     "text": [
      "remove_outliers_iqr + features_selection_variance_threshold + oversampling_nc_smote is invalid for this dataset because: SMOTE-NC is not designed to work only with numerical features. It requires some categorical features.\n",
      "RandomForest failed to train with configuration remove_outliers_dbscan + features_selection_none + oversampling_none because: Found array with 0 sample(s) (shape=(0, 34)) while a minimum of 1 is required by RandomForestClassifier.\n",
      "K-nearest-neighbor failed to train with configuration remove_outliers_dbscan + features_selection_none + oversampling_none because: Found array with 0 sample(s) (shape=(0, 34)) while a minimum of 1 is required by KNeighborsClassifier.\n",
      "Artificial Neural Network failed to train with configuration remove_outliers_dbscan + features_selection_none + oversampling_none because: Found array with 0 sample(s) (shape=(0, 34)) while a minimum of 1 is required by MLPClassifier.\n",
      "Decision Tree failed to train with configuration remove_outliers_dbscan + features_selection_none + oversampling_none because: Found array with 0 sample(s) (shape=(0, 34)) while a minimum of 1 is required by DecisionTreeClassifier.\n",
      "Logistic Regression failed to train with configuration remove_outliers_dbscan + features_selection_none + oversampling_none because: Found array with 0 sample(s) (shape=(0, 34)) while a minimum of 1 is required by LogisticRegression.\n",
      "Support Vector Machine failed to train with configuration remove_outliers_dbscan + features_selection_none + oversampling_none because: Found array with 0 sample(s) (shape=(0, 34)) while a minimum of 1 is required by SVC.\n",
      "Naive Bayes failed to train with configuration remove_outliers_dbscan + features_selection_none + oversampling_none because: Found array with 0 sample(s) (shape=(0, 34)) while a minimum of 1 is required by GaussianNB.\n",
      "[21:47:41] WARNING: C:\\buildkite-agent\\builds\\buildkite-windows-cpu-autoscaling-group-i-0fdc6d574b9c0d168-1\\xgboost\\xgboost-ci-windows\\src\\learner.cc:1517: Empty dataset at worker: 0\n",
      "[21:47:41] WARNING: C:\\buildkite-agent\\builds\\buildkite-windows-cpu-autoscaling-group-i-0fdc6d574b9c0d168-1\\xgboost\\xgboost-ci-windows\\src\\learner.cc:1517: Empty dataset at worker: 0\n",
      "[21:47:41] WARNING: C:\\buildkite-agent\\builds\\buildkite-windows-cpu-autoscaling-group-i-0fdc6d574b9c0d168-1\\xgboost\\xgboost-ci-windows\\src\\learner.cc:1517: Empty dataset at worker: 0\n",
      "[21:47:41] WARNING: C:\\buildkite-agent\\builds\\buildkite-windows-cpu-autoscaling-group-i-0fdc6d574b9c0d168-1\\xgboost\\xgboost-ci-windows\\src\\learner.cc:1517: Empty dataset at worker: 0\n",
      "[21:47:41] WARNING: C:\\buildkite-agent\\builds\\buildkite-windows-cpu-autoscaling-group-i-0fdc6d574b9c0d168-1\\xgboost\\xgboost-ci-windows\\src\\learner.cc:1517: Empty dataset at worker: 0\n",
      "[21:47:41] WARNING: C:\\buildkite-agent\\builds\\buildkite-windows-cpu-autoscaling-group-i-0fdc6d574b9c0d168-1\\xgboost\\xgboost-ci-windows\\src\\learner.cc:1517: Empty dataset at worker: 0\n",
      "[21:47:41] WARNING: C:\\buildkite-agent\\builds\\buildkite-windows-cpu-autoscaling-group-i-0fdc6d574b9c0d168-1\\xgboost\\xgboost-ci-windows\\src\\learner.cc:1517: Empty dataset at worker: 0\n",
      "[21:47:41] WARNING: C:\\buildkite-agent\\builds\\buildkite-windows-cpu-autoscaling-group-i-0fdc6d574b9c0d168-1\\xgboost\\xgboost-ci-windows\\src\\learner.cc:1517: Empty dataset at worker: 0\n",
      "[21:47:41] WARNING: C:\\buildkite-agent\\builds\\buildkite-windows-cpu-autoscaling-group-i-0fdc6d574b9c0d168-1\\xgboost\\xgboost-ci-windows\\src\\learner.cc:1517: Empty dataset at worker: 0\n",
      "[21:47:41] WARNING: C:\\buildkite-agent\\builds\\buildkite-windows-cpu-autoscaling-group-i-0fdc6d574b9c0d168-1\\xgboost\\xgboost-ci-windows\\src\\learner.cc:1517: Empty dataset at worker: 0\n",
      "[21:47:41] WARNING: C:\\buildkite-agent\\builds\\buildkite-windows-cpu-autoscaling-group-i-0fdc6d574b9c0d168-1\\xgboost\\xgboost-ci-windows\\src\\learner.cc:1517: Empty dataset at worker: 0\n",
      "[21:47:41] WARNING: C:\\buildkite-agent\\builds\\buildkite-windows-cpu-autoscaling-group-i-0fdc6d574b9c0d168-1\\xgboost\\xgboost-ci-windows\\src\\learner.cc:1517: Empty dataset at worker: 0\n",
      "[21:47:41] WARNING: C:\\buildkite-agent\\builds\\buildkite-windows-cpu-autoscaling-group-i-0fdc6d574b9c0d168-1\\xgboost\\xgboost-ci-windows\\src\\learner.cc:1517: Empty dataset at worker: 0\n",
      "[21:47:41] WARNING: C:\\buildkite-agent\\builds\\buildkite-windows-cpu-autoscaling-group-i-0fdc6d574b9c0d168-1\\xgboost\\xgboost-ci-windows\\src\\learner.cc:1517: Empty dataset at worker: 0\n",
      "[21:47:41] WARNING: C:\\buildkite-agent\\builds\\buildkite-windows-cpu-autoscaling-group-i-0fdc6d574b9c0d168-1\\xgboost\\xgboost-ci-windows\\src\\learner.cc:1517: Empty dataset at worker: 0\n",
      "[21:47:41] WARNING: C:\\buildkite-agent\\builds\\buildkite-windows-cpu-autoscaling-group-i-0fdc6d574b9c0d168-1\\xgboost\\xgboost-ci-windows\\src\\learner.cc:1517: Empty dataset at worker: 0\n",
      "[21:47:41] WARNING: C:\\buildkite-agent\\builds\\buildkite-windows-cpu-autoscaling-group-i-0fdc6d574b9c0d168-1\\xgboost\\xgboost-ci-windows\\src\\learner.cc:1517: Empty dataset at worker: 0\n",
      "[21:47:41] WARNING: C:\\buildkite-agent\\builds\\buildkite-windows-cpu-autoscaling-group-i-0fdc6d574b9c0d168-1\\xgboost\\xgboost-ci-windows\\src\\learner.cc:1517: Empty dataset at worker: 0\n",
      "[21:47:41] WARNING: C:\\buildkite-agent\\builds\\buildkite-windows-cpu-autoscaling-group-i-0fdc6d574b9c0d168-1\\xgboost\\xgboost-ci-windows\\src\\learner.cc:1517: Empty dataset at worker: 0\n",
      "[21:47:41] WARNING: C:\\buildkite-agent\\builds\\buildkite-windows-cpu-autoscaling-group-i-0fdc6d574b9c0d168-1\\xgboost\\xgboost-ci-windows\\src\\learner.cc:1517: Empty dataset at worker: 0\n",
      "[21:47:41] WARNING: C:\\buildkite-agent\\builds\\buildkite-windows-cpu-autoscaling-group-i-0fdc6d574b9c0d168-1\\xgboost\\xgboost-ci-windows\\src\\learner.cc:1517: Empty dataset at worker: 0\n",
      "[21:47:41] WARNING: C:\\buildkite-agent\\builds\\buildkite-windows-cpu-autoscaling-group-i-0fdc6d574b9c0d168-1\\xgboost\\xgboost-ci-windows\\src\\learner.cc:1517: Empty dataset at worker: 0\n",
      "[21:47:41] WARNING: C:\\buildkite-agent\\builds\\buildkite-windows-cpu-autoscaling-group-i-0fdc6d574b9c0d168-1\\xgboost\\xgboost-ci-windows\\src\\learner.cc:1517: Empty dataset at worker: 0\n",
      "[21:47:41] WARNING: C:\\buildkite-agent\\builds\\buildkite-windows-cpu-autoscaling-group-i-0fdc6d574b9c0d168-1\\xgboost\\xgboost-ci-windows\\src\\learner.cc:1517: Empty dataset at worker: 0\n",
      "[21:47:41] WARNING: C:\\buildkite-agent\\builds\\buildkite-windows-cpu-autoscaling-group-i-0fdc6d574b9c0d168-1\\xgboost\\xgboost-ci-windows\\src\\learner.cc:1517: Empty dataset at worker: 0\n",
      "[21:47:41] WARNING: C:\\buildkite-agent\\builds\\buildkite-windows-cpu-autoscaling-group-i-0fdc6d574b9c0d168-1\\xgboost\\xgboost-ci-windows\\src\\learner.cc:1517: Empty dataset at worker: 0\n",
      "[21:47:41] WARNING: C:\\buildkite-agent\\builds\\buildkite-windows-cpu-autoscaling-group-i-0fdc6d574b9c0d168-1\\xgboost\\xgboost-ci-windows\\src\\learner.cc:1517: Empty dataset at worker: 0\n",
      "[21:47:41] WARNING: C:\\buildkite-agent\\builds\\buildkite-windows-cpu-autoscaling-group-i-0fdc6d574b9c0d168-1\\xgboost\\xgboost-ci-windows\\src\\learner.cc:1517: Empty dataset at worker: 0\n",
      "[21:47:41] WARNING: C:\\buildkite-agent\\builds\\buildkite-windows-cpu-autoscaling-group-i-0fdc6d574b9c0d168-1\\xgboost\\xgboost-ci-windows\\src\\learner.cc:1517: Empty dataset at worker: 0\n",
      "[21:47:41] WARNING: C:\\buildkite-agent\\builds\\buildkite-windows-cpu-autoscaling-group-i-0fdc6d574b9c0d168-1\\xgboost\\xgboost-ci-windows\\src\\learner.cc:1517: Empty dataset at worker: 0\n",
      "[21:47:41] WARNING: C:\\buildkite-agent\\builds\\buildkite-windows-cpu-autoscaling-group-i-0fdc6d574b9c0d168-1\\xgboost\\xgboost-ci-windows\\src\\learner.cc:1517: Empty dataset at worker: 0\n",
      "[21:47:41] WARNING: C:\\buildkite-agent\\builds\\buildkite-windows-cpu-autoscaling-group-i-0fdc6d574b9c0d168-1\\xgboost\\xgboost-ci-windows\\src\\learner.cc:1517: Empty dataset at worker: 0\n",
      "[21:47:41] WARNING: C:\\buildkite-agent\\builds\\buildkite-windows-cpu-autoscaling-group-i-0fdc6d574b9c0d168-1\\xgboost\\xgboost-ci-windows\\src\\learner.cc:1517: Empty dataset at worker: 0\n",
      "[21:47:41] WARNING: C:\\buildkite-agent\\builds\\buildkite-windows-cpu-autoscaling-group-i-0fdc6d574b9c0d168-1\\xgboost\\xgboost-ci-windows\\src\\learner.cc:1517: Empty dataset at worker: 0\n",
      "[21:47:41] WARNING: C:\\buildkite-agent\\builds\\buildkite-windows-cpu-autoscaling-group-i-0fdc6d574b9c0d168-1\\xgboost\\xgboost-ci-windows\\src\\learner.cc:1517: Empty dataset at worker: 0\n",
      "[21:47:41] WARNING: C:\\buildkite-agent\\builds\\buildkite-windows-cpu-autoscaling-group-i-0fdc6d574b9c0d168-1\\xgboost\\xgboost-ci-windows\\src\\learner.cc:1517: Empty dataset at worker: 0\n",
      "[21:47:41] WARNING: C:\\buildkite-agent\\builds\\buildkite-windows-cpu-autoscaling-group-i-0fdc6d574b9c0d168-1\\xgboost\\xgboost-ci-windows\\src\\learner.cc:1517: Empty dataset at worker: 0\n",
      "[21:47:41] WARNING: C:\\buildkite-agent\\builds\\buildkite-windows-cpu-autoscaling-group-i-0fdc6d574b9c0d168-1\\xgboost\\xgboost-ci-windows\\src\\learner.cc:1517: Empty dataset at worker: 0\n",
      "[21:47:41] WARNING: C:\\buildkite-agent\\builds\\buildkite-windows-cpu-autoscaling-group-i-0fdc6d574b9c0d168-1\\xgboost\\xgboost-ci-windows\\src\\learner.cc:1517: Empty dataset at worker: 0\n",
      "[21:47:41] WARNING: C:\\buildkite-agent\\builds\\buildkite-windows-cpu-autoscaling-group-i-0fdc6d574b9c0d168-1\\xgboost\\xgboost-ci-windows\\src\\learner.cc:1517: Empty dataset at worker: 0\n",
      "[21:47:41] WARNING: C:\\buildkite-agent\\builds\\buildkite-windows-cpu-autoscaling-group-i-0fdc6d574b9c0d168-1\\xgboost\\xgboost-ci-windows\\src\\learner.cc:1517: Empty dataset at worker: 0\n",
      "[21:47:41] WARNING: C:\\buildkite-agent\\builds\\buildkite-windows-cpu-autoscaling-group-i-0fdc6d574b9c0d168-1\\xgboost\\xgboost-ci-windows\\src\\learner.cc:1517: Empty dataset at worker: 0\n",
      "[21:47:41] WARNING: C:\\buildkite-agent\\builds\\buildkite-windows-cpu-autoscaling-group-i-0fdc6d574b9c0d168-1\\xgboost\\xgboost-ci-windows\\src\\learner.cc:1517: Empty dataset at worker: 0\n",
      "[21:47:41] WARNING: C:\\buildkite-agent\\builds\\buildkite-windows-cpu-autoscaling-group-i-0fdc6d574b9c0d168-1\\xgboost\\xgboost-ci-windows\\src\\learner.cc:1517: Empty dataset at worker: 0\n",
      "[21:47:41] WARNING: C:\\buildkite-agent\\builds\\buildkite-windows-cpu-autoscaling-group-i-0fdc6d574b9c0d168-1\\xgboost\\xgboost-ci-windows\\src\\learner.cc:1517: Empty dataset at worker: 0\n",
      "[21:47:41] WARNING: C:\\buildkite-agent\\builds\\buildkite-windows-cpu-autoscaling-group-i-0fdc6d574b9c0d168-1\\xgboost\\xgboost-ci-windows\\src\\learner.cc:1517: Empty dataset at worker: 0\n",
      "[21:47:41] WARNING: C:\\buildkite-agent\\builds\\buildkite-windows-cpu-autoscaling-group-i-0fdc6d574b9c0d168-1\\xgboost\\xgboost-ci-windows\\src\\learner.cc:1517: Empty dataset at worker: 0\n",
      "[21:47:41] WARNING: C:\\buildkite-agent\\builds\\buildkite-windows-cpu-autoscaling-group-i-0fdc6d574b9c0d168-1\\xgboost\\xgboost-ci-windows\\src\\learner.cc:1517: Empty dataset at worker: 0\n",
      "[21:47:41] WARNING: C:\\buildkite-agent\\builds\\buildkite-windows-cpu-autoscaling-group-i-0fdc6d574b9c0d168-1\\xgboost\\xgboost-ci-windows\\src\\learner.cc:1517: Empty dataset at worker: 0\n",
      "[21:47:41] WARNING: C:\\buildkite-agent\\builds\\buildkite-windows-cpu-autoscaling-group-i-0fdc6d574b9c0d168-1\\xgboost\\xgboost-ci-windows\\src\\learner.cc:1517: Empty dataset at worker: 0\n",
      "[21:47:41] WARNING: C:\\buildkite-agent\\builds\\buildkite-windows-cpu-autoscaling-group-i-0fdc6d574b9c0d168-1\\xgboost\\xgboost-ci-windows\\src\\learner.cc:1517: Empty dataset at worker: 0\n",
      "[21:47:41] WARNING: C:\\buildkite-agent\\builds\\buildkite-windows-cpu-autoscaling-group-i-0fdc6d574b9c0d168-1\\xgboost\\xgboost-ci-windows\\src\\learner.cc:1517: Empty dataset at worker: 0\n",
      "[21:47:41] WARNING: C:\\buildkite-agent\\builds\\buildkite-windows-cpu-autoscaling-group-i-0fdc6d574b9c0d168-1\\xgboost\\xgboost-ci-windows\\src\\learner.cc:1517: Empty dataset at worker: 0\n",
      "[21:47:41] WARNING: C:\\buildkite-agent\\builds\\buildkite-windows-cpu-autoscaling-group-i-0fdc6d574b9c0d168-1\\xgboost\\xgboost-ci-windows\\src\\learner.cc:1517: Empty dataset at worker: 0\n",
      "[21:47:41] WARNING: C:\\buildkite-agent\\builds\\buildkite-windows-cpu-autoscaling-group-i-0fdc6d574b9c0d168-1\\xgboost\\xgboost-ci-windows\\src\\learner.cc:1517: Empty dataset at worker: 0\n",
      "[21:47:41] WARNING: C:\\buildkite-agent\\builds\\buildkite-windows-cpu-autoscaling-group-i-0fdc6d574b9c0d168-1\\xgboost\\xgboost-ci-windows\\src\\learner.cc:1517: Empty dataset at worker: 0\n",
      "[21:47:41] WARNING: C:\\buildkite-agent\\builds\\buildkite-windows-cpu-autoscaling-group-i-0fdc6d574b9c0d168-1\\xgboost\\xgboost-ci-windows\\src\\learner.cc:1517: Empty dataset at worker: 0\n",
      "[21:47:41] WARNING: C:\\buildkite-agent\\builds\\buildkite-windows-cpu-autoscaling-group-i-0fdc6d574b9c0d168-1\\xgboost\\xgboost-ci-windows\\src\\learner.cc:1517: Empty dataset at worker: 0\n",
      "[21:47:41] WARNING: C:\\buildkite-agent\\builds\\buildkite-windows-cpu-autoscaling-group-i-0fdc6d574b9c0d168-1\\xgboost\\xgboost-ci-windows\\src\\learner.cc:1517: Empty dataset at worker: 0\n",
      "[21:47:41] WARNING: C:\\buildkite-agent\\builds\\buildkite-windows-cpu-autoscaling-group-i-0fdc6d574b9c0d168-1\\xgboost\\xgboost-ci-windows\\src\\learner.cc:1517: Empty dataset at worker: 0\n",
      "[21:47:41] WARNING: C:\\buildkite-agent\\builds\\buildkite-windows-cpu-autoscaling-group-i-0fdc6d574b9c0d168-1\\xgboost\\xgboost-ci-windows\\src\\learner.cc:1517: Empty dataset at worker: 0\n",
      "[21:47:41] WARNING: C:\\buildkite-agent\\builds\\buildkite-windows-cpu-autoscaling-group-i-0fdc6d574b9c0d168-1\\xgboost\\xgboost-ci-windows\\src\\learner.cc:1517: Empty dataset at worker: 0\n",
      "[21:47:41] WARNING: C:\\buildkite-agent\\builds\\buildkite-windows-cpu-autoscaling-group-i-0fdc6d574b9c0d168-1\\xgboost\\xgboost-ci-windows\\src\\learner.cc:1517: Empty dataset at worker: 0\n",
      "[21:47:41] WARNING: C:\\buildkite-agent\\builds\\buildkite-windows-cpu-autoscaling-group-i-0fdc6d574b9c0d168-1\\xgboost\\xgboost-ci-windows\\src\\learner.cc:1517: Empty dataset at worker: 0\n",
      "[21:47:41] WARNING: C:\\buildkite-agent\\builds\\buildkite-windows-cpu-autoscaling-group-i-0fdc6d574b9c0d168-1\\xgboost\\xgboost-ci-windows\\src\\learner.cc:1517: Empty dataset at worker: 0\n",
      "[21:47:41] WARNING: C:\\buildkite-agent\\builds\\buildkite-windows-cpu-autoscaling-group-i-0fdc6d574b9c0d168-1\\xgboost\\xgboost-ci-windows\\src\\learner.cc:1517: Empty dataset at worker: 0\n",
      "[21:47:41] WARNING: C:\\buildkite-agent\\builds\\buildkite-windows-cpu-autoscaling-group-i-0fdc6d574b9c0d168-1\\xgboost\\xgboost-ci-windows\\src\\learner.cc:1517: Empty dataset at worker: 0\n",
      "[21:47:41] WARNING: C:\\buildkite-agent\\builds\\buildkite-windows-cpu-autoscaling-group-i-0fdc6d574b9c0d168-1\\xgboost\\xgboost-ci-windows\\src\\learner.cc:1517: Empty dataset at worker: 0\n",
      "[21:47:41] WARNING: C:\\buildkite-agent\\builds\\buildkite-windows-cpu-autoscaling-group-i-0fdc6d574b9c0d168-1\\xgboost\\xgboost-ci-windows\\src\\learner.cc:1517: Empty dataset at worker: 0\n",
      "[21:47:41] WARNING: C:\\buildkite-agent\\builds\\buildkite-windows-cpu-autoscaling-group-i-0fdc6d574b9c0d168-1\\xgboost\\xgboost-ci-windows\\src\\learner.cc:1517: Empty dataset at worker: 0\n",
      "[21:47:41] WARNING: C:\\buildkite-agent\\builds\\buildkite-windows-cpu-autoscaling-group-i-0fdc6d574b9c0d168-1\\xgboost\\xgboost-ci-windows\\src\\learner.cc:1517: Empty dataset at worker: 0\n",
      "[21:47:41] WARNING: C:\\buildkite-agent\\builds\\buildkite-windows-cpu-autoscaling-group-i-0fdc6d574b9c0d168-1\\xgboost\\xgboost-ci-windows\\src\\learner.cc:1517: Empty dataset at worker: 0\n",
      "[21:47:41] WARNING: C:\\buildkite-agent\\builds\\buildkite-windows-cpu-autoscaling-group-i-0fdc6d574b9c0d168-1\\xgboost\\xgboost-ci-windows\\src\\learner.cc:1517: Empty dataset at worker: 0\n",
      "[21:47:41] WARNING: C:\\buildkite-agent\\builds\\buildkite-windows-cpu-autoscaling-group-i-0fdc6d574b9c0d168-1\\xgboost\\xgboost-ci-windows\\src\\learner.cc:1517: Empty dataset at worker: 0\n",
      "[21:47:41] WARNING: C:\\buildkite-agent\\builds\\buildkite-windows-cpu-autoscaling-group-i-0fdc6d574b9c0d168-1\\xgboost\\xgboost-ci-windows\\src\\learner.cc:1517: Empty dataset at worker: 0\n",
      "[21:47:41] WARNING: C:\\buildkite-agent\\builds\\buildkite-windows-cpu-autoscaling-group-i-0fdc6d574b9c0d168-1\\xgboost\\xgboost-ci-windows\\src\\learner.cc:1517: Empty dataset at worker: 0\n",
      "[21:47:41] WARNING: C:\\buildkite-agent\\builds\\buildkite-windows-cpu-autoscaling-group-i-0fdc6d574b9c0d168-1\\xgboost\\xgboost-ci-windows\\src\\learner.cc:1517: Empty dataset at worker: 0\n",
      "[21:47:41] WARNING: C:\\buildkite-agent\\builds\\buildkite-windows-cpu-autoscaling-group-i-0fdc6d574b9c0d168-1\\xgboost\\xgboost-ci-windows\\src\\learner.cc:1517: Empty dataset at worker: 0\n",
      "[21:47:41] WARNING: C:\\buildkite-agent\\builds\\buildkite-windows-cpu-autoscaling-group-i-0fdc6d574b9c0d168-1\\xgboost\\xgboost-ci-windows\\src\\learner.cc:1517: Empty dataset at worker: 0\n",
      "[21:47:41] WARNING: C:\\buildkite-agent\\builds\\buildkite-windows-cpu-autoscaling-group-i-0fdc6d574b9c0d168-1\\xgboost\\xgboost-ci-windows\\src\\learner.cc:1517: Empty dataset at worker: 0\n",
      "[21:47:41] WARNING: C:\\buildkite-agent\\builds\\buildkite-windows-cpu-autoscaling-group-i-0fdc6d574b9c0d168-1\\xgboost\\xgboost-ci-windows\\src\\learner.cc:1517: Empty dataset at worker: 0\n",
      "[21:47:41] WARNING: C:\\buildkite-agent\\builds\\buildkite-windows-cpu-autoscaling-group-i-0fdc6d574b9c0d168-1\\xgboost\\xgboost-ci-windows\\src\\learner.cc:1517: Empty dataset at worker: 0\n",
      "[21:47:41] WARNING: C:\\buildkite-agent\\builds\\buildkite-windows-cpu-autoscaling-group-i-0fdc6d574b9c0d168-1\\xgboost\\xgboost-ci-windows\\src\\learner.cc:1517: Empty dataset at worker: 0\n",
      "[21:47:41] WARNING: C:\\buildkite-agent\\builds\\buildkite-windows-cpu-autoscaling-group-i-0fdc6d574b9c0d168-1\\xgboost\\xgboost-ci-windows\\src\\learner.cc:1517: Empty dataset at worker: 0\n",
      "[21:47:41] WARNING: C:\\buildkite-agent\\builds\\buildkite-windows-cpu-autoscaling-group-i-0fdc6d574b9c0d168-1\\xgboost\\xgboost-ci-windows\\src\\learner.cc:1517: Empty dataset at worker: 0\n",
      "[21:47:41] WARNING: C:\\buildkite-agent\\builds\\buildkite-windows-cpu-autoscaling-group-i-0fdc6d574b9c0d168-1\\xgboost\\xgboost-ci-windows\\src\\learner.cc:1517: Empty dataset at worker: 0\n",
      "[21:47:41] WARNING: C:\\buildkite-agent\\builds\\buildkite-windows-cpu-autoscaling-group-i-0fdc6d574b9c0d168-1\\xgboost\\xgboost-ci-windows\\src\\learner.cc:1517: Empty dataset at worker: 0\n",
      "[21:47:41] WARNING: C:\\buildkite-agent\\builds\\buildkite-windows-cpu-autoscaling-group-i-0fdc6d574b9c0d168-1\\xgboost\\xgboost-ci-windows\\src\\learner.cc:1517: Empty dataset at worker: 0\n",
      "[21:47:41] WARNING: C:\\buildkite-agent\\builds\\buildkite-windows-cpu-autoscaling-group-i-0fdc6d574b9c0d168-1\\xgboost\\xgboost-ci-windows\\src\\learner.cc:1517: Empty dataset at worker: 0\n",
      "[21:47:41] WARNING: C:\\buildkite-agent\\builds\\buildkite-windows-cpu-autoscaling-group-i-0fdc6d574b9c0d168-1\\xgboost\\xgboost-ci-windows\\src\\learner.cc:1517: Empty dataset at worker: 0\n",
      "[21:47:41] WARNING: C:\\buildkite-agent\\builds\\buildkite-windows-cpu-autoscaling-group-i-0fdc6d574b9c0d168-1\\xgboost\\xgboost-ci-windows\\src\\learner.cc:1517: Empty dataset at worker: 0\n",
      "[21:47:41] WARNING: C:\\buildkite-agent\\builds\\buildkite-windows-cpu-autoscaling-group-i-0fdc6d574b9c0d168-1\\xgboost\\xgboost-ci-windows\\src\\learner.cc:1517: Empty dataset at worker: 0\n",
      "[21:47:41] WARNING: C:\\buildkite-agent\\builds\\buildkite-windows-cpu-autoscaling-group-i-0fdc6d574b9c0d168-1\\xgboost\\xgboost-ci-windows\\src\\learner.cc:1517: Empty dataset at worker: 0\n",
      "[21:47:41] WARNING: C:\\buildkite-agent\\builds\\buildkite-windows-cpu-autoscaling-group-i-0fdc6d574b9c0d168-1\\xgboost\\xgboost-ci-windows\\src\\learner.cc:1517: Empty dataset at worker: 0\n",
      "[21:47:41] WARNING: C:\\buildkite-agent\\builds\\buildkite-windows-cpu-autoscaling-group-i-0fdc6d574b9c0d168-1\\xgboost\\xgboost-ci-windows\\src\\learner.cc:1517: Empty dataset at worker: 0\n",
      "[21:47:41] WARNING: C:\\buildkite-agent\\builds\\buildkite-windows-cpu-autoscaling-group-i-0fdc6d574b9c0d168-1\\xgboost\\xgboost-ci-windows\\src\\learner.cc:1517: Empty dataset at worker: 0\n",
      "[21:47:41] WARNING: C:\\buildkite-agent\\builds\\buildkite-windows-cpu-autoscaling-group-i-0fdc6d574b9c0d168-1\\xgboost\\xgboost-ci-windows\\src\\learner.cc:1517: Empty dataset at worker: 0\n",
      "[21:47:41] WARNING: C:\\buildkite-agent\\builds\\buildkite-windows-cpu-autoscaling-group-i-0fdc6d574b9c0d168-1\\xgboost\\xgboost-ci-windows\\src\\learner.cc:1517: Empty dataset at worker: 0\n",
      "[21:47:41] WARNING: C:\\buildkite-agent\\builds\\buildkite-windows-cpu-autoscaling-group-i-0fdc6d574b9c0d168-1\\xgboost\\xgboost-ci-windows\\src\\learner.cc:1517: Empty dataset at worker: 0\n",
      "[21:47:41] WARNING: C:\\buildkite-agent\\builds\\buildkite-windows-cpu-autoscaling-group-i-0fdc6d574b9c0d168-1\\xgboost\\xgboost-ci-windows\\src\\learner.cc:1517: Empty dataset at worker: 0\n",
      "[21:47:41] WARNING: C:\\buildkite-agent\\builds\\buildkite-windows-cpu-autoscaling-group-i-0fdc6d574b9c0d168-1\\xgboost\\xgboost-ci-windows\\src\\learner.cc:1517: Empty dataset at worker: 0\n",
      "[21:47:41] WARNING: C:\\buildkite-agent\\builds\\buildkite-windows-cpu-autoscaling-group-i-0fdc6d574b9c0d168-1\\xgboost\\xgboost-ci-windows\\src\\learner.cc:1517: Empty dataset at worker: 0\n",
      "[21:47:41] WARNING: C:\\buildkite-agent\\builds\\buildkite-windows-cpu-autoscaling-group-i-0fdc6d574b9c0d168-1\\xgboost\\xgboost-ci-windows\\src\\learner.cc:1517: Empty dataset at worker: 0\n",
      "[21:47:41] WARNING: C:\\buildkite-agent\\builds\\buildkite-windows-cpu-autoscaling-group-i-0fdc6d574b9c0d168-1\\xgboost\\xgboost-ci-windows\\src\\learner.cc:1517: Empty dataset at worker: 0\n",
      "[21:47:41] WARNING: C:\\buildkite-agent\\builds\\buildkite-windows-cpu-autoscaling-group-i-0fdc6d574b9c0d168-1\\xgboost\\xgboost-ci-windows\\src\\learner.cc:1517: Empty dataset at worker: 0\n",
      "[21:47:41] WARNING: C:\\buildkite-agent\\builds\\buildkite-windows-cpu-autoscaling-group-i-0fdc6d574b9c0d168-1\\xgboost\\xgboost-ci-windows\\src\\learner.cc:1517: Empty dataset at worker: 0\n",
      "[21:47:41] WARNING: C:\\buildkite-agent\\builds\\buildkite-windows-cpu-autoscaling-group-i-0fdc6d574b9c0d168-1\\xgboost\\xgboost-ci-windows\\src\\learner.cc:1517: Empty dataset at worker: 0\n",
      "[21:47:41] WARNING: C:\\buildkite-agent\\builds\\buildkite-windows-cpu-autoscaling-group-i-0fdc6d574b9c0d168-1\\xgboost\\xgboost-ci-windows\\src\\learner.cc:1517: Empty dataset at worker: 0\n",
      "[21:47:41] WARNING: C:\\buildkite-agent\\builds\\buildkite-windows-cpu-autoscaling-group-i-0fdc6d574b9c0d168-1\\xgboost\\xgboost-ci-windows\\src\\learner.cc:1517: Empty dataset at worker: 0\n",
      "[21:47:41] WARNING: C:\\buildkite-agent\\builds\\buildkite-windows-cpu-autoscaling-group-i-0fdc6d574b9c0d168-1\\xgboost\\xgboost-ci-windows\\src\\learner.cc:1517: Empty dataset at worker: 0\n",
      "[21:47:41] WARNING: C:\\buildkite-agent\\builds\\buildkite-windows-cpu-autoscaling-group-i-0fdc6d574b9c0d168-1\\xgboost\\xgboost-ci-windows\\src\\learner.cc:1517: Empty dataset at worker: 0\n",
      "[21:47:41] WARNING: C:\\buildkite-agent\\builds\\buildkite-windows-cpu-autoscaling-group-i-0fdc6d574b9c0d168-1\\xgboost\\xgboost-ci-windows\\src\\learner.cc:1517: Empty dataset at worker: 0\n",
      "[21:47:41] WARNING: C:\\buildkite-agent\\builds\\buildkite-windows-cpu-autoscaling-group-i-0fdc6d574b9c0d168-1\\xgboost\\xgboost-ci-windows\\src\\learner.cc:1517: Empty dataset at worker: 0\n",
      "[21:47:41] WARNING: C:\\buildkite-agent\\builds\\buildkite-windows-cpu-autoscaling-group-i-0fdc6d574b9c0d168-1\\xgboost\\xgboost-ci-windows\\src\\learner.cc:1517: Empty dataset at worker: 0\n",
      "[21:47:41] WARNING: C:\\buildkite-agent\\builds\\buildkite-windows-cpu-autoscaling-group-i-0fdc6d574b9c0d168-1\\xgboost\\xgboost-ci-windows\\src\\learner.cc:1517: Empty dataset at worker: 0\n",
      "[21:47:41] WARNING: C:\\buildkite-agent\\builds\\buildkite-windows-cpu-autoscaling-group-i-0fdc6d574b9c0d168-1\\xgboost\\xgboost-ci-windows\\src\\learner.cc:1517: Empty dataset at worker: 0\n",
      "[21:47:41] WARNING: C:\\buildkite-agent\\builds\\buildkite-windows-cpu-autoscaling-group-i-0fdc6d574b9c0d168-1\\xgboost\\xgboost-ci-windows\\src\\learner.cc:1517: Empty dataset at worker: 0\n",
      "[21:47:41] WARNING: C:\\buildkite-agent\\builds\\buildkite-windows-cpu-autoscaling-group-i-0fdc6d574b9c0d168-1\\xgboost\\xgboost-ci-windows\\src\\learner.cc:1517: Empty dataset at worker: 0\n",
      "[21:47:41] WARNING: C:\\buildkite-agent\\builds\\buildkite-windows-cpu-autoscaling-group-i-0fdc6d574b9c0d168-1\\xgboost\\xgboost-ci-windows\\src\\learner.cc:1517: Empty dataset at worker: 0\n",
      "[21:47:41] WARNING: C:\\buildkite-agent\\builds\\buildkite-windows-cpu-autoscaling-group-i-0fdc6d574b9c0d168-1\\xgboost\\xgboost-ci-windows\\src\\learner.cc:1517: Empty dataset at worker: 0\n",
      "[21:47:41] WARNING: C:\\buildkite-agent\\builds\\buildkite-windows-cpu-autoscaling-group-i-0fdc6d574b9c0d168-1\\xgboost\\xgboost-ci-windows\\src\\learner.cc:1517: Empty dataset at worker: 0\n",
      "[21:47:41] WARNING: C:\\buildkite-agent\\builds\\buildkite-windows-cpu-autoscaling-group-i-0fdc6d574b9c0d168-1\\xgboost\\xgboost-ci-windows\\src\\learner.cc:1517: Empty dataset at worker: 0\n",
      "[21:47:41] WARNING: C:\\buildkite-agent\\builds\\buildkite-windows-cpu-autoscaling-group-i-0fdc6d574b9c0d168-1\\xgboost\\xgboost-ci-windows\\src\\learner.cc:1517: Empty dataset at worker: 0\n",
      "[21:47:41] WARNING: C:\\buildkite-agent\\builds\\buildkite-windows-cpu-autoscaling-group-i-0fdc6d574b9c0d168-1\\xgboost\\xgboost-ci-windows\\src\\learner.cc:1517: Empty dataset at worker: 0\n",
      "[21:47:41] WARNING: C:\\buildkite-agent\\builds\\buildkite-windows-cpu-autoscaling-group-i-0fdc6d574b9c0d168-1\\xgboost\\xgboost-ci-windows\\src\\learner.cc:1517: Empty dataset at worker: 0\n",
      "[21:47:41] WARNING: C:\\buildkite-agent\\builds\\buildkite-windows-cpu-autoscaling-group-i-0fdc6d574b9c0d168-1\\xgboost\\xgboost-ci-windows\\src\\learner.cc:1517: Empty dataset at worker: 0\n",
      "[21:47:41] WARNING: C:\\buildkite-agent\\builds\\buildkite-windows-cpu-autoscaling-group-i-0fdc6d574b9c0d168-1\\xgboost\\xgboost-ci-windows\\src\\learner.cc:1517: Empty dataset at worker: 0\n",
      "[21:47:41] WARNING: C:\\buildkite-agent\\builds\\buildkite-windows-cpu-autoscaling-group-i-0fdc6d574b9c0d168-1\\xgboost\\xgboost-ci-windows\\src\\learner.cc:1517: Empty dataset at worker: 0\n",
      "[21:47:41] WARNING: C:\\buildkite-agent\\builds\\buildkite-windows-cpu-autoscaling-group-i-0fdc6d574b9c0d168-1\\xgboost\\xgboost-ci-windows\\src\\learner.cc:1517: Empty dataset at worker: 0\n",
      "[21:47:41] WARNING: C:\\buildkite-agent\\builds\\buildkite-windows-cpu-autoscaling-group-i-0fdc6d574b9c0d168-1\\xgboost\\xgboost-ci-windows\\src\\learner.cc:1517: Empty dataset at worker: 0\n",
      "[21:47:41] WARNING: C:\\buildkite-agent\\builds\\buildkite-windows-cpu-autoscaling-group-i-0fdc6d574b9c0d168-1\\xgboost\\xgboost-ci-windows\\src\\learner.cc:1517: Empty dataset at worker: 0\n",
      "[21:47:41] WARNING: C:\\buildkite-agent\\builds\\buildkite-windows-cpu-autoscaling-group-i-0fdc6d574b9c0d168-1\\xgboost\\xgboost-ci-windows\\src\\learner.cc:1517: Empty dataset at worker: 0\n",
      "[21:47:41] WARNING: C:\\buildkite-agent\\builds\\buildkite-windows-cpu-autoscaling-group-i-0fdc6d574b9c0d168-1\\xgboost\\xgboost-ci-windows\\src\\learner.cc:1517: Empty dataset at worker: 0\n",
      "[21:47:41] WARNING: C:\\buildkite-agent\\builds\\buildkite-windows-cpu-autoscaling-group-i-0fdc6d574b9c0d168-1\\xgboost\\xgboost-ci-windows\\src\\learner.cc:1517: Empty dataset at worker: 0\n",
      "[21:47:41] WARNING: C:\\buildkite-agent\\builds\\buildkite-windows-cpu-autoscaling-group-i-0fdc6d574b9c0d168-1\\xgboost\\xgboost-ci-windows\\src\\learner.cc:1517: Empty dataset at worker: 0\n",
      "[21:47:41] WARNING: C:\\buildkite-agent\\builds\\buildkite-windows-cpu-autoscaling-group-i-0fdc6d574b9c0d168-1\\xgboost\\xgboost-ci-windows\\src\\learner.cc:1517: Empty dataset at worker: 0\n",
      "[21:47:41] WARNING: C:\\buildkite-agent\\builds\\buildkite-windows-cpu-autoscaling-group-i-0fdc6d574b9c0d168-1\\xgboost\\xgboost-ci-windows\\src\\learner.cc:1517: Empty dataset at worker: 0\n",
      "[21:47:41] WARNING: C:\\buildkite-agent\\builds\\buildkite-windows-cpu-autoscaling-group-i-0fdc6d574b9c0d168-1\\xgboost\\xgboost-ci-windows\\src\\learner.cc:1517: Empty dataset at worker: 0\n",
      "[21:47:41] WARNING: C:\\buildkite-agent\\builds\\buildkite-windows-cpu-autoscaling-group-i-0fdc6d574b9c0d168-1\\xgboost\\xgboost-ci-windows\\src\\learner.cc:1517: Empty dataset at worker: 0\n",
      "[21:47:41] WARNING: C:\\buildkite-agent\\builds\\buildkite-windows-cpu-autoscaling-group-i-0fdc6d574b9c0d168-1\\xgboost\\xgboost-ci-windows\\src\\learner.cc:1517: Empty dataset at worker: 0\n",
      "[21:47:41] WARNING: C:\\buildkite-agent\\builds\\buildkite-windows-cpu-autoscaling-group-i-0fdc6d574b9c0d168-1\\xgboost\\xgboost-ci-windows\\src\\learner.cc:1517: Empty dataset at worker: 0\n",
      "[21:47:41] WARNING: C:\\buildkite-agent\\builds\\buildkite-windows-cpu-autoscaling-group-i-0fdc6d574b9c0d168-1\\xgboost\\xgboost-ci-windows\\src\\learner.cc:1517: Empty dataset at worker: 0\n",
      "[21:47:41] WARNING: C:\\buildkite-agent\\builds\\buildkite-windows-cpu-autoscaling-group-i-0fdc6d574b9c0d168-1\\xgboost\\xgboost-ci-windows\\src\\learner.cc:1517: Empty dataset at worker: 0\n",
      "[21:47:41] WARNING: C:\\buildkite-agent\\builds\\buildkite-windows-cpu-autoscaling-group-i-0fdc6d574b9c0d168-1\\xgboost\\xgboost-ci-windows\\src\\learner.cc:1517: Empty dataset at worker: 0\n",
      "[21:47:41] WARNING: C:\\buildkite-agent\\builds\\buildkite-windows-cpu-autoscaling-group-i-0fdc6d574b9c0d168-1\\xgboost\\xgboost-ci-windows\\src\\learner.cc:1517: Empty dataset at worker: 0\n",
      "[21:47:41] WARNING: C:\\buildkite-agent\\builds\\buildkite-windows-cpu-autoscaling-group-i-0fdc6d574b9c0d168-1\\xgboost\\xgboost-ci-windows\\src\\learner.cc:1517: Empty dataset at worker: 0\n",
      "[21:47:41] WARNING: C:\\buildkite-agent\\builds\\buildkite-windows-cpu-autoscaling-group-i-0fdc6d574b9c0d168-1\\xgboost\\xgboost-ci-windows\\src\\learner.cc:1517: Empty dataset at worker: 0\n",
      "[21:47:41] WARNING: C:\\buildkite-agent\\builds\\buildkite-windows-cpu-autoscaling-group-i-0fdc6d574b9c0d168-1\\xgboost\\xgboost-ci-windows\\src\\learner.cc:1517: Empty dataset at worker: 0\n",
      "[21:47:41] WARNING: C:\\buildkite-agent\\builds\\buildkite-windows-cpu-autoscaling-group-i-0fdc6d574b9c0d168-1\\xgboost\\xgboost-ci-windows\\src\\learner.cc:1517: Empty dataset at worker: 0\n",
      "[21:47:41] WARNING: C:\\buildkite-agent\\builds\\buildkite-windows-cpu-autoscaling-group-i-0fdc6d574b9c0d168-1\\xgboost\\xgboost-ci-windows\\src\\learner.cc:1517: Empty dataset at worker: 0\n",
      "[21:47:41] WARNING: C:\\buildkite-agent\\builds\\buildkite-windows-cpu-autoscaling-group-i-0fdc6d574b9c0d168-1\\xgboost\\xgboost-ci-windows\\src\\learner.cc:1517: Empty dataset at worker: 0\n",
      "[21:47:41] WARNING: C:\\buildkite-agent\\builds\\buildkite-windows-cpu-autoscaling-group-i-0fdc6d574b9c0d168-1\\xgboost\\xgboost-ci-windows\\src\\learner.cc:1517: Empty dataset at worker: 0\n",
      "[21:47:41] WARNING: C:\\buildkite-agent\\builds\\buildkite-windows-cpu-autoscaling-group-i-0fdc6d574b9c0d168-1\\xgboost\\xgboost-ci-windows\\src\\learner.cc:1517: Empty dataset at worker: 0\n",
      "[21:47:41] WARNING: C:\\buildkite-agent\\builds\\buildkite-windows-cpu-autoscaling-group-i-0fdc6d574b9c0d168-1\\xgboost\\xgboost-ci-windows\\src\\learner.cc:1517: Empty dataset at worker: 0\n",
      "[21:47:41] WARNING: C:\\buildkite-agent\\builds\\buildkite-windows-cpu-autoscaling-group-i-0fdc6d574b9c0d168-1\\xgboost\\xgboost-ci-windows\\src\\learner.cc:1517: Empty dataset at worker: 0\n",
      "[21:47:41] WARNING: C:\\buildkite-agent\\builds\\buildkite-windows-cpu-autoscaling-group-i-0fdc6d574b9c0d168-1\\xgboost\\xgboost-ci-windows\\src\\learner.cc:1517: Empty dataset at worker: 0\n",
      "[21:47:41] WARNING: C:\\buildkite-agent\\builds\\buildkite-windows-cpu-autoscaling-group-i-0fdc6d574b9c0d168-1\\xgboost\\xgboost-ci-windows\\src\\learner.cc:1517: Empty dataset at worker: 0\n",
      "[21:47:41] WARNING: C:\\buildkite-agent\\builds\\buildkite-windows-cpu-autoscaling-group-i-0fdc6d574b9c0d168-1\\xgboost\\xgboost-ci-windows\\src\\learner.cc:1517: Empty dataset at worker: 0\n",
      "[21:47:41] WARNING: C:\\buildkite-agent\\builds\\buildkite-windows-cpu-autoscaling-group-i-0fdc6d574b9c0d168-1\\xgboost\\xgboost-ci-windows\\src\\learner.cc:1517: Empty dataset at worker: 0\n",
      "[21:47:41] WARNING: C:\\buildkite-agent\\builds\\buildkite-windows-cpu-autoscaling-group-i-0fdc6d574b9c0d168-1\\xgboost\\xgboost-ci-windows\\src\\learner.cc:1517: Empty dataset at worker: 0\n",
      "[21:47:41] WARNING: C:\\buildkite-agent\\builds\\buildkite-windows-cpu-autoscaling-group-i-0fdc6d574b9c0d168-1\\xgboost\\xgboost-ci-windows\\src\\learner.cc:1517: Empty dataset at worker: 0\n",
      "[21:47:41] WARNING: C:\\buildkite-agent\\builds\\buildkite-windows-cpu-autoscaling-group-i-0fdc6d574b9c0d168-1\\xgboost\\xgboost-ci-windows\\src\\learner.cc:1517: Empty dataset at worker: 0\n",
      "[21:47:41] WARNING: C:\\buildkite-agent\\builds\\buildkite-windows-cpu-autoscaling-group-i-0fdc6d574b9c0d168-1\\xgboost\\xgboost-ci-windows\\src\\learner.cc:1517: Empty dataset at worker: 0\n",
      "[21:47:41] WARNING: C:\\buildkite-agent\\builds\\buildkite-windows-cpu-autoscaling-group-i-0fdc6d574b9c0d168-1\\xgboost\\xgboost-ci-windows\\src\\learner.cc:1517: Empty dataset at worker: 0\n",
      "[21:47:41] WARNING: C:\\buildkite-agent\\builds\\buildkite-windows-cpu-autoscaling-group-i-0fdc6d574b9c0d168-1\\xgboost\\xgboost-ci-windows\\src\\learner.cc:1517: Empty dataset at worker: 0\n",
      "[21:47:41] WARNING: C:\\buildkite-agent\\builds\\buildkite-windows-cpu-autoscaling-group-i-0fdc6d574b9c0d168-1\\xgboost\\xgboost-ci-windows\\src\\learner.cc:1517: Empty dataset at worker: 0\n",
      "[21:47:41] WARNING: C:\\buildkite-agent\\builds\\buildkite-windows-cpu-autoscaling-group-i-0fdc6d574b9c0d168-1\\xgboost\\xgboost-ci-windows\\src\\learner.cc:1517: Empty dataset at worker: 0\n",
      "[21:47:41] WARNING: C:\\buildkite-agent\\builds\\buildkite-windows-cpu-autoscaling-group-i-0fdc6d574b9c0d168-1\\xgboost\\xgboost-ci-windows\\src\\learner.cc:1517: Empty dataset at worker: 0\n",
      "[21:47:41] WARNING: C:\\buildkite-agent\\builds\\buildkite-windows-cpu-autoscaling-group-i-0fdc6d574b9c0d168-1\\xgboost\\xgboost-ci-windows\\src\\learner.cc:1517: Empty dataset at worker: 0\n",
      "[21:47:41] WARNING: C:\\buildkite-agent\\builds\\buildkite-windows-cpu-autoscaling-group-i-0fdc6d574b9c0d168-1\\xgboost\\xgboost-ci-windows\\src\\learner.cc:1517: Empty dataset at worker: 0\n",
      "[21:47:41] WARNING: C:\\buildkite-agent\\builds\\buildkite-windows-cpu-autoscaling-group-i-0fdc6d574b9c0d168-1\\xgboost\\xgboost-ci-windows\\src\\learner.cc:1517: Empty dataset at worker: 0\n",
      "[21:47:41] WARNING: C:\\buildkite-agent\\builds\\buildkite-windows-cpu-autoscaling-group-i-0fdc6d574b9c0d168-1\\xgboost\\xgboost-ci-windows\\src\\learner.cc:1517: Empty dataset at worker: 0\n",
      "[21:47:41] WARNING: C:\\buildkite-agent\\builds\\buildkite-windows-cpu-autoscaling-group-i-0fdc6d574b9c0d168-1\\xgboost\\xgboost-ci-windows\\src\\learner.cc:1517: Empty dataset at worker: 0\n",
      "[21:47:41] WARNING: C:\\buildkite-agent\\builds\\buildkite-windows-cpu-autoscaling-group-i-0fdc6d574b9c0d168-1\\xgboost\\xgboost-ci-windows\\src\\learner.cc:1517: Empty dataset at worker: 0\n",
      "[21:47:41] WARNING: C:\\buildkite-agent\\builds\\buildkite-windows-cpu-autoscaling-group-i-0fdc6d574b9c0d168-1\\xgboost\\xgboost-ci-windows\\src\\learner.cc:1517: Empty dataset at worker: 0\n",
      "[21:47:41] WARNING: C:\\buildkite-agent\\builds\\buildkite-windows-cpu-autoscaling-group-i-0fdc6d574b9c0d168-1\\xgboost\\xgboost-ci-windows\\src\\learner.cc:1517: Empty dataset at worker: 0\n",
      "[21:47:41] WARNING: C:\\buildkite-agent\\builds\\buildkite-windows-cpu-autoscaling-group-i-0fdc6d574b9c0d168-1\\xgboost\\xgboost-ci-windows\\src\\learner.cc:1517: Empty dataset at worker: 0\n",
      "[21:47:41] WARNING: C:\\buildkite-agent\\builds\\buildkite-windows-cpu-autoscaling-group-i-0fdc6d574b9c0d168-1\\xgboost\\xgboost-ci-windows\\src\\learner.cc:1517: Empty dataset at worker: 0\n",
      "[21:47:41] WARNING: C:\\buildkite-agent\\builds\\buildkite-windows-cpu-autoscaling-group-i-0fdc6d574b9c0d168-1\\xgboost\\xgboost-ci-windows\\src\\learner.cc:1517: Empty dataset at worker: 0\n",
      "[21:47:41] WARNING: C:\\buildkite-agent\\builds\\buildkite-windows-cpu-autoscaling-group-i-0fdc6d574b9c0d168-1\\xgboost\\xgboost-ci-windows\\src\\learner.cc:1517: Empty dataset at worker: 0\n",
      "[21:47:41] WARNING: C:\\buildkite-agent\\builds\\buildkite-windows-cpu-autoscaling-group-i-0fdc6d574b9c0d168-1\\xgboost\\xgboost-ci-windows\\src\\learner.cc:1517: Empty dataset at worker: 0\n",
      "[21:47:41] WARNING: C:\\buildkite-agent\\builds\\buildkite-windows-cpu-autoscaling-group-i-0fdc6d574b9c0d168-1\\xgboost\\xgboost-ci-windows\\src\\learner.cc:1517: Empty dataset at worker: 0\n",
      "[21:47:41] WARNING: C:\\buildkite-agent\\builds\\buildkite-windows-cpu-autoscaling-group-i-0fdc6d574b9c0d168-1\\xgboost\\xgboost-ci-windows\\src\\learner.cc:1517: Empty dataset at worker: 0\n",
      "[21:47:41] WARNING: C:\\buildkite-agent\\builds\\buildkite-windows-cpu-autoscaling-group-i-0fdc6d574b9c0d168-1\\xgboost\\xgboost-ci-windows\\src\\learner.cc:1517: Empty dataset at worker: 0\n",
      "[21:47:41] WARNING: C:\\buildkite-agent\\builds\\buildkite-windows-cpu-autoscaling-group-i-0fdc6d574b9c0d168-1\\xgboost\\xgboost-ci-windows\\src\\learner.cc:1517: Empty dataset at worker: 0\n",
      "[21:47:41] WARNING: C:\\buildkite-agent\\builds\\buildkite-windows-cpu-autoscaling-group-i-0fdc6d574b9c0d168-1\\xgboost\\xgboost-ci-windows\\src\\learner.cc:1517: Empty dataset at worker: 0\n",
      "[21:47:41] WARNING: C:\\buildkite-agent\\builds\\buildkite-windows-cpu-autoscaling-group-i-0fdc6d574b9c0d168-1\\xgboost\\xgboost-ci-windows\\src\\learner.cc:1517: Empty dataset at worker: 0\n",
      "[21:47:41] WARNING: C:\\buildkite-agent\\builds\\buildkite-windows-cpu-autoscaling-group-i-0fdc6d574b9c0d168-1\\xgboost\\xgboost-ci-windows\\src\\learner.cc:1517: Empty dataset at worker: 0\n",
      "[21:47:41] WARNING: C:\\buildkite-agent\\builds\\buildkite-windows-cpu-autoscaling-group-i-0fdc6d574b9c0d168-1\\xgboost\\xgboost-ci-windows\\src\\learner.cc:1517: Empty dataset at worker: 0\n",
      "[21:47:41] WARNING: C:\\buildkite-agent\\builds\\buildkite-windows-cpu-autoscaling-group-i-0fdc6d574b9c0d168-1\\xgboost\\xgboost-ci-windows\\src\\learner.cc:1517: Empty dataset at worker: 0\n",
      "[21:47:41] WARNING: C:\\buildkite-agent\\builds\\buildkite-windows-cpu-autoscaling-group-i-0fdc6d574b9c0d168-1\\xgboost\\xgboost-ci-windows\\src\\learner.cc:1517: Empty dataset at worker: 0\n",
      "[21:47:41] WARNING: C:\\buildkite-agent\\builds\\buildkite-windows-cpu-autoscaling-group-i-0fdc6d574b9c0d168-1\\xgboost\\xgboost-ci-windows\\src\\learner.cc:1517: Empty dataset at worker: 0\n",
      "[21:47:41] WARNING: C:\\buildkite-agent\\builds\\buildkite-windows-cpu-autoscaling-group-i-0fdc6d574b9c0d168-1\\xgboost\\xgboost-ci-windows\\src\\learner.cc:1517: Empty dataset at worker: 0\n",
      "[21:47:41] WARNING: C:\\buildkite-agent\\builds\\buildkite-windows-cpu-autoscaling-group-i-0fdc6d574b9c0d168-1\\xgboost\\xgboost-ci-windows\\src\\learner.cc:1517: Empty dataset at worker: 0\n",
      "[21:47:41] WARNING: C:\\buildkite-agent\\builds\\buildkite-windows-cpu-autoscaling-group-i-0fdc6d574b9c0d168-1\\xgboost\\xgboost-ci-windows\\src\\learner.cc:1517: Empty dataset at worker: 0\n",
      "[21:47:41] WARNING: C:\\buildkite-agent\\builds\\buildkite-windows-cpu-autoscaling-group-i-0fdc6d574b9c0d168-1\\xgboost\\xgboost-ci-windows\\src\\learner.cc:1517: Empty dataset at worker: 0\n",
      "[21:47:41] WARNING: C:\\buildkite-agent\\builds\\buildkite-windows-cpu-autoscaling-group-i-0fdc6d574b9c0d168-1\\xgboost\\xgboost-ci-windows\\src\\learner.cc:1517: Empty dataset at worker: 0\n",
      "[21:47:41] WARNING: C:\\buildkite-agent\\builds\\buildkite-windows-cpu-autoscaling-group-i-0fdc6d574b9c0d168-1\\xgboost\\xgboost-ci-windows\\src\\learner.cc:1517: Empty dataset at worker: 0\n",
      "[21:47:41] WARNING: C:\\buildkite-agent\\builds\\buildkite-windows-cpu-autoscaling-group-i-0fdc6d574b9c0d168-1\\xgboost\\xgboost-ci-windows\\src\\learner.cc:1517: Empty dataset at worker: 0\n",
      "[21:47:41] WARNING: C:\\buildkite-agent\\builds\\buildkite-windows-cpu-autoscaling-group-i-0fdc6d574b9c0d168-1\\xgboost\\xgboost-ci-windows\\src\\learner.cc:1517: Empty dataset at worker: 0\n",
      "remove_outliers_dbscan + features_selection_none + oversampling_smote is invalid for this dataset because: Found array with 0 sample(s) (shape=(0, 34)) while a minimum of 1 is required by SMOTE.\n",
      "remove_outliers_dbscan + features_selection_none + oversampling_svm_smote is invalid for this dataset because: Found array with 0 sample(s) (shape=(0, 34)) while a minimum of 1 is required by SVMSMOTE.\n",
      "remove_outliers_dbscan + features_selection_none + oversampling_adasyn is invalid for this dataset because: Found array with 0 sample(s) (shape=(0, 34)) while a minimum of 1 is required by ADASYN.\n",
      "remove_outliers_dbscan + features_selection_none + oversampling_smote_borderline is invalid for this dataset because: Found array with 0 sample(s) (shape=(0, 34)) while a minimum of 1 is required by BorderlineSMOTE.\n"
     ]
    },
    {
     "name": "stderr",
     "output_type": "stream",
     "text": [
      " 71%|███████   | 128/180 [02:08<00:07,  7.13it/s]"
     ]
    },
    {
     "name": "stdout",
     "output_type": "stream",
     "text": [
      "remove_outliers_dbscan + features_selection_none + oversampling_nc_smote is invalid for this dataset because: Found array with 0 sample(s) while a minimum of 1 is required.\n",
      "remove_outliers_dbscan + features_selection_extratrees + oversampling_none is invalid for this dataset because: Found array with 0 sample(s) (shape=(0, 34)) while a minimum of 1 is required by ExtraTreesClassifier.\n",
      "remove_outliers_dbscan + features_selection_extratrees + oversampling_smote is invalid for this dataset because: Found array with 0 sample(s) (shape=(0, 34)) while a minimum of 1 is required by ExtraTreesClassifier.\n",
      "remove_outliers_dbscan + features_selection_extratrees + oversampling_svm_smote is invalid for this dataset because: Found array with 0 sample(s) (shape=(0, 34)) while a minimum of 1 is required by ExtraTreesClassifier.\n",
      "remove_outliers_dbscan + features_selection_extratrees + oversampling_adasyn is invalid for this dataset because: Found array with 0 sample(s) (shape=(0, 34)) while a minimum of 1 is required by ExtraTreesClassifier.\n",
      "remove_outliers_dbscan + features_selection_extratrees + oversampling_smote_borderline is invalid for this dataset because: Found array with 0 sample(s) (shape=(0, 34)) while a minimum of 1 is required by ExtraTreesClassifier.\n"
     ]
    },
    {
     "name": "stderr",
     "output_type": "stream",
     "text": [
      " 76%|███████▌  | 136/180 [02:08<00:03, 14.45it/s]"
     ]
    },
    {
     "name": "stdout",
     "output_type": "stream",
     "text": [
      "remove_outliers_dbscan + features_selection_extratrees + oversampling_nc_smote is invalid for this dataset because: Found array with 0 sample(s) (shape=(0, 34)) while a minimum of 1 is required by ExtraTreesClassifier.\n",
      "remove_outliers_dbscan + features_selection_mutual_information + oversampling_none is invalid for this dataset because: Found array with 0 sample(s) (shape=(0, 34)) while a minimum of 1 is required.\n",
      "remove_outliers_dbscan + features_selection_mutual_information + oversampling_smote is invalid for this dataset because: Found array with 0 sample(s) (shape=(0, 34)) while a minimum of 1 is required.\n",
      "remove_outliers_dbscan + features_selection_mutual_information + oversampling_svm_smote is invalid for this dataset because: Found array with 0 sample(s) (shape=(0, 34)) while a minimum of 1 is required.\n",
      "remove_outliers_dbscan + features_selection_mutual_information + oversampling_adasyn is invalid for this dataset because: Found array with 0 sample(s) (shape=(0, 34)) while a minimum of 1 is required.\n",
      "remove_outliers_dbscan + features_selection_mutual_information + oversampling_smote_borderline is invalid for this dataset because: Found array with 0 sample(s) (shape=(0, 34)) while a minimum of 1 is required.\n",
      "remove_outliers_dbscan + features_selection_mutual_information + oversampling_nc_smote is invalid for this dataset because: Found array with 0 sample(s) (shape=(0, 34)) while a minimum of 1 is required.\n",
      "remove_outliers_dbscan + features_selection_rfe + oversampling_none is invalid for this dataset because: Found array with 0 sample(s) (shape=(0, 34)) while a minimum of 1 is required by RFE.\n"
     ]
    },
    {
     "name": "stderr",
     "output_type": "stream",
     "text": [
      " 80%|████████  | 144/180 [02:08<00:01, 21.44it/s]"
     ]
    },
    {
     "name": "stdout",
     "output_type": "stream",
     "text": [
      "remove_outliers_dbscan + features_selection_rfe + oversampling_smote is invalid for this dataset because: Found array with 0 sample(s) (shape=(0, 34)) while a minimum of 1 is required by RFE.\n",
      "remove_outliers_dbscan + features_selection_rfe + oversampling_svm_smote is invalid for this dataset because: Found array with 0 sample(s) (shape=(0, 34)) while a minimum of 1 is required by RFE.\n",
      "remove_outliers_dbscan + features_selection_rfe + oversampling_adasyn is invalid for this dataset because: Found array with 0 sample(s) (shape=(0, 34)) while a minimum of 1 is required by RFE.\n",
      "remove_outliers_dbscan + features_selection_rfe + oversampling_smote_borderline is invalid for this dataset because: Found array with 0 sample(s) (shape=(0, 34)) while a minimum of 1 is required by RFE.\n",
      "remove_outliers_dbscan + features_selection_rfe + oversampling_nc_smote is invalid for this dataset because: Found array with 0 sample(s) (shape=(0, 34)) while a minimum of 1 is required by RFE.\n",
      "remove_outliers_dbscan + features_selection_variance_threshold + oversampling_none is invalid for this dataset because: Found array with 0 sample(s) (shape=(0, 34)) while a minimum of 1 is required by VarianceThreshold.\n",
      "remove_outliers_dbscan + features_selection_variance_threshold + oversampling_smote is invalid for this dataset because: Found array with 0 sample(s) (shape=(0, 34)) while a minimum of 1 is required by VarianceThreshold.\n",
      "remove_outliers_dbscan + features_selection_variance_threshold + oversampling_svm_smote is invalid for this dataset because: Found array with 0 sample(s) (shape=(0, 34)) while a minimum of 1 is required by VarianceThreshold.\n"
     ]
    },
    {
     "name": "stderr",
     "output_type": "stream",
     "text": [
      " 82%|████████▏ | 148/180 [02:08<00:01, 24.43it/s]"
     ]
    },
    {
     "name": "stdout",
     "output_type": "stream",
     "text": [
      "remove_outliers_dbscan + features_selection_variance_threshold + oversampling_adasyn is invalid for this dataset because: Found array with 0 sample(s) (shape=(0, 34)) while a minimum of 1 is required by VarianceThreshold.\n",
      "remove_outliers_dbscan + features_selection_variance_threshold + oversampling_smote_borderline is invalid for this dataset because: Found array with 0 sample(s) (shape=(0, 34)) while a minimum of 1 is required by VarianceThreshold.\n",
      "remove_outliers_dbscan + features_selection_variance_threshold + oversampling_nc_smote is invalid for this dataset because: Found array with 0 sample(s) (shape=(0, 34)) while a minimum of 1 is required by VarianceThreshold.\n",
      "K-nearest-neighbor failed to train with configuration remove_outliers_lof + features_selection_none + oversampling_none because: 'Flags' object has no attribute 'c_contiguous'\n",
      "K-nearest-neighbor failed to train with configuration remove_outliers_lof + features_selection_none + oversampling_smote because: 'Flags' object has no attribute 'c_contiguous'\n"
     ]
    },
    {
     "name": "stderr",
     "output_type": "stream",
     "text": [
      " 84%|████████▍ | 152/180 [02:11<00:06,  4.57it/s]"
     ]
    },
    {
     "name": "stdout",
     "output_type": "stream",
     "text": [
      "K-nearest-neighbor failed to train with configuration remove_outliers_lof + features_selection_none + oversampling_svm_smote because: 'Flags' object has no attribute 'c_contiguous'\n",
      "K-nearest-neighbor failed to train with configuration remove_outliers_lof + features_selection_none + oversampling_adasyn because: 'Flags' object has no attribute 'c_contiguous'\n",
      "K-nearest-neighbor failed to train with configuration remove_outliers_lof + features_selection_none + oversampling_smote_borderline because: 'Flags' object has no attribute 'c_contiguous'\n"
     ]
    },
    {
     "name": "stderr",
     "output_type": "stream",
     "text": [
      " 86%|████████▌ | 155/180 [02:14<00:11,  2.16it/s]"
     ]
    },
    {
     "name": "stdout",
     "output_type": "stream",
     "text": [
      "remove_outliers_lof + features_selection_none + oversampling_nc_smote is invalid for this dataset because: SMOTE-NC is not designed to work only with numerical features. It requires some categorical features.\n"
     ]
    },
    {
     "name": "stderr",
     "output_type": "stream",
     "text": [
      " 90%|█████████ | 162/180 [02:21<00:13,  1.35it/s]"
     ]
    },
    {
     "name": "stdout",
     "output_type": "stream",
     "text": [
      "remove_outliers_lof + features_selection_extratrees + oversampling_nc_smote is invalid for this dataset because: SMOTE-NC is not designed to work only with numerical features. It requires some categorical features.\n"
     ]
    },
    {
     "name": "stderr",
     "output_type": "stream",
     "text": [
      " 93%|█████████▎| 168/180 [02:28<00:11,  1.07it/s]"
     ]
    },
    {
     "name": "stdout",
     "output_type": "stream",
     "text": [
      "remove_outliers_lof + features_selection_mutual_information + oversampling_nc_smote is invalid for this dataset because: SMOTE-NC is not designed to work only with numerical features. It requires some categorical features.\n",
      "K-nearest-neighbor failed to train with configuration remove_outliers_lof + features_selection_rfe + oversampling_none because: 'Flags' object has no attribute 'c_contiguous'\n"
     ]
    },
    {
     "name": "stderr",
     "output_type": "stream",
     "text": [
      " 94%|█████████▍| 169/180 [02:30<00:15,  1.38s/it]"
     ]
    },
    {
     "name": "stdout",
     "output_type": "stream",
     "text": [
      "K-nearest-neighbor failed to train with configuration remove_outliers_lof + features_selection_rfe + oversampling_smote because: 'Flags' object has no attribute 'c_contiguous'\n"
     ]
    },
    {
     "name": "stderr",
     "output_type": "stream",
     "text": [
      " 94%|█████████▍| 170/180 [02:32<00:16,  1.60s/it]"
     ]
    },
    {
     "name": "stdout",
     "output_type": "stream",
     "text": [
      "K-nearest-neighbor failed to train with configuration remove_outliers_lof + features_selection_rfe + oversampling_svm_smote because: 'Flags' object has no attribute 'c_contiguous'\n"
     ]
    },
    {
     "name": "stderr",
     "output_type": "stream",
     "text": [
      " 95%|█████████▌| 171/180 [02:34<00:15,  1.72s/it]"
     ]
    },
    {
     "name": "stdout",
     "output_type": "stream",
     "text": [
      "K-nearest-neighbor failed to train with configuration remove_outliers_lof + features_selection_rfe + oversampling_adasyn because: 'Flags' object has no attribute 'c_contiguous'\n"
     ]
    },
    {
     "name": "stderr",
     "output_type": "stream",
     "text": [
      " 96%|█████████▌| 172/180 [02:36<00:14,  1.81s/it]"
     ]
    },
    {
     "name": "stdout",
     "output_type": "stream",
     "text": [
      "K-nearest-neighbor failed to train with configuration remove_outliers_lof + features_selection_rfe + oversampling_smote_borderline because: 'Flags' object has no attribute 'c_contiguous'\n"
     ]
    },
    {
     "name": "stderr",
     "output_type": "stream",
     "text": [
      " 97%|█████████▋| 174/180 [02:39<00:09,  1.59s/it]"
     ]
    },
    {
     "name": "stdout",
     "output_type": "stream",
     "text": [
      "remove_outliers_lof + features_selection_rfe + oversampling_nc_smote is invalid for this dataset because: SMOTE-NC is not designed to work only with numerical features. It requires some categorical features.\n",
      "K-nearest-neighbor failed to train with configuration remove_outliers_lof + features_selection_variance_threshold + oversampling_none because: 'Flags' object has no attribute 'c_contiguous'\n"
     ]
    },
    {
     "name": "stderr",
     "output_type": "stream",
     "text": [
      " 97%|█████████▋| 175/180 [02:40<00:07,  1.44s/it]"
     ]
    },
    {
     "name": "stdout",
     "output_type": "stream",
     "text": [
      "K-nearest-neighbor failed to train with configuration remove_outliers_lof + features_selection_variance_threshold + oversampling_smote because: 'Flags' object has no attribute 'c_contiguous'\n"
     ]
    },
    {
     "name": "stderr",
     "output_type": "stream",
     "text": [
      " 98%|█████████▊| 176/180 [02:42<00:05,  1.40s/it]"
     ]
    },
    {
     "name": "stdout",
     "output_type": "stream",
     "text": [
      "K-nearest-neighbor failed to train with configuration remove_outliers_lof + features_selection_variance_threshold + oversampling_svm_smote because: 'Flags' object has no attribute 'c_contiguous'\n"
     ]
    },
    {
     "name": "stderr",
     "output_type": "stream",
     "text": [
      " 98%|█████████▊| 177/180 [02:43<00:04,  1.36s/it]"
     ]
    },
    {
     "name": "stdout",
     "output_type": "stream",
     "text": [
      "K-nearest-neighbor failed to train with configuration remove_outliers_lof + features_selection_variance_threshold + oversampling_adasyn because: 'Flags' object has no attribute 'c_contiguous'\n"
     ]
    },
    {
     "name": "stderr",
     "output_type": "stream",
     "text": [
      " 99%|█████████▉| 178/180 [02:44<00:02,  1.32s/it]"
     ]
    },
    {
     "name": "stdout",
     "output_type": "stream",
     "text": [
      "K-nearest-neighbor failed to train with configuration remove_outliers_lof + features_selection_variance_threshold + oversampling_smote_borderline because: 'Flags' object has no attribute 'c_contiguous'\n"
     ]
    },
    {
     "name": "stderr",
     "output_type": "stream",
     "text": [
      "100%|██████████| 180/180 [02:45<00:00,  1.09it/s]\n"
     ]
    },
    {
     "name": "stdout",
     "output_type": "stream",
     "text": [
      "remove_outliers_lof + features_selection_variance_threshold + oversampling_nc_smote is invalid for this dataset because: SMOTE-NC is not designed to work only with numerical features. It requires some categorical features.\n"
     ]
    }
   ],
   "source": [
    "# Define the metrics\n",
    "def compute_metrics(y_true, y_pred):\n",
    "    return {\n",
    "        \"accuracy\": accuracy_score(y_true, y_pred),\n",
    "        \"precision\": precision_score(y_true, y_pred),\n",
    "        \"recall\": recall_score(y_true, y_pred),\n",
    "        \"f1\": f1_score(y_true, y_pred),\n",
    "        \"confusion_matrix\": confusion_matrix(y_true, y_pred),\n",
    "    }\n",
    "\n",
    "\n",
    "# Training function\n",
    "def train_classifiers(X_train, y_train, X_test, y_test, config_key):\n",
    "    results = {}\n",
    "    for classifier_name, classifier_info in classifiers.items():\n",
    "        try:\n",
    "            clf = classifier_info[\"model\"]\n",
    "            clf.fit(X_train, y_train)\n",
    "            predictions = clf.predict(X_test)\n",
    "            metrics = compute_metrics(y_test, predictions)\n",
    "\n",
    "            results[classifier_name] = {\n",
    "                \"metrics\": metrics,\n",
    "                \"data\": {\n",
    "                    \"X_train\": X_train,\n",
    "                    \"y_train\": y_train,\n",
    "                    \"X_test\": X_test,\n",
    "                    \"y_test\": y_test,\n",
    "                    \"y_pred\": predictions,\n",
    "                },\n",
    "            }\n",
    "        except Exception as e:\n",
    "            print(\n",
    "                f\"{classifier_name} failed to train with configuration {config_key} because: {e}\"\n",
    "            )\n",
    "    return results\n",
    "\n",
    "\n",
    "classifiers = {\n",
    "    \"RandomForest\": {\n",
    "        \"model\": RandomForestClassifier(),\n",
    "    },\n",
    "    \"K-nearest-neighbor\": {\n",
    "        \"model\": KNeighborsClassifier(),\n",
    "    },\n",
    "    \"Artificial Neural Network\": {\n",
    "        \"model\": MLPClassifier(),\n",
    "    },\n",
    "    \"Decision Tree\": {\n",
    "        \"model\": DecisionTreeClassifier(),\n",
    "    },\n",
    "    \"Logistic Regression\": {\n",
    "        \"model\": LogisticRegression(),\n",
    "    },\n",
    "    \"Support Vector Machine\": {\n",
    "        \"model\": SVC(),  # https: //www.kaggle.com/code/sunayanagawde/ml-algorithms-usage-and-prediction?scriptVersionId=120249289&cellId=62\n",
    "    },\n",
    "    \"Naive Bayes\": {\n",
    "        \"model\": GaussianNB(),\n",
    "    },\n",
    "    \"XG-boost\": {\n",
    "        \"model\": XGBClassifier(),\n",
    "    },\n",
    "}\n",
    "\n",
    "# Main dictionary to store results\n",
    "all_results = {}\n",
    "\n",
    "for config in tqdm(PREPROCESSING_CONFIGURATIONS):\n",
    "    try:\n",
    "        config_key = _generate_config_key(config)\n",
    "        X_train, y_train, X_test, y_test = get_data_for_config(config)\n",
    "        all_results[config_key] = train_classifiers(\n",
    "            X_train, y_train, X_test, y_test, config_key\n",
    "        )\n",
    "    except Exception as e:\n",
    "        print(f\"{config_key} is invalid for this dataset because: {e}\")\n",
    "\n",
    "# Serialize results\n",
    "with open(f\"all_results.pkl\", \"wb\") as f:\n",
    "    pickle.dump(all_results, f)"
   ]
  }
 ],
 "metadata": {
  "kernelspec": {
   "display_name": "base",
   "language": "python",
   "name": "python3"
  },
  "language_info": {
   "codemirror_mode": {
    "name": "ipython",
    "version": 3
   },
   "file_extension": ".py",
   "mimetype": "text/x-python",
   "name": "python",
   "nbconvert_exporter": "python",
   "pygments_lexer": "ipython3",
   "version": "3.10.9"
  },
  "orig_nbformat": 4
 },
 "nbformat": 4,
 "nbformat_minor": 2
}

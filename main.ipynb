{
 "cells": [
  {
   "cell_type": "code",
   "execution_count": 3,
   "metadata": {},
   "outputs": [],
   "source": [
    "import pickle\n",
    "import warnings\n",
    "\n",
    "import pandas as pd\n",
    "from sklearn.ensemble import RandomForestClassifier\n",
    "from sklearn.linear_model import LogisticRegression\n",
    "from sklearn.metrics import (\n",
    "    accuracy_score,\n",
    "    confusion_matrix,\n",
    "    f1_score,\n",
    "    precision_score,\n",
    "    recall_score,\n",
    ")\n",
    "from sklearn.model_selection import train_test_split\n",
    "from sklearn.naive_bayes import GaussianNB\n",
    "from sklearn.neighbors import KNeighborsClassifier\n",
    "from sklearn.neural_network import MLPClassifier\n",
    "from sklearn.preprocessing import LabelEncoder\n",
    "from sklearn.svm import SVC\n",
    "from sklearn.tree import DecisionTreeClassifier\n",
    "from tqdm import tqdm\n",
    "from xgboost import XGBClassifier\n",
    "\n",
    "from config import *\n",
    "from preprocessing import PREPROCESSING_CONFIGURATIONS\n",
    "\n",
    "warnings.simplefilter(action=\"ignore\", category=Warning)\n",
    "\n",
    "\n",
    "def _generate_config_key(config):\n",
    "    return \" + \".join(func.__name__ for func in config)\n",
    "\n",
    "\n",
    "def _prepare_data(\n",
    "    datapath,\n",
    "    target_label,\n",
    "    columns_to_ignore=None,\n",
    "    labels_to_ignore=None,\n",
    "    test_size=0.2,\n",
    "):\n",
    "    # Read the dataset\n",
    "    df = pd.read_csv(datapath)\n",
    "\n",
    "    # Drop specified columns\n",
    "    if columns_to_ignore:\n",
    "        df.drop(columns=columns_to_ignore, inplace=True)\n",
    "\n",
    "    # Drop rows with invalid categories in the target label\n",
    "    if labels_to_ignore:\n",
    "        df = df[~df[target_label].isin(labels_to_ignore)]\n",
    "\n",
    "    # Check if target variable is categorical and convert to numerical if true\n",
    "    if df[target_label].dtype == \"object\":\n",
    "        le = LabelEncoder()\n",
    "        df[target_label] = le.fit_transform(df[target_label])\n",
    "\n",
    "    # Split features and target variable\n",
    "    X = df.drop(columns=target_label)\n",
    "    y = df[target_label]\n",
    "\n",
    "    # Split data into training and testing sets\n",
    "    X_train, X_test, y_train, y_test = train_test_split(\n",
    "        X, y, test_size=test_size, random_state=42, stratify=y\n",
    "    )\n",
    "\n",
    "    return X_train, y_train, X_test, y_test\n",
    "\n",
    "\n",
    "def _apply_techniques(config, X_train_, y_train, X_test, y_test):\n",
    "    outliers_detection_technique = config[0]\n",
    "    features_selection_technique = config[1]\n",
    "    oversampling_technique = config[2]\n",
    "\n",
    "    # Apply outlier removal\n",
    "    X_train_, y_train = outliers_detection_technique(X_train_, y_train)\n",
    "\n",
    "    # Apply features selection\n",
    "    X_train_, y_train, X_test, y_test = features_selection_technique(\n",
    "        X_train_, y_train, X_test, y_test\n",
    "    )\n",
    "\n",
    "    # Apply oversampling\n",
    "    X_train_, y_train = oversampling_technique(X_train_, y_train)\n",
    "\n",
    "    return X_train_, y_train, X_test, y_test\n",
    "\n",
    "\n",
    "def get_data_for_config(\n",
    "    config,\n",
    "    datapath,\n",
    "    target,\n",
    "    columns_to_ignore=None,\n",
    "    labels_to_ignore=None,\n",
    "    test_size=0.2,\n",
    "):\n",
    "    X_train, y_train, X_test, y_test = _prepare_data(\n",
    "        datapath=datapath,\n",
    "        columns_to_ignore=columns_to_ignore,\n",
    "        target_label=target,\n",
    "        labels_to_ignore=labels_to_ignore,\n",
    "        test_size=test_size,\n",
    "    )\n",
    "    X_train, y_train, X_test, y_test = _apply_techniques(\n",
    "        config, X_train, y_train, X_test, y_test\n",
    "    )\n",
    "    # print(f\"Size of X_train: {X_train.shape}\")\n",
    "    # print(f\"Size of y_train: {y_train.shape}\")\n",
    "    # print(f\"Size of X_test: {X_test.shape}\")\n",
    "    # print(f\"Size of y_test: {y_test.shape}\")\n",
    "    # # Printing proportions\n",
    "    # train_counts = y_train.value_counts(normalize=True)\n",
    "    # test_counts = y_test.value_counts(normalize=True)\n",
    "\n",
    "    # print(\n",
    "    #     f\"Proportion in y_train (positive:negative): {train_counts.get(1, 0):.2f} : {train_counts.get(0, 0):.2f}\"\n",
    "    # )\n",
    "    # print(\n",
    "    #     f\"Proportion in y_test (positive:negative): {test_counts.get(1, 0):.2f} : {test_counts.get(0, 0):.2f}\"\n",
    "    # )\n",
    "    return X_train, y_train, X_test, y_test"
   ]
  },
  {
   "cell_type": "code",
   "execution_count": 4,
   "metadata": {},
   "outputs": [
    {
     "name": "stderr",
     "output_type": "stream",
     "text": [
      "Dataset: kaggle:   0%|          | 0/180 [00:00<?, ?it/s]"
     ]
    },
    {
     "name": "stdout",
     "output_type": "stream",
     "text": [
      "K-nearest-neighbor failed to train with configuration remove_outliers_none + features_selection_none + oversampling_none because: 'Flags' object has no attribute 'c_contiguous'\n"
     ]
    },
    {
     "name": "stderr",
     "output_type": "stream",
     "text": [
      "Dataset: kaggle:   1%|          | 1/180 [00:01<03:15,  1.09s/it]"
     ]
    },
    {
     "name": "stdout",
     "output_type": "stream",
     "text": [
      "K-nearest-neighbor failed to train with configuration remove_outliers_none + features_selection_none + oversampling_smote because: 'Flags' object has no attribute 'c_contiguous'\n"
     ]
    },
    {
     "name": "stderr",
     "output_type": "stream",
     "text": [
      "Dataset: kaggle:   1%|          | 2/180 [00:02<03:29,  1.18s/it]"
     ]
    },
    {
     "name": "stdout",
     "output_type": "stream",
     "text": [
      "K-nearest-neighbor failed to train with configuration remove_outliers_none + features_selection_none + oversampling_svm_smote because: 'Flags' object has no attribute 'c_contiguous'\n"
     ]
    },
    {
     "name": "stderr",
     "output_type": "stream",
     "text": [
      "Dataset: kaggle:   2%|▏         | 3/180 [00:03<03:35,  1.22s/it]"
     ]
    },
    {
     "name": "stdout",
     "output_type": "stream",
     "text": [
      "K-nearest-neighbor failed to train with configuration remove_outliers_none + features_selection_none + oversampling_adasyn because: 'Flags' object has no attribute 'c_contiguous'\n"
     ]
    },
    {
     "name": "stderr",
     "output_type": "stream",
     "text": [
      "Dataset: kaggle:   2%|▏         | 4/180 [00:04<03:35,  1.23s/it]"
     ]
    },
    {
     "name": "stdout",
     "output_type": "stream",
     "text": [
      "K-nearest-neighbor failed to train with configuration remove_outliers_none + features_selection_none + oversampling_smote_borderline because: 'Flags' object has no attribute 'c_contiguous'\n"
     ]
    },
    {
     "name": "stderr",
     "output_type": "stream",
     "text": [
      "Dataset: kaggle:   3%|▎         | 5/180 [00:06<03:34,  1.23s/it]"
     ]
    },
    {
     "name": "stdout",
     "output_type": "stream",
     "text": [
      "remove_outliers_none + features_selection_none + oversampling_nc_smote is invalid for dataset kaggle because: SMOTE-NC is not designed to work only with numerical features. It requires some categorical features.\n"
     ]
    },
    {
     "name": "stderr",
     "output_type": "stream",
     "text": [
      "Dataset: kaggle:   7%|▋         | 12/180 [00:12<02:31,  1.11it/s]"
     ]
    },
    {
     "name": "stdout",
     "output_type": "stream",
     "text": [
      "remove_outliers_none + features_selection_extratrees + oversampling_nc_smote is invalid for dataset kaggle because: SMOTE-NC is not designed to work only with numerical features. It requires some categorical features.\n"
     ]
    },
    {
     "name": "stderr",
     "output_type": "stream",
     "text": [
      "Dataset: kaggle:  10%|█         | 18/180 [00:18<02:25,  1.11it/s]"
     ]
    },
    {
     "name": "stdout",
     "output_type": "stream",
     "text": [
      "remove_outliers_none + features_selection_mutual_information + oversampling_nc_smote is invalid for dataset kaggle because: SMOTE-NC is not designed to work only with numerical features. It requires some categorical features.\n",
      "K-nearest-neighbor failed to train with configuration remove_outliers_none + features_selection_rfe + oversampling_none because: 'Flags' object has no attribute 'c_contiguous'\n"
     ]
    },
    {
     "name": "stderr",
     "output_type": "stream",
     "text": [
      "Dataset: kaggle:  11%|█         | 19/180 [00:20<03:13,  1.20s/it]"
     ]
    },
    {
     "name": "stdout",
     "output_type": "stream",
     "text": [
      "K-nearest-neighbor failed to train with configuration remove_outliers_none + features_selection_rfe + oversampling_smote because: 'Flags' object has no attribute 'c_contiguous'\n"
     ]
    },
    {
     "name": "stderr",
     "output_type": "stream",
     "text": [
      "Dataset: kaggle:  11%|█         | 20/180 [00:22<03:51,  1.45s/it]"
     ]
    },
    {
     "name": "stdout",
     "output_type": "stream",
     "text": [
      "K-nearest-neighbor failed to train with configuration remove_outliers_none + features_selection_rfe + oversampling_svm_smote because: 'Flags' object has no attribute 'c_contiguous'\n"
     ]
    },
    {
     "name": "stderr",
     "output_type": "stream",
     "text": [
      "Dataset: kaggle:  12%|█▏        | 21/180 [00:24<04:19,  1.63s/it]"
     ]
    },
    {
     "name": "stdout",
     "output_type": "stream",
     "text": [
      "K-nearest-neighbor failed to train with configuration remove_outliers_none + features_selection_rfe + oversampling_adasyn because: 'Flags' object has no attribute 'c_contiguous'\n"
     ]
    },
    {
     "name": "stderr",
     "output_type": "stream",
     "text": [
      "Dataset: kaggle:  12%|█▏        | 22/180 [00:26<04:35,  1.74s/it]"
     ]
    },
    {
     "name": "stdout",
     "output_type": "stream",
     "text": [
      "K-nearest-neighbor failed to train with configuration remove_outliers_none + features_selection_rfe + oversampling_smote_borderline because: 'Flags' object has no attribute 'c_contiguous'\n"
     ]
    },
    {
     "name": "stderr",
     "output_type": "stream",
     "text": [
      "Dataset: kaggle:  13%|█▎        | 24/180 [00:29<04:03,  1.56s/it]"
     ]
    },
    {
     "name": "stdout",
     "output_type": "stream",
     "text": [
      "remove_outliers_none + features_selection_rfe + oversampling_nc_smote is invalid for dataset kaggle because: SMOTE-NC is not designed to work only with numerical features. It requires some categorical features.\n",
      "K-nearest-neighbor failed to train with configuration remove_outliers_none + features_selection_variance_threshold + oversampling_none because: 'Flags' object has no attribute 'c_contiguous'\n"
     ]
    },
    {
     "name": "stderr",
     "output_type": "stream",
     "text": [
      "Dataset: kaggle:  14%|█▍        | 25/180 [00:30<03:40,  1.42s/it]"
     ]
    },
    {
     "name": "stdout",
     "output_type": "stream",
     "text": [
      "K-nearest-neighbor failed to train with configuration remove_outliers_none + features_selection_variance_threshold + oversampling_smote because: 'Flags' object has no attribute 'c_contiguous'\n"
     ]
    },
    {
     "name": "stderr",
     "output_type": "stream",
     "text": [
      "Dataset: kaggle:  14%|█▍        | 26/180 [00:32<03:30,  1.37s/it]"
     ]
    },
    {
     "name": "stdout",
     "output_type": "stream",
     "text": [
      "K-nearest-neighbor failed to train with configuration remove_outliers_none + features_selection_variance_threshold + oversampling_svm_smote because: 'Flags' object has no attribute 'c_contiguous'\n"
     ]
    },
    {
     "name": "stderr",
     "output_type": "stream",
     "text": [
      "Dataset: kaggle:  15%|█▌        | 27/180 [00:33<03:26,  1.35s/it]"
     ]
    },
    {
     "name": "stdout",
     "output_type": "stream",
     "text": [
      "K-nearest-neighbor failed to train with configuration remove_outliers_none + features_selection_variance_threshold + oversampling_adasyn because: 'Flags' object has no attribute 'c_contiguous'\n"
     ]
    },
    {
     "name": "stderr",
     "output_type": "stream",
     "text": [
      "Dataset: kaggle:  16%|█▌        | 28/180 [00:34<03:22,  1.33s/it]"
     ]
    },
    {
     "name": "stdout",
     "output_type": "stream",
     "text": [
      "K-nearest-neighbor failed to train with configuration remove_outliers_none + features_selection_variance_threshold + oversampling_smote_borderline because: 'Flags' object has no attribute 'c_contiguous'\n"
     ]
    },
    {
     "name": "stderr",
     "output_type": "stream",
     "text": [
      "Dataset: kaggle:  16%|█▌        | 29/180 [00:35<03:16,  1.30s/it]"
     ]
    },
    {
     "name": "stdout",
     "output_type": "stream",
     "text": [
      "remove_outliers_none + features_selection_variance_threshold + oversampling_nc_smote is invalid for dataset kaggle because: SMOTE-NC is not designed to work only with numerical features. It requires some categorical features.\n",
      "K-nearest-neighbor failed to train with configuration remove_outliers_isolation_forest + features_selection_none + oversampling_none because: 'Flags' object has no attribute 'c_contiguous'\n"
     ]
    },
    {
     "name": "stderr",
     "output_type": "stream",
     "text": [
      "Dataset: kaggle:  17%|█▋        | 31/180 [00:37<02:24,  1.03it/s]"
     ]
    },
    {
     "name": "stdout",
     "output_type": "stream",
     "text": [
      "K-nearest-neighbor failed to train with configuration remove_outliers_isolation_forest + features_selection_none + oversampling_smote because: 'Flags' object has no attribute 'c_contiguous'\n"
     ]
    },
    {
     "name": "stderr",
     "output_type": "stream",
     "text": [
      "Dataset: kaggle:  18%|█▊        | 32/180 [00:38<02:37,  1.07s/it]"
     ]
    },
    {
     "name": "stdout",
     "output_type": "stream",
     "text": [
      "K-nearest-neighbor failed to train with configuration remove_outliers_isolation_forest + features_selection_none + oversampling_svm_smote because: 'Flags' object has no attribute 'c_contiguous'\n"
     ]
    },
    {
     "name": "stderr",
     "output_type": "stream",
     "text": [
      "Dataset: kaggle:  18%|█▊        | 33/180 [00:39<02:47,  1.14s/it]"
     ]
    },
    {
     "name": "stdout",
     "output_type": "stream",
     "text": [
      "K-nearest-neighbor failed to train with configuration remove_outliers_isolation_forest + features_selection_none + oversampling_adasyn because: 'Flags' object has no attribute 'c_contiguous'\n"
     ]
    },
    {
     "name": "stderr",
     "output_type": "stream",
     "text": [
      "Dataset: kaggle:  19%|█▉        | 34/180 [00:41<02:53,  1.19s/it]"
     ]
    },
    {
     "name": "stdout",
     "output_type": "stream",
     "text": [
      "K-nearest-neighbor failed to train with configuration remove_outliers_isolation_forest + features_selection_none + oversampling_smote_borderline because: 'Flags' object has no attribute 'c_contiguous'\n"
     ]
    },
    {
     "name": "stderr",
     "output_type": "stream",
     "text": [
      "Dataset: kaggle:  20%|██        | 36/180 [00:42<02:13,  1.08it/s]"
     ]
    },
    {
     "name": "stdout",
     "output_type": "stream",
     "text": [
      "remove_outliers_isolation_forest + features_selection_none + oversampling_nc_smote is invalid for dataset kaggle because: SMOTE-NC is not designed to work only with numerical features. It requires some categorical features.\n"
     ]
    },
    {
     "name": "stderr",
     "output_type": "stream",
     "text": [
      "Dataset: kaggle:  23%|██▎       | 42/180 [00:49<02:17,  1.00it/s]"
     ]
    },
    {
     "name": "stdout",
     "output_type": "stream",
     "text": [
      "remove_outliers_isolation_forest + features_selection_extratrees + oversampling_nc_smote is invalid for dataset kaggle because: SMOTE-NC is not designed to work only with numerical features. It requires some categorical features.\n"
     ]
    },
    {
     "name": "stderr",
     "output_type": "stream",
     "text": [
      "Dataset: kaggle:  27%|██▋       | 48/180 [00:56<02:12,  1.00s/it]"
     ]
    },
    {
     "name": "stdout",
     "output_type": "stream",
     "text": [
      "remove_outliers_isolation_forest + features_selection_mutual_information + oversampling_nc_smote is invalid for dataset kaggle because: SMOTE-NC is not designed to work only with numerical features. It requires some categorical features.\n",
      "K-nearest-neighbor failed to train with configuration remove_outliers_isolation_forest + features_selection_rfe + oversampling_none because: 'Flags' object has no attribute 'c_contiguous'\n"
     ]
    },
    {
     "name": "stderr",
     "output_type": "stream",
     "text": [
      "Dataset: kaggle:  27%|██▋       | 49/180 [00:58<02:47,  1.28s/it]"
     ]
    },
    {
     "name": "stdout",
     "output_type": "stream",
     "text": [
      "K-nearest-neighbor failed to train with configuration remove_outliers_isolation_forest + features_selection_rfe + oversampling_smote because: 'Flags' object has no attribute 'c_contiguous'\n"
     ]
    },
    {
     "name": "stderr",
     "output_type": "stream",
     "text": [
      "Dataset: kaggle:  28%|██▊       | 50/180 [01:00<03:13,  1.49s/it]"
     ]
    },
    {
     "name": "stdout",
     "output_type": "stream",
     "text": [
      "K-nearest-neighbor failed to train with configuration remove_outliers_isolation_forest + features_selection_rfe + oversampling_svm_smote because: 'Flags' object has no attribute 'c_contiguous'\n"
     ]
    },
    {
     "name": "stderr",
     "output_type": "stream",
     "text": [
      "Dataset: kaggle:  28%|██▊       | 51/180 [01:02<03:32,  1.65s/it]"
     ]
    },
    {
     "name": "stdout",
     "output_type": "stream",
     "text": [
      "K-nearest-neighbor failed to train with configuration remove_outliers_isolation_forest + features_selection_rfe + oversampling_adasyn because: 'Flags' object has no attribute 'c_contiguous'\n"
     ]
    },
    {
     "name": "stderr",
     "output_type": "stream",
     "text": [
      "Dataset: kaggle:  29%|██▉       | 52/180 [01:04<03:48,  1.78s/it]"
     ]
    },
    {
     "name": "stdout",
     "output_type": "stream",
     "text": [
      "K-nearest-neighbor failed to train with configuration remove_outliers_isolation_forest + features_selection_rfe + oversampling_smote_borderline because: 'Flags' object has no attribute 'c_contiguous'\n"
     ]
    },
    {
     "name": "stderr",
     "output_type": "stream",
     "text": [
      "Dataset: kaggle:  30%|███       | 54/180 [01:08<03:34,  1.70s/it]"
     ]
    },
    {
     "name": "stdout",
     "output_type": "stream",
     "text": [
      "remove_outliers_isolation_forest + features_selection_rfe + oversampling_nc_smote is invalid for dataset kaggle because: SMOTE-NC is not designed to work only with numerical features. It requires some categorical features.\n",
      "K-nearest-neighbor failed to train with configuration remove_outliers_isolation_forest + features_selection_variance_threshold + oversampling_none because: 'Flags' object has no attribute 'c_contiguous'\n"
     ]
    },
    {
     "name": "stderr",
     "output_type": "stream",
     "text": [
      "Dataset: kaggle:  31%|███       | 55/180 [01:09<03:14,  1.55s/it]"
     ]
    },
    {
     "name": "stdout",
     "output_type": "stream",
     "text": [
      "K-nearest-neighbor failed to train with configuration remove_outliers_isolation_forest + features_selection_variance_threshold + oversampling_smote because: 'Flags' object has no attribute 'c_contiguous'\n"
     ]
    },
    {
     "name": "stderr",
     "output_type": "stream",
     "text": [
      "Dataset: kaggle:  31%|███       | 56/180 [01:10<03:05,  1.50s/it]"
     ]
    },
    {
     "name": "stdout",
     "output_type": "stream",
     "text": [
      "K-nearest-neighbor failed to train with configuration remove_outliers_isolation_forest + features_selection_variance_threshold + oversampling_svm_smote because: 'Flags' object has no attribute 'c_contiguous'\n"
     ]
    },
    {
     "name": "stderr",
     "output_type": "stream",
     "text": [
      "Dataset: kaggle:  32%|███▏      | 57/180 [01:12<02:59,  1.46s/it]"
     ]
    },
    {
     "name": "stdout",
     "output_type": "stream",
     "text": [
      "K-nearest-neighbor failed to train with configuration remove_outliers_isolation_forest + features_selection_variance_threshold + oversampling_adasyn because: 'Flags' object has no attribute 'c_contiguous'\n"
     ]
    },
    {
     "name": "stderr",
     "output_type": "stream",
     "text": [
      "Dataset: kaggle:  32%|███▏      | 58/180 [01:13<02:52,  1.42s/it]"
     ]
    },
    {
     "name": "stdout",
     "output_type": "stream",
     "text": [
      "K-nearest-neighbor failed to train with configuration remove_outliers_isolation_forest + features_selection_variance_threshold + oversampling_smote_borderline because: 'Flags' object has no attribute 'c_contiguous'\n"
     ]
    },
    {
     "name": "stderr",
     "output_type": "stream",
     "text": [
      "Dataset: kaggle:  33%|███▎      | 60/180 [01:14<02:03,  1.03s/it]"
     ]
    },
    {
     "name": "stdout",
     "output_type": "stream",
     "text": [
      "remove_outliers_isolation_forest + features_selection_variance_threshold + oversampling_nc_smote is invalid for dataset kaggle because: SMOTE-NC is not designed to work only with numerical features. It requires some categorical features.\n",
      "K-nearest-neighbor failed to train with configuration remove_outliers_zscore + features_selection_none + oversampling_none because: 'Flags' object has no attribute 'c_contiguous'\n"
     ]
    },
    {
     "name": "stderr",
     "output_type": "stream",
     "text": [
      "Dataset: kaggle:  34%|███▍      | 61/180 [01:15<02:01,  1.02s/it]"
     ]
    },
    {
     "name": "stdout",
     "output_type": "stream",
     "text": [
      "K-nearest-neighbor failed to train with configuration remove_outliers_zscore + features_selection_none + oversampling_smote because: 'Flags' object has no attribute 'c_contiguous'\n"
     ]
    },
    {
     "name": "stderr",
     "output_type": "stream",
     "text": [
      "Dataset: kaggle:  34%|███▍      | 62/180 [01:16<02:03,  1.04s/it]"
     ]
    },
    {
     "name": "stdout",
     "output_type": "stream",
     "text": [
      "K-nearest-neighbor failed to train with configuration remove_outliers_zscore + features_selection_none + oversampling_svm_smote because: 'Flags' object has no attribute 'c_contiguous'\n"
     ]
    },
    {
     "name": "stderr",
     "output_type": "stream",
     "text": [
      "Dataset: kaggle:  35%|███▌      | 63/180 [01:18<02:05,  1.07s/it]"
     ]
    },
    {
     "name": "stdout",
     "output_type": "stream",
     "text": [
      "K-nearest-neighbor failed to train with configuration remove_outliers_zscore + features_selection_none + oversampling_adasyn because: 'Flags' object has no attribute 'c_contiguous'\n"
     ]
    },
    {
     "name": "stderr",
     "output_type": "stream",
     "text": [
      "Dataset: kaggle:  36%|███▌      | 64/180 [01:19<02:06,  1.09s/it]"
     ]
    },
    {
     "name": "stdout",
     "output_type": "stream",
     "text": [
      "K-nearest-neighbor failed to train with configuration remove_outliers_zscore + features_selection_none + oversampling_smote_borderline because: 'Flags' object has no attribute 'c_contiguous'\n"
     ]
    },
    {
     "name": "stderr",
     "output_type": "stream",
     "text": [
      "Dataset: kaggle:  36%|███▌      | 65/180 [01:20<02:06,  1.10s/it]"
     ]
    },
    {
     "name": "stdout",
     "output_type": "stream",
     "text": [
      "remove_outliers_zscore + features_selection_none + oversampling_nc_smote is invalid for dataset kaggle because: SMOTE-NC is not designed to work only with numerical features. It requires some categorical features.\n"
     ]
    },
    {
     "name": "stderr",
     "output_type": "stream",
     "text": [
      "Dataset: kaggle:  40%|████      | 72/180 [01:26<01:29,  1.20it/s]"
     ]
    },
    {
     "name": "stdout",
     "output_type": "stream",
     "text": [
      "remove_outliers_zscore + features_selection_extratrees + oversampling_nc_smote is invalid for dataset kaggle because: SMOTE-NC is not designed to work only with numerical features. It requires some categorical features.\n"
     ]
    },
    {
     "name": "stderr",
     "output_type": "stream",
     "text": [
      "Dataset: kaggle:  43%|████▎     | 78/180 [01:32<01:30,  1.13it/s]"
     ]
    },
    {
     "name": "stdout",
     "output_type": "stream",
     "text": [
      "remove_outliers_zscore + features_selection_mutual_information + oversampling_nc_smote is invalid for dataset kaggle because: SMOTE-NC is not designed to work only with numerical features. It requires some categorical features.\n",
      "K-nearest-neighbor failed to train with configuration remove_outliers_zscore + features_selection_rfe + oversampling_none because: 'Flags' object has no attribute 'c_contiguous'\n"
     ]
    },
    {
     "name": "stderr",
     "output_type": "stream",
     "text": [
      "Dataset: kaggle:  44%|████▍     | 79/180 [01:34<01:56,  1.16s/it]"
     ]
    },
    {
     "name": "stdout",
     "output_type": "stream",
     "text": [
      "K-nearest-neighbor failed to train with configuration remove_outliers_zscore + features_selection_rfe + oversampling_smote because: 'Flags' object has no attribute 'c_contiguous'\n"
     ]
    },
    {
     "name": "stderr",
     "output_type": "stream",
     "text": [
      "Dataset: kaggle:  44%|████▍     | 80/180 [01:36<02:16,  1.37s/it]"
     ]
    },
    {
     "name": "stdout",
     "output_type": "stream",
     "text": [
      "K-nearest-neighbor failed to train with configuration remove_outliers_zscore + features_selection_rfe + oversampling_svm_smote because: 'Flags' object has no attribute 'c_contiguous'\n"
     ]
    },
    {
     "name": "stderr",
     "output_type": "stream",
     "text": [
      "Dataset: kaggle:  45%|████▌     | 81/180 [01:38<02:31,  1.53s/it]"
     ]
    },
    {
     "name": "stdout",
     "output_type": "stream",
     "text": [
      "K-nearest-neighbor failed to train with configuration remove_outliers_zscore + features_selection_rfe + oversampling_adasyn because: 'Flags' object has no attribute 'c_contiguous'\n"
     ]
    },
    {
     "name": "stderr",
     "output_type": "stream",
     "text": [
      "Dataset: kaggle:  46%|████▌     | 82/180 [01:39<02:41,  1.64s/it]"
     ]
    },
    {
     "name": "stdout",
     "output_type": "stream",
     "text": [
      "K-nearest-neighbor failed to train with configuration remove_outliers_zscore + features_selection_rfe + oversampling_smote_borderline because: 'Flags' object has no attribute 'c_contiguous'\n"
     ]
    },
    {
     "name": "stderr",
     "output_type": "stream",
     "text": [
      "Dataset: kaggle:  47%|████▋     | 84/180 [01:42<02:20,  1.46s/it]"
     ]
    },
    {
     "name": "stdout",
     "output_type": "stream",
     "text": [
      "remove_outliers_zscore + features_selection_rfe + oversampling_nc_smote is invalid for dataset kaggle because: SMOTE-NC is not designed to work only with numerical features. It requires some categorical features.\n",
      "K-nearest-neighbor failed to train with configuration remove_outliers_zscore + features_selection_variance_threshold + oversampling_none because: 'Flags' object has no attribute 'c_contiguous'\n"
     ]
    },
    {
     "name": "stderr",
     "output_type": "stream",
     "text": [
      "Dataset: kaggle:  47%|████▋     | 85/180 [01:43<02:05,  1.32s/it]"
     ]
    },
    {
     "name": "stdout",
     "output_type": "stream",
     "text": [
      "K-nearest-neighbor failed to train with configuration remove_outliers_zscore + features_selection_variance_threshold + oversampling_smote because: 'Flags' object has no attribute 'c_contiguous'\n"
     ]
    },
    {
     "name": "stderr",
     "output_type": "stream",
     "text": [
      "Dataset: kaggle:  48%|████▊     | 86/180 [01:44<01:59,  1.28s/it]"
     ]
    },
    {
     "name": "stdout",
     "output_type": "stream",
     "text": [
      "K-nearest-neighbor failed to train with configuration remove_outliers_zscore + features_selection_variance_threshold + oversampling_svm_smote because: 'Flags' object has no attribute 'c_contiguous'\n"
     ]
    },
    {
     "name": "stderr",
     "output_type": "stream",
     "text": [
      "Dataset: kaggle:  48%|████▊     | 87/180 [01:46<01:56,  1.25s/it]"
     ]
    },
    {
     "name": "stdout",
     "output_type": "stream",
     "text": [
      "K-nearest-neighbor failed to train with configuration remove_outliers_zscore + features_selection_variance_threshold + oversampling_adasyn because: 'Flags' object has no attribute 'c_contiguous'\n"
     ]
    },
    {
     "name": "stderr",
     "output_type": "stream",
     "text": [
      "Dataset: kaggle:  49%|████▉     | 88/180 [01:47<01:53,  1.23s/it]"
     ]
    },
    {
     "name": "stdout",
     "output_type": "stream",
     "text": [
      "K-nearest-neighbor failed to train with configuration remove_outliers_zscore + features_selection_variance_threshold + oversampling_smote_borderline because: 'Flags' object has no attribute 'c_contiguous'\n"
     ]
    },
    {
     "name": "stderr",
     "output_type": "stream",
     "text": [
      "Dataset: kaggle:  50%|█████     | 90/180 [01:48<01:20,  1.12it/s]"
     ]
    },
    {
     "name": "stdout",
     "output_type": "stream",
     "text": [
      "remove_outliers_zscore + features_selection_variance_threshold + oversampling_nc_smote is invalid for dataset kaggle because: SMOTE-NC is not designed to work only with numerical features. It requires some categorical features.\n",
      "K-nearest-neighbor failed to train with configuration remove_outliers_iqr + features_selection_none + oversampling_none because: 'Flags' object has no attribute 'c_contiguous'\n"
     ]
    },
    {
     "name": "stderr",
     "output_type": "stream",
     "text": [
      "Dataset: kaggle:  51%|█████     | 91/180 [01:49<01:15,  1.17it/s]"
     ]
    },
    {
     "name": "stdout",
     "output_type": "stream",
     "text": [
      "K-nearest-neighbor failed to train with configuration remove_outliers_iqr + features_selection_none + oversampling_smote because: 'Flags' object has no attribute 'c_contiguous'\n"
     ]
    },
    {
     "name": "stderr",
     "output_type": "stream",
     "text": [
      "Dataset: kaggle:  51%|█████     | 92/180 [01:50<01:15,  1.17it/s]"
     ]
    },
    {
     "name": "stdout",
     "output_type": "stream",
     "text": [
      "K-nearest-neighbor failed to train with configuration remove_outliers_iqr + features_selection_none + oversampling_svm_smote because: 'Flags' object has no attribute 'c_contiguous'\n"
     ]
    },
    {
     "name": "stderr",
     "output_type": "stream",
     "text": [
      "Dataset: kaggle:  52%|█████▏    | 93/180 [01:50<01:10,  1.24it/s]"
     ]
    },
    {
     "name": "stdout",
     "output_type": "stream",
     "text": [
      "K-nearest-neighbor failed to train with configuration remove_outliers_iqr + features_selection_none + oversampling_adasyn because: 'Flags' object has no attribute 'c_contiguous'\n"
     ]
    },
    {
     "name": "stderr",
     "output_type": "stream",
     "text": [
      "Dataset: kaggle:  52%|█████▏    | 94/180 [01:51<01:11,  1.20it/s]"
     ]
    },
    {
     "name": "stdout",
     "output_type": "stream",
     "text": [
      "K-nearest-neighbor failed to train with configuration remove_outliers_iqr + features_selection_none + oversampling_smote_borderline because: 'Flags' object has no attribute 'c_contiguous'\n"
     ]
    },
    {
     "name": "stderr",
     "output_type": "stream",
     "text": [
      "Dataset: kaggle:  53%|█████▎    | 96/180 [01:52<00:51,  1.62it/s]"
     ]
    },
    {
     "name": "stdout",
     "output_type": "stream",
     "text": [
      "remove_outliers_iqr + features_selection_none + oversampling_nc_smote is invalid for dataset kaggle because: SMOTE-NC is not designed to work only with numerical features. It requires some categorical features.\n"
     ]
    },
    {
     "name": "stderr",
     "output_type": "stream",
     "text": [
      "Dataset: kaggle:  57%|█████▋    | 102/180 [01:57<00:54,  1.42it/s]"
     ]
    },
    {
     "name": "stdout",
     "output_type": "stream",
     "text": [
      "remove_outliers_iqr + features_selection_extratrees + oversampling_nc_smote is invalid for dataset kaggle because: SMOTE-NC is not designed to work only with numerical features. It requires some categorical features.\n"
     ]
    },
    {
     "name": "stderr",
     "output_type": "stream",
     "text": [
      "Dataset: kaggle:  60%|██████    | 108/180 [02:02<00:47,  1.51it/s]"
     ]
    },
    {
     "name": "stdout",
     "output_type": "stream",
     "text": [
      "remove_outliers_iqr + features_selection_mutual_information + oversampling_nc_smote is invalid for dataset kaggle because: SMOTE-NC is not designed to work only with numerical features. It requires some categorical features.\n",
      "K-nearest-neighbor failed to train with configuration remove_outliers_iqr + features_selection_rfe + oversampling_none because: 'Flags' object has no attribute 'c_contiguous'\n"
     ]
    },
    {
     "name": "stderr",
     "output_type": "stream",
     "text": [
      "Dataset: kaggle:  61%|██████    | 109/180 [02:03<00:53,  1.34it/s]"
     ]
    },
    {
     "name": "stdout",
     "output_type": "stream",
     "text": [
      "K-nearest-neighbor failed to train with configuration remove_outliers_iqr + features_selection_rfe + oversampling_smote because: 'Flags' object has no attribute 'c_contiguous'\n"
     ]
    },
    {
     "name": "stderr",
     "output_type": "stream",
     "text": [
      "Dataset: kaggle:  61%|██████    | 110/180 [02:04<01:05,  1.07it/s]"
     ]
    },
    {
     "name": "stdout",
     "output_type": "stream",
     "text": [
      "K-nearest-neighbor failed to train with configuration remove_outliers_iqr + features_selection_rfe + oversampling_svm_smote because: 'Flags' object has no attribute 'c_contiguous'\n"
     ]
    },
    {
     "name": "stderr",
     "output_type": "stream",
     "text": [
      "Dataset: kaggle:  62%|██████▏   | 111/180 [02:05<01:11,  1.03s/it]"
     ]
    },
    {
     "name": "stdout",
     "output_type": "stream",
     "text": [
      "K-nearest-neighbor failed to train with configuration remove_outliers_iqr + features_selection_rfe + oversampling_adasyn because: 'Flags' object has no attribute 'c_contiguous'\n"
     ]
    },
    {
     "name": "stderr",
     "output_type": "stream",
     "text": [
      "Dataset: kaggle:  62%|██████▏   | 112/180 [02:07<01:15,  1.11s/it]"
     ]
    },
    {
     "name": "stdout",
     "output_type": "stream",
     "text": [
      "K-nearest-neighbor failed to train with configuration remove_outliers_iqr + features_selection_rfe + oversampling_smote_borderline because: 'Flags' object has no attribute 'c_contiguous'\n"
     ]
    },
    {
     "name": "stderr",
     "output_type": "stream",
     "text": [
      "Dataset: kaggle:  63%|██████▎   | 114/180 [02:09<01:08,  1.03s/it]"
     ]
    },
    {
     "name": "stdout",
     "output_type": "stream",
     "text": [
      "remove_outliers_iqr + features_selection_rfe + oversampling_nc_smote is invalid for dataset kaggle because: SMOTE-NC is not designed to work only with numerical features. It requires some categorical features.\n",
      "K-nearest-neighbor failed to train with configuration remove_outliers_iqr + features_selection_variance_threshold + oversampling_none because: 'Flags' object has no attribute 'c_contiguous'\n"
     ]
    },
    {
     "name": "stderr",
     "output_type": "stream",
     "text": [
      "Dataset: kaggle:  64%|██████▍   | 115/180 [02:09<00:59,  1.09it/s]"
     ]
    },
    {
     "name": "stdout",
     "output_type": "stream",
     "text": [
      "K-nearest-neighbor failed to train with configuration remove_outliers_iqr + features_selection_variance_threshold + oversampling_smote because: 'Flags' object has no attribute 'c_contiguous'\n"
     ]
    },
    {
     "name": "stderr",
     "output_type": "stream",
     "text": [
      "Dataset: kaggle:  64%|██████▍   | 116/180 [02:10<00:57,  1.12it/s]"
     ]
    },
    {
     "name": "stdout",
     "output_type": "stream",
     "text": [
      "K-nearest-neighbor failed to train with configuration remove_outliers_iqr + features_selection_variance_threshold + oversampling_svm_smote because: 'Flags' object has no attribute 'c_contiguous'\n"
     ]
    },
    {
     "name": "stderr",
     "output_type": "stream",
     "text": [
      "Dataset: kaggle:  65%|██████▌   | 117/180 [02:11<00:54,  1.15it/s]"
     ]
    },
    {
     "name": "stdout",
     "output_type": "stream",
     "text": [
      "K-nearest-neighbor failed to train with configuration remove_outliers_iqr + features_selection_variance_threshold + oversampling_adasyn because: 'Flags' object has no attribute 'c_contiguous'\n"
     ]
    },
    {
     "name": "stderr",
     "output_type": "stream",
     "text": [
      "Dataset: kaggle:  66%|██████▌   | 118/180 [02:12<00:53,  1.15it/s]"
     ]
    },
    {
     "name": "stdout",
     "output_type": "stream",
     "text": [
      "K-nearest-neighbor failed to train with configuration remove_outliers_iqr + features_selection_variance_threshold + oversampling_smote_borderline because: 'Flags' object has no attribute 'c_contiguous'\n"
     ]
    },
    {
     "name": "stderr",
     "output_type": "stream",
     "text": [
      "Dataset: kaggle:  67%|██████▋   | 120/180 [02:13<00:38,  1.54it/s]"
     ]
    },
    {
     "name": "stdout",
     "output_type": "stream",
     "text": [
      "remove_outliers_iqr + features_selection_variance_threshold + oversampling_nc_smote is invalid for dataset kaggle because: SMOTE-NC is not designed to work only with numerical features. It requires some categorical features.\n",
      "RandomForest failed to train with configuration remove_outliers_dbscan + features_selection_none + oversampling_none because: Found array with 0 sample(s) (shape=(0, 34)) while a minimum of 1 is required by RandomForestClassifier.\n",
      "K-nearest-neighbor failed to train with configuration remove_outliers_dbscan + features_selection_none + oversampling_none because: Found array with 0 sample(s) (shape=(0, 34)) while a minimum of 1 is required by KNeighborsClassifier.\n",
      "Artificial Neural Network failed to train with configuration remove_outliers_dbscan + features_selection_none + oversampling_none because: Found array with 0 sample(s) (shape=(0, 34)) while a minimum of 1 is required by MLPClassifier.\n",
      "Decision Tree failed to train with configuration remove_outliers_dbscan + features_selection_none + oversampling_none because: Found array with 0 sample(s) (shape=(0, 34)) while a minimum of 1 is required by DecisionTreeClassifier.\n",
      "Logistic Regression failed to train with configuration remove_outliers_dbscan + features_selection_none + oversampling_none because: Found array with 0 sample(s) (shape=(0, 34)) while a minimum of 1 is required by LogisticRegression.\n",
      "Support Vector Machine failed to train with configuration remove_outliers_dbscan + features_selection_none + oversampling_none because: Found array with 0 sample(s) (shape=(0, 34)) while a minimum of 1 is required by SVC.\n",
      "Naive Bayes failed to train with configuration remove_outliers_dbscan + features_selection_none + oversampling_none because: Found array with 0 sample(s) (shape=(0, 34)) while a minimum of 1 is required by GaussianNB.\n",
      "[22:08:56] WARNING: C:\\buildkite-agent\\builds\\buildkite-windows-cpu-autoscaling-group-i-0fdc6d574b9c0d168-1\\xgboost\\xgboost-ci-windows\\src\\learner.cc:1517: Empty dataset at worker: 0\n",
      "[22:08:56] WARNING: C:\\buildkite-agent\\builds\\buildkite-windows-cpu-autoscaling-group-i-0fdc6d574b9c0d168-1\\xgboost\\xgboost-ci-windows\\src\\learner.cc:1517: Empty dataset at worker: 0\n",
      "[22:08:56] WARNING: C:\\buildkite-agent\\builds\\buildkite-windows-cpu-autoscaling-group-i-0fdc6d574b9c0d168-1\\xgboost\\xgboost-ci-windows\\src\\learner.cc:1517: Empty dataset at worker: 0\n",
      "[22:08:56] WARNING: C:\\buildkite-agent\\builds\\buildkite-windows-cpu-autoscaling-group-i-0fdc6d574b9c0d168-1\\xgboost\\xgboost-ci-windows\\src\\learner.cc:1517: Empty dataset at worker: 0\n",
      "[22:08:56] WARNING: C:\\buildkite-agent\\builds\\buildkite-windows-cpu-autoscaling-group-i-0fdc6d574b9c0d168-1\\xgboost\\xgboost-ci-windows\\src\\learner.cc:1517: Empty dataset at worker: 0\n",
      "[22:08:56] WARNING: C:\\buildkite-agent\\builds\\buildkite-windows-cpu-autoscaling-group-i-0fdc6d574b9c0d168-1\\xgboost\\xgboost-ci-windows\\src\\learner.cc:1517: Empty dataset at worker: 0\n",
      "[22:08:56] WARNING: C:\\buildkite-agent\\builds\\buildkite-windows-cpu-autoscaling-group-i-0fdc6d574b9c0d168-1\\xgboost\\xgboost-ci-windows\\src\\learner.cc:1517: Empty dataset at worker: 0\n",
      "[22:08:56] WARNING: C:\\buildkite-agent\\builds\\buildkite-windows-cpu-autoscaling-group-i-0fdc6d574b9c0d168-1\\xgboost\\xgboost-ci-windows\\src\\learner.cc:1517: Empty dataset at worker: 0\n",
      "[22:08:56] WARNING: C:\\buildkite-agent\\builds\\buildkite-windows-cpu-autoscaling-group-i-0fdc6d574b9c0d168-1\\xgboost\\xgboost-ci-windows\\src\\learner.cc:1517: Empty dataset at worker: 0\n",
      "[22:08:56] WARNING: C:\\buildkite-agent\\builds\\buildkite-windows-cpu-autoscaling-group-i-0fdc6d574b9c0d168-1\\xgboost\\xgboost-ci-windows\\src\\learner.cc:1517: Empty dataset at worker: 0\n",
      "[22:08:56] WARNING: C:\\buildkite-agent\\builds\\buildkite-windows-cpu-autoscaling-group-i-0fdc6d574b9c0d168-1\\xgboost\\xgboost-ci-windows\\src\\learner.cc:1517: Empty dataset at worker: 0\n",
      "[22:08:56] WARNING: C:\\buildkite-agent\\builds\\buildkite-windows-cpu-autoscaling-group-i-0fdc6d574b9c0d168-1\\xgboost\\xgboost-ci-windows\\src\\learner.cc:1517: Empty dataset at worker: 0\n",
      "[22:08:56] WARNING: C:\\buildkite-agent\\builds\\buildkite-windows-cpu-autoscaling-group-i-0fdc6d574b9c0d168-1\\xgboost\\xgboost-ci-windows\\src\\learner.cc:1517: Empty dataset at worker: 0\n",
      "[22:08:56] WARNING: C:\\buildkite-agent\\builds\\buildkite-windows-cpu-autoscaling-group-i-0fdc6d574b9c0d168-1\\xgboost\\xgboost-ci-windows\\src\\learner.cc:1517: Empty dataset at worker: 0\n",
      "[22:08:56] WARNING: C:\\buildkite-agent\\builds\\buildkite-windows-cpu-autoscaling-group-i-0fdc6d574b9c0d168-1\\xgboost\\xgboost-ci-windows\\src\\learner.cc:1517: Empty dataset at worker: 0\n",
      "[22:08:56] WARNING: C:\\buildkite-agent\\builds\\buildkite-windows-cpu-autoscaling-group-i-0fdc6d574b9c0d168-1\\xgboost\\xgboost-ci-windows\\src\\learner.cc:1517: Empty dataset at worker: 0\n",
      "[22:08:56] WARNING: C:\\buildkite-agent\\builds\\buildkite-windows-cpu-autoscaling-group-i-0fdc6d574b9c0d168-1\\xgboost\\xgboost-ci-windows\\src\\learner.cc:1517: Empty dataset at worker: 0\n",
      "[22:08:56] WARNING: C:\\buildkite-agent\\builds\\buildkite-windows-cpu-autoscaling-group-i-0fdc6d574b9c0d168-1\\xgboost\\xgboost-ci-windows\\src\\learner.cc:1517: Empty dataset at worker: 0\n",
      "[22:08:56] WARNING: C:\\buildkite-agent\\builds\\buildkite-windows-cpu-autoscaling-group-i-0fdc6d574b9c0d168-1\\xgboost\\xgboost-ci-windows\\src\\learner.cc:1517: Empty dataset at worker: 0\n",
      "[22:08:56] WARNING: C:\\buildkite-agent\\builds\\buildkite-windows-cpu-autoscaling-group-i-0fdc6d574b9c0d168-1\\xgboost\\xgboost-ci-windows\\src\\learner.cc:1517: Empty dataset at worker: 0\n",
      "[22:08:56] WARNING: C:\\buildkite-agent\\builds\\buildkite-windows-cpu-autoscaling-group-i-0fdc6d574b9c0d168-1\\xgboost\\xgboost-ci-windows\\src\\learner.cc:1517: Empty dataset at worker: 0\n",
      "[22:08:56] WARNING: C:\\buildkite-agent\\builds\\buildkite-windows-cpu-autoscaling-group-i-0fdc6d574b9c0d168-1\\xgboost\\xgboost-ci-windows\\src\\learner.cc:1517: Empty dataset at worker: 0\n",
      "[22:08:56] WARNING: C:\\buildkite-agent\\builds\\buildkite-windows-cpu-autoscaling-group-i-0fdc6d574b9c0d168-1\\xgboost\\xgboost-ci-windows\\src\\learner.cc:1517: Empty dataset at worker: 0\n",
      "[22:08:56] WARNING: C:\\buildkite-agent\\builds\\buildkite-windows-cpu-autoscaling-group-i-0fdc6d574b9c0d168-1\\xgboost\\xgboost-ci-windows\\src\\learner.cc:1517: Empty dataset at worker: 0\n",
      "[22:08:56] WARNING: C:\\buildkite-agent\\builds\\buildkite-windows-cpu-autoscaling-group-i-0fdc6d574b9c0d168-1\\xgboost\\xgboost-ci-windows\\src\\learner.cc:1517: Empty dataset at worker: 0\n",
      "[22:08:56] WARNING: C:\\buildkite-agent\\builds\\buildkite-windows-cpu-autoscaling-group-i-0fdc6d574b9c0d168-1\\xgboost\\xgboost-ci-windows\\src\\learner.cc:1517: Empty dataset at worker: 0\n",
      "[22:08:56] WARNING: C:\\buildkite-agent\\builds\\buildkite-windows-cpu-autoscaling-group-i-0fdc6d574b9c0d168-1\\xgboost\\xgboost-ci-windows\\src\\learner.cc:1517: Empty dataset at worker: 0\n",
      "[22:08:56] WARNING: C:\\buildkite-agent\\builds\\buildkite-windows-cpu-autoscaling-group-i-0fdc6d574b9c0d168-1\\xgboost\\xgboost-ci-windows\\src\\learner.cc:1517: Empty dataset at worker: 0\n",
      "[22:08:56] WARNING: C:\\buildkite-agent\\builds\\buildkite-windows-cpu-autoscaling-group-i-0fdc6d574b9c0d168-1\\xgboost\\xgboost-ci-windows\\src\\learner.cc:1517: Empty dataset at worker: 0\n",
      "[22:08:56] WARNING: C:\\buildkite-agent\\builds\\buildkite-windows-cpu-autoscaling-group-i-0fdc6d574b9c0d168-1\\xgboost\\xgboost-ci-windows\\src\\learner.cc:1517: Empty dataset at worker: 0\n",
      "[22:08:56] WARNING: C:\\buildkite-agent\\builds\\buildkite-windows-cpu-autoscaling-group-i-0fdc6d574b9c0d168-1\\xgboost\\xgboost-ci-windows\\src\\learner.cc:1517: Empty dataset at worker: 0\n",
      "[22:08:56] WARNING: C:\\buildkite-agent\\builds\\buildkite-windows-cpu-autoscaling-group-i-0fdc6d574b9c0d168-1\\xgboost\\xgboost-ci-windows\\src\\learner.cc:1517: Empty dataset at worker: 0\n",
      "[22:08:56] WARNING: C:\\buildkite-agent\\builds\\buildkite-windows-cpu-autoscaling-group-i-0fdc6d574b9c0d168-1\\xgboost\\xgboost-ci-windows\\src\\learner.cc:1517: Empty dataset at worker: 0\n",
      "[22:08:56] WARNING: C:\\buildkite-agent\\builds\\buildkite-windows-cpu-autoscaling-group-i-0fdc6d574b9c0d168-1\\xgboost\\xgboost-ci-windows\\src\\learner.cc:1517: Empty dataset at worker: 0\n",
      "[22:08:56] WARNING: C:\\buildkite-agent\\builds\\buildkite-windows-cpu-autoscaling-group-i-0fdc6d574b9c0d168-1\\xgboost\\xgboost-ci-windows\\src\\learner.cc:1517: Empty dataset at worker: 0\n",
      "[22:08:56] WARNING: C:\\buildkite-agent\\builds\\buildkite-windows-cpu-autoscaling-group-i-0fdc6d574b9c0d168-1\\xgboost\\xgboost-ci-windows\\src\\learner.cc:1517: Empty dataset at worker: 0\n",
      "[22:08:56] WARNING: C:\\buildkite-agent\\builds\\buildkite-windows-cpu-autoscaling-group-i-0fdc6d574b9c0d168-1\\xgboost\\xgboost-ci-windows\\src\\learner.cc:1517: Empty dataset at worker: 0\n",
      "[22:08:56] WARNING: C:\\buildkite-agent\\builds\\buildkite-windows-cpu-autoscaling-group-i-0fdc6d574b9c0d168-1\\xgboost\\xgboost-ci-windows\\src\\learner.cc:1517: Empty dataset at worker: 0\n",
      "[22:08:56] WARNING: C:\\buildkite-agent\\builds\\buildkite-windows-cpu-autoscaling-group-i-0fdc6d574b9c0d168-1\\xgboost\\xgboost-ci-windows\\src\\learner.cc:1517: Empty dataset at worker: 0\n",
      "[22:08:56] WARNING: C:\\buildkite-agent\\builds\\buildkite-windows-cpu-autoscaling-group-i-0fdc6d574b9c0d168-1\\xgboost\\xgboost-ci-windows\\src\\learner.cc:1517: Empty dataset at worker: 0\n",
      "[22:08:56] WARNING: C:\\buildkite-agent\\builds\\buildkite-windows-cpu-autoscaling-group-i-0fdc6d574b9c0d168-1\\xgboost\\xgboost-ci-windows\\src\\learner.cc:1517: Empty dataset at worker: 0\n",
      "[22:08:56] WARNING: C:\\buildkite-agent\\builds\\buildkite-windows-cpu-autoscaling-group-i-0fdc6d574b9c0d168-1\\xgboost\\xgboost-ci-windows\\src\\learner.cc:1517: Empty dataset at worker: 0\n",
      "[22:08:56] WARNING: C:\\buildkite-agent\\builds\\buildkite-windows-cpu-autoscaling-group-i-0fdc6d574b9c0d168-1\\xgboost\\xgboost-ci-windows\\src\\learner.cc:1517: Empty dataset at worker: 0\n",
      "[22:08:56] WARNING: C:\\buildkite-agent\\builds\\buildkite-windows-cpu-autoscaling-group-i-0fdc6d574b9c0d168-1\\xgboost\\xgboost-ci-windows\\src\\learner.cc:1517: Empty dataset at worker: 0\n",
      "[22:08:56] WARNING: C:\\buildkite-agent\\builds\\buildkite-windows-cpu-autoscaling-group-i-0fdc6d574b9c0d168-1\\xgboost\\xgboost-ci-windows\\src\\learner.cc:1517: Empty dataset at worker: 0\n",
      "[22:08:56] WARNING: C:\\buildkite-agent\\builds\\buildkite-windows-cpu-autoscaling-group-i-0fdc6d574b9c0d168-1\\xgboost\\xgboost-ci-windows\\src\\learner.cc:1517: Empty dataset at worker: 0\n",
      "[22:08:56] WARNING: C:\\buildkite-agent\\builds\\buildkite-windows-cpu-autoscaling-group-i-0fdc6d574b9c0d168-1\\xgboost\\xgboost-ci-windows\\src\\learner.cc:1517: Empty dataset at worker: 0\n",
      "[22:08:56] WARNING: C:\\buildkite-agent\\builds\\buildkite-windows-cpu-autoscaling-group-i-0fdc6d574b9c0d168-1\\xgboost\\xgboost-ci-windows\\src\\learner.cc:1517: Empty dataset at worker: 0\n",
      "[22:08:56] WARNING: C:\\buildkite-agent\\builds\\buildkite-windows-cpu-autoscaling-group-i-0fdc6d574b9c0d168-1\\xgboost\\xgboost-ci-windows\\src\\learner.cc:1517: Empty dataset at worker: 0\n",
      "[22:08:56] WARNING: C:\\buildkite-agent\\builds\\buildkite-windows-cpu-autoscaling-group-i-0fdc6d574b9c0d168-1\\xgboost\\xgboost-ci-windows\\src\\learner.cc:1517: Empty dataset at worker: 0\n",
      "[22:08:56] WARNING: C:\\buildkite-agent\\builds\\buildkite-windows-cpu-autoscaling-group-i-0fdc6d574b9c0d168-1\\xgboost\\xgboost-ci-windows\\src\\learner.cc:1517: Empty dataset at worker: 0\n",
      "[22:08:56] WARNING: C:\\buildkite-agent\\builds\\buildkite-windows-cpu-autoscaling-group-i-0fdc6d574b9c0d168-1\\xgboost\\xgboost-ci-windows\\src\\learner.cc:1517: Empty dataset at worker: 0\n",
      "[22:08:56] WARNING: C:\\buildkite-agent\\builds\\buildkite-windows-cpu-autoscaling-group-i-0fdc6d574b9c0d168-1\\xgboost\\xgboost-ci-windows\\src\\learner.cc:1517: Empty dataset at worker: 0\n",
      "[22:08:56] WARNING: C:\\buildkite-agent\\builds\\buildkite-windows-cpu-autoscaling-group-i-0fdc6d574b9c0d168-1\\xgboost\\xgboost-ci-windows\\src\\learner.cc:1517: Empty dataset at worker: 0\n",
      "[22:08:56] WARNING: C:\\buildkite-agent\\builds\\buildkite-windows-cpu-autoscaling-group-i-0fdc6d574b9c0d168-1\\xgboost\\xgboost-ci-windows\\src\\learner.cc:1517: Empty dataset at worker: 0\n",
      "[22:08:56] WARNING: C:\\buildkite-agent\\builds\\buildkite-windows-cpu-autoscaling-group-i-0fdc6d574b9c0d168-1\\xgboost\\xgboost-ci-windows\\src\\learner.cc:1517: Empty dataset at worker: 0\n",
      "[22:08:56] WARNING: C:\\buildkite-agent\\builds\\buildkite-windows-cpu-autoscaling-group-i-0fdc6d574b9c0d168-1\\xgboost\\xgboost-ci-windows\\src\\learner.cc:1517: Empty dataset at worker: 0\n",
      "[22:08:56] WARNING: C:\\buildkite-agent\\builds\\buildkite-windows-cpu-autoscaling-group-i-0fdc6d574b9c0d168-1\\xgboost\\xgboost-ci-windows\\src\\learner.cc:1517: Empty dataset at worker: 0\n",
      "[22:08:56] WARNING: C:\\buildkite-agent\\builds\\buildkite-windows-cpu-autoscaling-group-i-0fdc6d574b9c0d168-1\\xgboost\\xgboost-ci-windows\\src\\learner.cc:1517: Empty dataset at worker: 0\n",
      "[22:08:56] WARNING: C:\\buildkite-agent\\builds\\buildkite-windows-cpu-autoscaling-group-i-0fdc6d574b9c0d168-1\\xgboost\\xgboost-ci-windows\\src\\learner.cc:1517: Empty dataset at worker: 0\n",
      "[22:08:56] WARNING: C:\\buildkite-agent\\builds\\buildkite-windows-cpu-autoscaling-group-i-0fdc6d574b9c0d168-1\\xgboost\\xgboost-ci-windows\\src\\learner.cc:1517: Empty dataset at worker: 0\n",
      "[22:08:56] WARNING: C:\\buildkite-agent\\builds\\buildkite-windows-cpu-autoscaling-group-i-0fdc6d574b9c0d168-1\\xgboost\\xgboost-ci-windows\\src\\learner.cc:1517: Empty dataset at worker: 0\n",
      "[22:08:56] WARNING: C:\\buildkite-agent\\builds\\buildkite-windows-cpu-autoscaling-group-i-0fdc6d574b9c0d168-1\\xgboost\\xgboost-ci-windows\\src\\learner.cc:1517: Empty dataset at worker: 0\n",
      "[22:08:56] WARNING: C:\\buildkite-agent\\builds\\buildkite-windows-cpu-autoscaling-group-i-0fdc6d574b9c0d168-1\\xgboost\\xgboost-ci-windows\\src\\learner.cc:1517: Empty dataset at worker: 0\n",
      "[22:08:56] WARNING: C:\\buildkite-agent\\builds\\buildkite-windows-cpu-autoscaling-group-i-0fdc6d574b9c0d168-1\\xgboost\\xgboost-ci-windows\\src\\learner.cc:1517: Empty dataset at worker: 0\n",
      "[22:08:56] WARNING: C:\\buildkite-agent\\builds\\buildkite-windows-cpu-autoscaling-group-i-0fdc6d574b9c0d168-1\\xgboost\\xgboost-ci-windows\\src\\learner.cc:1517: Empty dataset at worker: 0\n",
      "[22:08:56] WARNING: C:\\buildkite-agent\\builds\\buildkite-windows-cpu-autoscaling-group-i-0fdc6d574b9c0d168-1\\xgboost\\xgboost-ci-windows\\src\\learner.cc:1517: Empty dataset at worker: 0\n",
      "[22:08:56] WARNING: C:\\buildkite-agent\\builds\\buildkite-windows-cpu-autoscaling-group-i-0fdc6d574b9c0d168-1\\xgboost\\xgboost-ci-windows\\src\\learner.cc:1517: Empty dataset at worker: 0\n",
      "[22:08:56] WARNING: C:\\buildkite-agent\\builds\\buildkite-windows-cpu-autoscaling-group-i-0fdc6d574b9c0d168-1\\xgboost\\xgboost-ci-windows\\src\\learner.cc:1517: Empty dataset at worker: 0\n",
      "[22:08:56] WARNING: C:\\buildkite-agent\\builds\\buildkite-windows-cpu-autoscaling-group-i-0fdc6d574b9c0d168-1\\xgboost\\xgboost-ci-windows\\src\\learner.cc:1517: Empty dataset at worker: 0\n",
      "[22:08:56] WARNING: C:\\buildkite-agent\\builds\\buildkite-windows-cpu-autoscaling-group-i-0fdc6d574b9c0d168-1\\xgboost\\xgboost-ci-windows\\src\\learner.cc:1517: Empty dataset at worker: 0\n",
      "[22:08:56] WARNING: C:\\buildkite-agent\\builds\\buildkite-windows-cpu-autoscaling-group-i-0fdc6d574b9c0d168-1\\xgboost\\xgboost-ci-windows\\src\\learner.cc:1517: Empty dataset at worker: 0\n",
      "[22:08:56] WARNING: C:\\buildkite-agent\\builds\\buildkite-windows-cpu-autoscaling-group-i-0fdc6d574b9c0d168-1\\xgboost\\xgboost-ci-windows\\src\\learner.cc:1517: Empty dataset at worker: 0\n",
      "[22:08:56] WARNING: C:\\buildkite-agent\\builds\\buildkite-windows-cpu-autoscaling-group-i-0fdc6d574b9c0d168-1\\xgboost\\xgboost-ci-windows\\src\\learner.cc:1517: Empty dataset at worker: 0\n",
      "[22:08:56] WARNING: C:\\buildkite-agent\\builds\\buildkite-windows-cpu-autoscaling-group-i-0fdc6d574b9c0d168-1\\xgboost\\xgboost-ci-windows\\src\\learner.cc:1517: Empty dataset at worker: 0\n",
      "[22:08:56] WARNING: C:\\buildkite-agent\\builds\\buildkite-windows-cpu-autoscaling-group-i-0fdc6d574b9c0d168-1\\xgboost\\xgboost-ci-windows\\src\\learner.cc:1517: Empty dataset at worker: 0\n",
      "[22:08:56] WARNING: C:\\buildkite-agent\\builds\\buildkite-windows-cpu-autoscaling-group-i-0fdc6d574b9c0d168-1\\xgboost\\xgboost-ci-windows\\src\\learner.cc:1517: Empty dataset at worker: 0\n",
      "[22:08:56] WARNING: C:\\buildkite-agent\\builds\\buildkite-windows-cpu-autoscaling-group-i-0fdc6d574b9c0d168-1\\xgboost\\xgboost-ci-windows\\src\\learner.cc:1517: Empty dataset at worker: 0\n",
      "[22:08:56] WARNING: C:\\buildkite-agent\\builds\\buildkite-windows-cpu-autoscaling-group-i-0fdc6d574b9c0d168-1\\xgboost\\xgboost-ci-windows\\src\\learner.cc:1517: Empty dataset at worker: 0\n",
      "[22:08:56] WARNING: C:\\buildkite-agent\\builds\\buildkite-windows-cpu-autoscaling-group-i-0fdc6d574b9c0d168-1\\xgboost\\xgboost-ci-windows\\src\\learner.cc:1517: Empty dataset at worker: 0\n",
      "[22:08:56] WARNING: C:\\buildkite-agent\\builds\\buildkite-windows-cpu-autoscaling-group-i-0fdc6d574b9c0d168-1\\xgboost\\xgboost-ci-windows\\src\\learner.cc:1517: Empty dataset at worker: 0\n",
      "[22:08:56] WARNING: C:\\buildkite-agent\\builds\\buildkite-windows-cpu-autoscaling-group-i-0fdc6d574b9c0d168-1\\xgboost\\xgboost-ci-windows\\src\\learner.cc:1517: Empty dataset at worker: 0\n",
      "[22:08:56] WARNING: C:\\buildkite-agent\\builds\\buildkite-windows-cpu-autoscaling-group-i-0fdc6d574b9c0d168-1\\xgboost\\xgboost-ci-windows\\src\\learner.cc:1517: Empty dataset at worker: 0\n",
      "[22:08:56] WARNING: C:\\buildkite-agent\\builds\\buildkite-windows-cpu-autoscaling-group-i-0fdc6d574b9c0d168-1\\xgboost\\xgboost-ci-windows\\src\\learner.cc:1517: Empty dataset at worker: 0\n",
      "[22:08:56] WARNING: C:\\buildkite-agent\\builds\\buildkite-windows-cpu-autoscaling-group-i-0fdc6d574b9c0d168-1\\xgboost\\xgboost-ci-windows\\src\\learner.cc:1517: Empty dataset at worker: 0\n",
      "[22:08:56] WARNING: C:\\buildkite-agent\\builds\\buildkite-windows-cpu-autoscaling-group-i-0fdc6d574b9c0d168-1\\xgboost\\xgboost-ci-windows\\src\\learner.cc:1517: Empty dataset at worker: 0\n",
      "[22:08:56] WARNING: C:\\buildkite-agent\\builds\\buildkite-windows-cpu-autoscaling-group-i-0fdc6d574b9c0d168-1\\xgboost\\xgboost-ci-windows\\src\\learner.cc:1517: Empty dataset at worker: 0\n",
      "[22:08:56] WARNING: C:\\buildkite-agent\\builds\\buildkite-windows-cpu-autoscaling-group-i-0fdc6d574b9c0d168-1\\xgboost\\xgboost-ci-windows\\src\\learner.cc:1517: Empty dataset at worker: 0\n",
      "[22:08:56] WARNING: C:\\buildkite-agent\\builds\\buildkite-windows-cpu-autoscaling-group-i-0fdc6d574b9c0d168-1\\xgboost\\xgboost-ci-windows\\src\\learner.cc:1517: Empty dataset at worker: 0\n",
      "[22:08:56] WARNING: C:\\buildkite-agent\\builds\\buildkite-windows-cpu-autoscaling-group-i-0fdc6d574b9c0d168-1\\xgboost\\xgboost-ci-windows\\src\\learner.cc:1517: Empty dataset at worker: 0\n",
      "[22:08:56] WARNING: C:\\buildkite-agent\\builds\\buildkite-windows-cpu-autoscaling-group-i-0fdc6d574b9c0d168-1\\xgboost\\xgboost-ci-windows\\src\\learner.cc:1517: Empty dataset at worker: 0\n",
      "[22:08:56] WARNING: C:\\buildkite-agent\\builds\\buildkite-windows-cpu-autoscaling-group-i-0fdc6d574b9c0d168-1\\xgboost\\xgboost-ci-windows\\src\\learner.cc:1517: Empty dataset at worker: 0\n",
      "[22:08:56] WARNING: C:\\buildkite-agent\\builds\\buildkite-windows-cpu-autoscaling-group-i-0fdc6d574b9c0d168-1\\xgboost\\xgboost-ci-windows\\src\\learner.cc:1517: Empty dataset at worker: 0\n",
      "[22:08:56] WARNING: C:\\buildkite-agent\\builds\\buildkite-windows-cpu-autoscaling-group-i-0fdc6d574b9c0d168-1\\xgboost\\xgboost-ci-windows\\src\\learner.cc:1517: Empty dataset at worker: 0\n",
      "[22:08:56] WARNING: C:\\buildkite-agent\\builds\\buildkite-windows-cpu-autoscaling-group-i-0fdc6d574b9c0d168-1\\xgboost\\xgboost-ci-windows\\src\\learner.cc:1517: Empty dataset at worker: 0\n",
      "[22:08:56] WARNING: C:\\buildkite-agent\\builds\\buildkite-windows-cpu-autoscaling-group-i-0fdc6d574b9c0d168-1\\xgboost\\xgboost-ci-windows\\src\\learner.cc:1517: Empty dataset at worker: 0\n",
      "[22:08:56] WARNING: C:\\buildkite-agent\\builds\\buildkite-windows-cpu-autoscaling-group-i-0fdc6d574b9c0d168-1\\xgboost\\xgboost-ci-windows\\src\\learner.cc:1517: Empty dataset at worker: 0\n",
      "[22:08:56] WARNING: C:\\buildkite-agent\\builds\\buildkite-windows-cpu-autoscaling-group-i-0fdc6d574b9c0d168-1\\xgboost\\xgboost-ci-windows\\src\\learner.cc:1517: Empty dataset at worker: 0\n",
      "[22:08:56] WARNING: C:\\buildkite-agent\\builds\\buildkite-windows-cpu-autoscaling-group-i-0fdc6d574b9c0d168-1\\xgboost\\xgboost-ci-windows\\src\\learner.cc:1517: Empty dataset at worker: 0\n",
      "[22:08:56] WARNING: C:\\buildkite-agent\\builds\\buildkite-windows-cpu-autoscaling-group-i-0fdc6d574b9c0d168-1\\xgboost\\xgboost-ci-windows\\src\\learner.cc:1517: Empty dataset at worker: 0\n",
      "[22:08:56] WARNING: C:\\buildkite-agent\\builds\\buildkite-windows-cpu-autoscaling-group-i-0fdc6d574b9c0d168-1\\xgboost\\xgboost-ci-windows\\src\\learner.cc:1517: Empty dataset at worker: 0\n",
      "[22:08:56] WARNING: C:\\buildkite-agent\\builds\\buildkite-windows-cpu-autoscaling-group-i-0fdc6d574b9c0d168-1\\xgboost\\xgboost-ci-windows\\src\\learner.cc:1517: Empty dataset at worker: 0\n",
      "[22:08:56] WARNING: C:\\buildkite-agent\\builds\\buildkite-windows-cpu-autoscaling-group-i-0fdc6d574b9c0d168-1\\xgboost\\xgboost-ci-windows\\src\\learner.cc:1517: Empty dataset at worker: 0\n",
      "[22:08:56] WARNING: C:\\buildkite-agent\\builds\\buildkite-windows-cpu-autoscaling-group-i-0fdc6d574b9c0d168-1\\xgboost\\xgboost-ci-windows\\src\\learner.cc:1517: Empty dataset at worker: 0\n",
      "[22:08:56] WARNING: C:\\buildkite-agent\\builds\\buildkite-windows-cpu-autoscaling-group-i-0fdc6d574b9c0d168-1\\xgboost\\xgboost-ci-windows\\src\\learner.cc:1517: Empty dataset at worker: 0\n",
      "[22:08:56] WARNING: C:\\buildkite-agent\\builds\\buildkite-windows-cpu-autoscaling-group-i-0fdc6d574b9c0d168-1\\xgboost\\xgboost-ci-windows\\src\\learner.cc:1517: Empty dataset at worker: 0\n",
      "[22:08:56] WARNING: C:\\buildkite-agent\\builds\\buildkite-windows-cpu-autoscaling-group-i-0fdc6d574b9c0d168-1\\xgboost\\xgboost-ci-windows\\src\\learner.cc:1517: Empty dataset at worker: 0\n",
      "[22:08:56] WARNING: C:\\buildkite-agent\\builds\\buildkite-windows-cpu-autoscaling-group-i-0fdc6d574b9c0d168-1\\xgboost\\xgboost-ci-windows\\src\\learner.cc:1517: Empty dataset at worker: 0\n",
      "[22:08:56] WARNING: C:\\buildkite-agent\\builds\\buildkite-windows-cpu-autoscaling-group-i-0fdc6d574b9c0d168-1\\xgboost\\xgboost-ci-windows\\src\\learner.cc:1517: Empty dataset at worker: 0\n",
      "[22:08:56] WARNING: C:\\buildkite-agent\\builds\\buildkite-windows-cpu-autoscaling-group-i-0fdc6d574b9c0d168-1\\xgboost\\xgboost-ci-windows\\src\\learner.cc:1517: Empty dataset at worker: 0\n",
      "[22:08:56] WARNING: C:\\buildkite-agent\\builds\\buildkite-windows-cpu-autoscaling-group-i-0fdc6d574b9c0d168-1\\xgboost\\xgboost-ci-windows\\src\\learner.cc:1517: Empty dataset at worker: 0\n",
      "[22:08:56] WARNING: C:\\buildkite-agent\\builds\\buildkite-windows-cpu-autoscaling-group-i-0fdc6d574b9c0d168-1\\xgboost\\xgboost-ci-windows\\src\\learner.cc:1517: Empty dataset at worker: 0\n",
      "[22:08:56] WARNING: C:\\buildkite-agent\\builds\\buildkite-windows-cpu-autoscaling-group-i-0fdc6d574b9c0d168-1\\xgboost\\xgboost-ci-windows\\src\\learner.cc:1517: Empty dataset at worker: 0\n",
      "[22:08:56] WARNING: C:\\buildkite-agent\\builds\\buildkite-windows-cpu-autoscaling-group-i-0fdc6d574b9c0d168-1\\xgboost\\xgboost-ci-windows\\src\\learner.cc:1517: Empty dataset at worker: 0\n",
      "[22:08:56] WARNING: C:\\buildkite-agent\\builds\\buildkite-windows-cpu-autoscaling-group-i-0fdc6d574b9c0d168-1\\xgboost\\xgboost-ci-windows\\src\\learner.cc:1517: Empty dataset at worker: 0\n",
      "[22:08:56] WARNING: C:\\buildkite-agent\\builds\\buildkite-windows-cpu-autoscaling-group-i-0fdc6d574b9c0d168-1\\xgboost\\xgboost-ci-windows\\src\\learner.cc:1517: Empty dataset at worker: 0\n",
      "[22:08:56] WARNING: C:\\buildkite-agent\\builds\\buildkite-windows-cpu-autoscaling-group-i-0fdc6d574b9c0d168-1\\xgboost\\xgboost-ci-windows\\src\\learner.cc:1517: Empty dataset at worker: 0\n",
      "[22:08:56] WARNING: C:\\buildkite-agent\\builds\\buildkite-windows-cpu-autoscaling-group-i-0fdc6d574b9c0d168-1\\xgboost\\xgboost-ci-windows\\src\\learner.cc:1517: Empty dataset at worker: 0\n",
      "[22:08:56] WARNING: C:\\buildkite-agent\\builds\\buildkite-windows-cpu-autoscaling-group-i-0fdc6d574b9c0d168-1\\xgboost\\xgboost-ci-windows\\src\\learner.cc:1517: Empty dataset at worker: 0\n",
      "[22:08:56] WARNING: C:\\buildkite-agent\\builds\\buildkite-windows-cpu-autoscaling-group-i-0fdc6d574b9c0d168-1\\xgboost\\xgboost-ci-windows\\src\\learner.cc:1517: Empty dataset at worker: 0\n",
      "[22:08:56] WARNING: C:\\buildkite-agent\\builds\\buildkite-windows-cpu-autoscaling-group-i-0fdc6d574b9c0d168-1\\xgboost\\xgboost-ci-windows\\src\\learner.cc:1517: Empty dataset at worker: 0\n",
      "[22:08:56] WARNING: C:\\buildkite-agent\\builds\\buildkite-windows-cpu-autoscaling-group-i-0fdc6d574b9c0d168-1\\xgboost\\xgboost-ci-windows\\src\\learner.cc:1517: Empty dataset at worker: 0\n",
      "[22:08:56] WARNING: C:\\buildkite-agent\\builds\\buildkite-windows-cpu-autoscaling-group-i-0fdc6d574b9c0d168-1\\xgboost\\xgboost-ci-windows\\src\\learner.cc:1517: Empty dataset at worker: 0\n",
      "[22:08:56] WARNING: C:\\buildkite-agent\\builds\\buildkite-windows-cpu-autoscaling-group-i-0fdc6d574b9c0d168-1\\xgboost\\xgboost-ci-windows\\src\\learner.cc:1517: Empty dataset at worker: 0\n",
      "[22:08:56] WARNING: C:\\buildkite-agent\\builds\\buildkite-windows-cpu-autoscaling-group-i-0fdc6d574b9c0d168-1\\xgboost\\xgboost-ci-windows\\src\\learner.cc:1517: Empty dataset at worker: 0\n",
      "[22:08:56] WARNING: C:\\buildkite-agent\\builds\\buildkite-windows-cpu-autoscaling-group-i-0fdc6d574b9c0d168-1\\xgboost\\xgboost-ci-windows\\src\\learner.cc:1517: Empty dataset at worker: 0\n",
      "[22:08:56] WARNING: C:\\buildkite-agent\\builds\\buildkite-windows-cpu-autoscaling-group-i-0fdc6d574b9c0d168-1\\xgboost\\xgboost-ci-windows\\src\\learner.cc:1517: Empty dataset at worker: 0\n",
      "[22:08:56] WARNING: C:\\buildkite-agent\\builds\\buildkite-windows-cpu-autoscaling-group-i-0fdc6d574b9c0d168-1\\xgboost\\xgboost-ci-windows\\src\\learner.cc:1517: Empty dataset at worker: 0\n",
      "[22:08:56] WARNING: C:\\buildkite-agent\\builds\\buildkite-windows-cpu-autoscaling-group-i-0fdc6d574b9c0d168-1\\xgboost\\xgboost-ci-windows\\src\\learner.cc:1517: Empty dataset at worker: 0\n",
      "[22:08:56] WARNING: C:\\buildkite-agent\\builds\\buildkite-windows-cpu-autoscaling-group-i-0fdc6d574b9c0d168-1\\xgboost\\xgboost-ci-windows\\src\\learner.cc:1517: Empty dataset at worker: 0\n",
      "[22:08:56] WARNING: C:\\buildkite-agent\\builds\\buildkite-windows-cpu-autoscaling-group-i-0fdc6d574b9c0d168-1\\xgboost\\xgboost-ci-windows\\src\\learner.cc:1517: Empty dataset at worker: 0\n",
      "[22:08:56] WARNING: C:\\buildkite-agent\\builds\\buildkite-windows-cpu-autoscaling-group-i-0fdc6d574b9c0d168-1\\xgboost\\xgboost-ci-windows\\src\\learner.cc:1517: Empty dataset at worker: 0\n",
      "[22:08:56] WARNING: C:\\buildkite-agent\\builds\\buildkite-windows-cpu-autoscaling-group-i-0fdc6d574b9c0d168-1\\xgboost\\xgboost-ci-windows\\src\\learner.cc:1517: Empty dataset at worker: 0\n",
      "[22:08:56] WARNING: C:\\buildkite-agent\\builds\\buildkite-windows-cpu-autoscaling-group-i-0fdc6d574b9c0d168-1\\xgboost\\xgboost-ci-windows\\src\\learner.cc:1517: Empty dataset at worker: 0\n",
      "[22:08:56] WARNING: C:\\buildkite-agent\\builds\\buildkite-windows-cpu-autoscaling-group-i-0fdc6d574b9c0d168-1\\xgboost\\xgboost-ci-windows\\src\\learner.cc:1517: Empty dataset at worker: 0\n",
      "[22:08:56] WARNING: C:\\buildkite-agent\\builds\\buildkite-windows-cpu-autoscaling-group-i-0fdc6d574b9c0d168-1\\xgboost\\xgboost-ci-windows\\src\\learner.cc:1517: Empty dataset at worker: 0\n",
      "[22:08:56] WARNING: C:\\buildkite-agent\\builds\\buildkite-windows-cpu-autoscaling-group-i-0fdc6d574b9c0d168-1\\xgboost\\xgboost-ci-windows\\src\\learner.cc:1517: Empty dataset at worker: 0\n",
      "[22:08:56] WARNING: C:\\buildkite-agent\\builds\\buildkite-windows-cpu-autoscaling-group-i-0fdc6d574b9c0d168-1\\xgboost\\xgboost-ci-windows\\src\\learner.cc:1517: Empty dataset at worker: 0\n",
      "[22:08:56] WARNING: C:\\buildkite-agent\\builds\\buildkite-windows-cpu-autoscaling-group-i-0fdc6d574b9c0d168-1\\xgboost\\xgboost-ci-windows\\src\\learner.cc:1517: Empty dataset at worker: 0\n",
      "[22:08:56] WARNING: C:\\buildkite-agent\\builds\\buildkite-windows-cpu-autoscaling-group-i-0fdc6d574b9c0d168-1\\xgboost\\xgboost-ci-windows\\src\\learner.cc:1517: Empty dataset at worker: 0\n",
      "[22:08:56] WARNING: C:\\buildkite-agent\\builds\\buildkite-windows-cpu-autoscaling-group-i-0fdc6d574b9c0d168-1\\xgboost\\xgboost-ci-windows\\src\\learner.cc:1517: Empty dataset at worker: 0\n",
      "[22:08:56] WARNING: C:\\buildkite-agent\\builds\\buildkite-windows-cpu-autoscaling-group-i-0fdc6d574b9c0d168-1\\xgboost\\xgboost-ci-windows\\src\\learner.cc:1517: Empty dataset at worker: 0\n",
      "[22:08:56] WARNING: C:\\buildkite-agent\\builds\\buildkite-windows-cpu-autoscaling-group-i-0fdc6d574b9c0d168-1\\xgboost\\xgboost-ci-windows\\src\\learner.cc:1517: Empty dataset at worker: 0\n",
      "[22:08:56] WARNING: C:\\buildkite-agent\\builds\\buildkite-windows-cpu-autoscaling-group-i-0fdc6d574b9c0d168-1\\xgboost\\xgboost-ci-windows\\src\\learner.cc:1517: Empty dataset at worker: 0\n",
      "[22:08:56] WARNING: C:\\buildkite-agent\\builds\\buildkite-windows-cpu-autoscaling-group-i-0fdc6d574b9c0d168-1\\xgboost\\xgboost-ci-windows\\src\\learner.cc:1517: Empty dataset at worker: 0\n",
      "[22:08:56] WARNING: C:\\buildkite-agent\\builds\\buildkite-windows-cpu-autoscaling-group-i-0fdc6d574b9c0d168-1\\xgboost\\xgboost-ci-windows\\src\\learner.cc:1517: Empty dataset at worker: 0\n",
      "[22:08:56] WARNING: C:\\buildkite-agent\\builds\\buildkite-windows-cpu-autoscaling-group-i-0fdc6d574b9c0d168-1\\xgboost\\xgboost-ci-windows\\src\\learner.cc:1517: Empty dataset at worker: 0\n",
      "[22:08:56] WARNING: C:\\buildkite-agent\\builds\\buildkite-windows-cpu-autoscaling-group-i-0fdc6d574b9c0d168-1\\xgboost\\xgboost-ci-windows\\src\\learner.cc:1517: Empty dataset at worker: 0\n",
      "[22:08:56] WARNING: C:\\buildkite-agent\\builds\\buildkite-windows-cpu-autoscaling-group-i-0fdc6d574b9c0d168-1\\xgboost\\xgboost-ci-windows\\src\\learner.cc:1517: Empty dataset at worker: 0\n",
      "[22:08:56] WARNING: C:\\buildkite-agent\\builds\\buildkite-windows-cpu-autoscaling-group-i-0fdc6d574b9c0d168-1\\xgboost\\xgboost-ci-windows\\src\\learner.cc:1517: Empty dataset at worker: 0\n",
      "[22:08:56] WARNING: C:\\buildkite-agent\\builds\\buildkite-windows-cpu-autoscaling-group-i-0fdc6d574b9c0d168-1\\xgboost\\xgboost-ci-windows\\src\\learner.cc:1517: Empty dataset at worker: 0\n",
      "[22:08:56] WARNING: C:\\buildkite-agent\\builds\\buildkite-windows-cpu-autoscaling-group-i-0fdc6d574b9c0d168-1\\xgboost\\xgboost-ci-windows\\src\\learner.cc:1517: Empty dataset at worker: 0\n",
      "[22:08:56] WARNING: C:\\buildkite-agent\\builds\\buildkite-windows-cpu-autoscaling-group-i-0fdc6d574b9c0d168-1\\xgboost\\xgboost-ci-windows\\src\\learner.cc:1517: Empty dataset at worker: 0\n",
      "[22:08:56] WARNING: C:\\buildkite-agent\\builds\\buildkite-windows-cpu-autoscaling-group-i-0fdc6d574b9c0d168-1\\xgboost\\xgboost-ci-windows\\src\\learner.cc:1517: Empty dataset at worker: 0\n",
      "[22:08:56] WARNING: C:\\buildkite-agent\\builds\\buildkite-windows-cpu-autoscaling-group-i-0fdc6d574b9c0d168-1\\xgboost\\xgboost-ci-windows\\src\\learner.cc:1517: Empty dataset at worker: 0\n",
      "[22:08:56] WARNING: C:\\buildkite-agent\\builds\\buildkite-windows-cpu-autoscaling-group-i-0fdc6d574b9c0d168-1\\xgboost\\xgboost-ci-windows\\src\\learner.cc:1517: Empty dataset at worker: 0\n",
      "[22:08:56] WARNING: C:\\buildkite-agent\\builds\\buildkite-windows-cpu-autoscaling-group-i-0fdc6d574b9c0d168-1\\xgboost\\xgboost-ci-windows\\src\\learner.cc:1517: Empty dataset at worker: 0\n",
      "[22:08:56] WARNING: C:\\buildkite-agent\\builds\\buildkite-windows-cpu-autoscaling-group-i-0fdc6d574b9c0d168-1\\xgboost\\xgboost-ci-windows\\src\\learner.cc:1517: Empty dataset at worker: 0\n",
      "[22:08:56] WARNING: C:\\buildkite-agent\\builds\\buildkite-windows-cpu-autoscaling-group-i-0fdc6d574b9c0d168-1\\xgboost\\xgboost-ci-windows\\src\\learner.cc:1517: Empty dataset at worker: 0\n",
      "[22:08:56] WARNING: C:\\buildkite-agent\\builds\\buildkite-windows-cpu-autoscaling-group-i-0fdc6d574b9c0d168-1\\xgboost\\xgboost-ci-windows\\src\\learner.cc:1517: Empty dataset at worker: 0\n",
      "[22:08:56] WARNING: C:\\buildkite-agent\\builds\\buildkite-windows-cpu-autoscaling-group-i-0fdc6d574b9c0d168-1\\xgboost\\xgboost-ci-windows\\src\\learner.cc:1517: Empty dataset at worker: 0\n",
      "[22:08:56] WARNING: C:\\buildkite-agent\\builds\\buildkite-windows-cpu-autoscaling-group-i-0fdc6d574b9c0d168-1\\xgboost\\xgboost-ci-windows\\src\\learner.cc:1517: Empty dataset at worker: 0\n",
      "[22:08:56] WARNING: C:\\buildkite-agent\\builds\\buildkite-windows-cpu-autoscaling-group-i-0fdc6d574b9c0d168-1\\xgboost\\xgboost-ci-windows\\src\\learner.cc:1517: Empty dataset at worker: 0\n",
      "[22:08:56] WARNING: C:\\buildkite-agent\\builds\\buildkite-windows-cpu-autoscaling-group-i-0fdc6d574b9c0d168-1\\xgboost\\xgboost-ci-windows\\src\\learner.cc:1517: Empty dataset at worker: 0\n",
      "[22:08:56] WARNING: C:\\buildkite-agent\\builds\\buildkite-windows-cpu-autoscaling-group-i-0fdc6d574b9c0d168-1\\xgboost\\xgboost-ci-windows\\src\\learner.cc:1517: Empty dataset at worker: 0\n",
      "[22:08:56] WARNING: C:\\buildkite-agent\\builds\\buildkite-windows-cpu-autoscaling-group-i-0fdc6d574b9c0d168-1\\xgboost\\xgboost-ci-windows\\src\\learner.cc:1517: Empty dataset at worker: 0\n",
      "[22:08:56] WARNING: C:\\buildkite-agent\\builds\\buildkite-windows-cpu-autoscaling-group-i-0fdc6d574b9c0d168-1\\xgboost\\xgboost-ci-windows\\src\\learner.cc:1517: Empty dataset at worker: 0\n",
      "[22:08:56] WARNING: C:\\buildkite-agent\\builds\\buildkite-windows-cpu-autoscaling-group-i-0fdc6d574b9c0d168-1\\xgboost\\xgboost-ci-windows\\src\\learner.cc:1517: Empty dataset at worker: 0\n",
      "[22:08:56] WARNING: C:\\buildkite-agent\\builds\\buildkite-windows-cpu-autoscaling-group-i-0fdc6d574b9c0d168-1\\xgboost\\xgboost-ci-windows\\src\\learner.cc:1517: Empty dataset at worker: 0\n",
      "[22:08:56] WARNING: C:\\buildkite-agent\\builds\\buildkite-windows-cpu-autoscaling-group-i-0fdc6d574b9c0d168-1\\xgboost\\xgboost-ci-windows\\src\\learner.cc:1517: Empty dataset at worker: 0\n",
      "[22:08:56] WARNING: C:\\buildkite-agent\\builds\\buildkite-windows-cpu-autoscaling-group-i-0fdc6d574b9c0d168-1\\xgboost\\xgboost-ci-windows\\src\\learner.cc:1517: Empty dataset at worker: 0\n",
      "[22:08:56] WARNING: C:\\buildkite-agent\\builds\\buildkite-windows-cpu-autoscaling-group-i-0fdc6d574b9c0d168-1\\xgboost\\xgboost-ci-windows\\src\\learner.cc:1517: Empty dataset at worker: 0\n",
      "[22:08:56] WARNING: C:\\buildkite-agent\\builds\\buildkite-windows-cpu-autoscaling-group-i-0fdc6d574b9c0d168-1\\xgboost\\xgboost-ci-windows\\src\\learner.cc:1517: Empty dataset at worker: 0\n",
      "[22:08:56] WARNING: C:\\buildkite-agent\\builds\\buildkite-windows-cpu-autoscaling-group-i-0fdc6d574b9c0d168-1\\xgboost\\xgboost-ci-windows\\src\\learner.cc:1517: Empty dataset at worker: 0\n",
      "[22:08:56] WARNING: C:\\buildkite-agent\\builds\\buildkite-windows-cpu-autoscaling-group-i-0fdc6d574b9c0d168-1\\xgboost\\xgboost-ci-windows\\src\\learner.cc:1517: Empty dataset at worker: 0\n",
      "[22:08:56] WARNING: C:\\buildkite-agent\\builds\\buildkite-windows-cpu-autoscaling-group-i-0fdc6d574b9c0d168-1\\xgboost\\xgboost-ci-windows\\src\\learner.cc:1517: Empty dataset at worker: 0\n",
      "[22:08:56] WARNING: C:\\buildkite-agent\\builds\\buildkite-windows-cpu-autoscaling-group-i-0fdc6d574b9c0d168-1\\xgboost\\xgboost-ci-windows\\src\\learner.cc:1517: Empty dataset at worker: 0\n",
      "[22:08:56] WARNING: C:\\buildkite-agent\\builds\\buildkite-windows-cpu-autoscaling-group-i-0fdc6d574b9c0d168-1\\xgboost\\xgboost-ci-windows\\src\\learner.cc:1517: Empty dataset at worker: 0\n",
      "[22:08:56] WARNING: C:\\buildkite-agent\\builds\\buildkite-windows-cpu-autoscaling-group-i-0fdc6d574b9c0d168-1\\xgboost\\xgboost-ci-windows\\src\\learner.cc:1517: Empty dataset at worker: 0\n",
      "[22:08:56] WARNING: C:\\buildkite-agent\\builds\\buildkite-windows-cpu-autoscaling-group-i-0fdc6d574b9c0d168-1\\xgboost\\xgboost-ci-windows\\src\\learner.cc:1517: Empty dataset at worker: 0\n",
      "[22:08:56] WARNING: C:\\buildkite-agent\\builds\\buildkite-windows-cpu-autoscaling-group-i-0fdc6d574b9c0d168-1\\xgboost\\xgboost-ci-windows\\src\\learner.cc:1517: Empty dataset at worker: 0\n",
      "[22:08:56] WARNING: C:\\buildkite-agent\\builds\\buildkite-windows-cpu-autoscaling-group-i-0fdc6d574b9c0d168-1\\xgboost\\xgboost-ci-windows\\src\\learner.cc:1517: Empty dataset at worker: 0\n",
      "[22:08:56] WARNING: C:\\buildkite-agent\\builds\\buildkite-windows-cpu-autoscaling-group-i-0fdc6d574b9c0d168-1\\xgboost\\xgboost-ci-windows\\src\\learner.cc:1517: Empty dataset at worker: 0\n",
      "[22:08:56] WARNING: C:\\buildkite-agent\\builds\\buildkite-windows-cpu-autoscaling-group-i-0fdc6d574b9c0d168-1\\xgboost\\xgboost-ci-windows\\src\\learner.cc:1517: Empty dataset at worker: 0\n",
      "[22:08:56] WARNING: C:\\buildkite-agent\\builds\\buildkite-windows-cpu-autoscaling-group-i-0fdc6d574b9c0d168-1\\xgboost\\xgboost-ci-windows\\src\\learner.cc:1517: Empty dataset at worker: 0\n",
      "[22:08:56] WARNING: C:\\buildkite-agent\\builds\\buildkite-windows-cpu-autoscaling-group-i-0fdc6d574b9c0d168-1\\xgboost\\xgboost-ci-windows\\src\\learner.cc:1517: Empty dataset at worker: 0\n",
      "[22:08:56] WARNING: C:\\buildkite-agent\\builds\\buildkite-windows-cpu-autoscaling-group-i-0fdc6d574b9c0d168-1\\xgboost\\xgboost-ci-windows\\src\\learner.cc:1517: Empty dataset at worker: 0\n",
      "[22:08:56] WARNING: C:\\buildkite-agent\\builds\\buildkite-windows-cpu-autoscaling-group-i-0fdc6d574b9c0d168-1\\xgboost\\xgboost-ci-windows\\src\\learner.cc:1517: Empty dataset at worker: 0\n",
      "[22:08:56] WARNING: C:\\buildkite-agent\\builds\\buildkite-windows-cpu-autoscaling-group-i-0fdc6d574b9c0d168-1\\xgboost\\xgboost-ci-windows\\src\\learner.cc:1517: Empty dataset at worker: 0\n",
      "[22:08:56] WARNING: C:\\buildkite-agent\\builds\\buildkite-windows-cpu-autoscaling-group-i-0fdc6d574b9c0d168-1\\xgboost\\xgboost-ci-windows\\src\\learner.cc:1517: Empty dataset at worker: 0\n",
      "[22:08:56] WARNING: C:\\buildkite-agent\\builds\\buildkite-windows-cpu-autoscaling-group-i-0fdc6d574b9c0d168-1\\xgboost\\xgboost-ci-windows\\src\\learner.cc:1517: Empty dataset at worker: 0\n",
      "[22:08:56] WARNING: C:\\buildkite-agent\\builds\\buildkite-windows-cpu-autoscaling-group-i-0fdc6d574b9c0d168-1\\xgboost\\xgboost-ci-windows\\src\\learner.cc:1517: Empty dataset at worker: 0\n",
      "[22:08:56] WARNING: C:\\buildkite-agent\\builds\\buildkite-windows-cpu-autoscaling-group-i-0fdc6d574b9c0d168-1\\xgboost\\xgboost-ci-windows\\src\\learner.cc:1517: Empty dataset at worker: 0\n",
      "[22:08:56] WARNING: C:\\buildkite-agent\\builds\\buildkite-windows-cpu-autoscaling-group-i-0fdc6d574b9c0d168-1\\xgboost\\xgboost-ci-windows\\src\\learner.cc:1517: Empty dataset at worker: 0\n",
      "[22:08:56] WARNING: C:\\buildkite-agent\\builds\\buildkite-windows-cpu-autoscaling-group-i-0fdc6d574b9c0d168-1\\xgboost\\xgboost-ci-windows\\src\\learner.cc:1517: Empty dataset at worker: 0\n",
      "[22:08:56] WARNING: C:\\buildkite-agent\\builds\\buildkite-windows-cpu-autoscaling-group-i-0fdc6d574b9c0d168-1\\xgboost\\xgboost-ci-windows\\src\\learner.cc:1517: Empty dataset at worker: 0\n",
      "[22:08:56] WARNING: C:\\buildkite-agent\\builds\\buildkite-windows-cpu-autoscaling-group-i-0fdc6d574b9c0d168-1\\xgboost\\xgboost-ci-windows\\src\\learner.cc:1517: Empty dataset at worker: 0\n",
      "[22:08:56] WARNING: C:\\buildkite-agent\\builds\\buildkite-windows-cpu-autoscaling-group-i-0fdc6d574b9c0d168-1\\xgboost\\xgboost-ci-windows\\src\\learner.cc:1517: Empty dataset at worker: 0\n",
      "[22:08:56] WARNING: C:\\buildkite-agent\\builds\\buildkite-windows-cpu-autoscaling-group-i-0fdc6d574b9c0d168-1\\xgboost\\xgboost-ci-windows\\src\\learner.cc:1517: Empty dataset at worker: 0\n",
      "[22:08:56] WARNING: C:\\buildkite-agent\\builds\\buildkite-windows-cpu-autoscaling-group-i-0fdc6d574b9c0d168-1\\xgboost\\xgboost-ci-windows\\src\\learner.cc:1517: Empty dataset at worker: 0\n"
     ]
    },
    {
     "name": "stderr",
     "output_type": "stream",
     "text": [
      "Dataset: kaggle:  68%|██████▊   | 122/180 [02:13<00:23,  2.44it/s]"
     ]
    },
    {
     "name": "stdout",
     "output_type": "stream",
     "text": [
      "remove_outliers_dbscan + features_selection_none + oversampling_smote is invalid for dataset kaggle because: Found array with 0 sample(s) (shape=(0, 34)) while a minimum of 1 is required by SMOTE.\n",
      "remove_outliers_dbscan + features_selection_none + oversampling_svm_smote is invalid for dataset kaggle because: Found array with 0 sample(s) (shape=(0, 34)) while a minimum of 1 is required by SVMSMOTE.\n"
     ]
    },
    {
     "name": "stderr",
     "output_type": "stream",
     "text": [
      "Dataset: kaggle:  69%|██████▉   | 124/180 [02:14<00:16,  3.39it/s]"
     ]
    },
    {
     "name": "stdout",
     "output_type": "stream",
     "text": [
      "remove_outliers_dbscan + features_selection_none + oversampling_adasyn is invalid for dataset kaggle because: Found array with 0 sample(s) (shape=(0, 34)) while a minimum of 1 is required by ADASYN.\n",
      "remove_outliers_dbscan + features_selection_none + oversampling_smote_borderline is invalid for dataset kaggle because: Found array with 0 sample(s) (shape=(0, 34)) while a minimum of 1 is required by BorderlineSMOTE.\n"
     ]
    },
    {
     "name": "stderr",
     "output_type": "stream",
     "text": [
      "Dataset: kaggle:  70%|███████   | 126/180 [02:14<00:12,  4.42it/s]"
     ]
    },
    {
     "name": "stdout",
     "output_type": "stream",
     "text": [
      "remove_outliers_dbscan + features_selection_none + oversampling_nc_smote is invalid for dataset kaggle because: Found array with 0 sample(s) while a minimum of 1 is required.\n",
      "remove_outliers_dbscan + features_selection_extratrees + oversampling_none is invalid for dataset kaggle because: Found array with 0 sample(s) (shape=(0, 34)) while a minimum of 1 is required by ExtraTreesClassifier.\n"
     ]
    },
    {
     "name": "stderr",
     "output_type": "stream",
     "text": [
      "Dataset: kaggle:  71%|███████   | 128/180 [02:14<00:11,  4.68it/s]"
     ]
    },
    {
     "name": "stdout",
     "output_type": "stream",
     "text": [
      "remove_outliers_dbscan + features_selection_extratrees + oversampling_smote is invalid for dataset kaggle because: Found array with 0 sample(s) (shape=(0, 34)) while a minimum of 1 is required by ExtraTreesClassifier.\n",
      "remove_outliers_dbscan + features_selection_extratrees + oversampling_svm_smote is invalid for dataset kaggle because: Found array with 0 sample(s) (shape=(0, 34)) while a minimum of 1 is required by ExtraTreesClassifier.\n"
     ]
    },
    {
     "name": "stderr",
     "output_type": "stream",
     "text": [
      "Dataset: kaggle:  72%|███████▏  | 130/180 [02:15<00:09,  5.01it/s]"
     ]
    },
    {
     "name": "stdout",
     "output_type": "stream",
     "text": [
      "remove_outliers_dbscan + features_selection_extratrees + oversampling_adasyn is invalid for dataset kaggle because: Found array with 0 sample(s) (shape=(0, 34)) while a minimum of 1 is required by ExtraTreesClassifier.\n",
      "remove_outliers_dbscan + features_selection_extratrees + oversampling_smote_borderline is invalid for dataset kaggle because: Found array with 0 sample(s) (shape=(0, 34)) while a minimum of 1 is required by ExtraTreesClassifier.\n"
     ]
    },
    {
     "name": "stderr",
     "output_type": "stream",
     "text": [
      "Dataset: kaggle:  73%|███████▎  | 132/180 [02:15<00:09,  5.08it/s]"
     ]
    },
    {
     "name": "stdout",
     "output_type": "stream",
     "text": [
      "remove_outliers_dbscan + features_selection_extratrees + oversampling_nc_smote is invalid for dataset kaggle because: Found array with 0 sample(s) (shape=(0, 34)) while a minimum of 1 is required by ExtraTreesClassifier.\n",
      "remove_outliers_dbscan + features_selection_mutual_information + oversampling_none is invalid for dataset kaggle because: Found array with 0 sample(s) (shape=(0, 34)) while a minimum of 1 is required.\n"
     ]
    },
    {
     "name": "stderr",
     "output_type": "stream",
     "text": [
      "Dataset: kaggle:  74%|███████▍  | 134/180 [02:16<00:08,  5.14it/s]"
     ]
    },
    {
     "name": "stdout",
     "output_type": "stream",
     "text": [
      "remove_outliers_dbscan + features_selection_mutual_information + oversampling_smote is invalid for dataset kaggle because: Found array with 0 sample(s) (shape=(0, 34)) while a minimum of 1 is required.\n",
      "remove_outliers_dbscan + features_selection_mutual_information + oversampling_svm_smote is invalid for dataset kaggle because: Found array with 0 sample(s) (shape=(0, 34)) while a minimum of 1 is required.\n"
     ]
    },
    {
     "name": "stderr",
     "output_type": "stream",
     "text": [
      "Dataset: kaggle:  76%|███████▌  | 136/180 [02:16<00:07,  5.56it/s]"
     ]
    },
    {
     "name": "stdout",
     "output_type": "stream",
     "text": [
      "remove_outliers_dbscan + features_selection_mutual_information + oversampling_adasyn is invalid for dataset kaggle because: Found array with 0 sample(s) (shape=(0, 34)) while a minimum of 1 is required.\n",
      "remove_outliers_dbscan + features_selection_mutual_information + oversampling_smote_borderline is invalid for dataset kaggle because: Found array with 0 sample(s) (shape=(0, 34)) while a minimum of 1 is required.\n"
     ]
    },
    {
     "name": "stderr",
     "output_type": "stream",
     "text": [
      "Dataset: kaggle:  77%|███████▋  | 138/180 [02:16<00:07,  5.82it/s]"
     ]
    },
    {
     "name": "stdout",
     "output_type": "stream",
     "text": [
      "remove_outliers_dbscan + features_selection_mutual_information + oversampling_nc_smote is invalid for dataset kaggle because: Found array with 0 sample(s) (shape=(0, 34)) while a minimum of 1 is required.\n",
      "remove_outliers_dbscan + features_selection_rfe + oversampling_none is invalid for dataset kaggle because: Found array with 0 sample(s) (shape=(0, 34)) while a minimum of 1 is required by RFE.\n"
     ]
    },
    {
     "name": "stderr",
     "output_type": "stream",
     "text": [
      "Dataset: kaggle:  77%|███████▋  | 139/180 [02:16<00:06,  5.93it/s]"
     ]
    },
    {
     "name": "stdout",
     "output_type": "stream",
     "text": [
      "remove_outliers_dbscan + features_selection_rfe + oversampling_smote is invalid for dataset kaggle because: Found array with 0 sample(s) (shape=(0, 34)) while a minimum of 1 is required by RFE.\n"
     ]
    },
    {
     "name": "stderr",
     "output_type": "stream",
     "text": [
      "Dataset: kaggle:  78%|███████▊  | 141/180 [02:17<00:07,  5.42it/s]"
     ]
    },
    {
     "name": "stdout",
     "output_type": "stream",
     "text": [
      "remove_outliers_dbscan + features_selection_rfe + oversampling_svm_smote is invalid for dataset kaggle because: Found array with 0 sample(s) (shape=(0, 34)) while a minimum of 1 is required by RFE.\n",
      "remove_outliers_dbscan + features_selection_rfe + oversampling_adasyn is invalid for dataset kaggle because: Found array with 0 sample(s) (shape=(0, 34)) while a minimum of 1 is required by RFE.\n"
     ]
    },
    {
     "name": "stderr",
     "output_type": "stream",
     "text": [
      "Dataset: kaggle:  79%|███████▉  | 143/180 [02:17<00:06,  5.99it/s]"
     ]
    },
    {
     "name": "stdout",
     "output_type": "stream",
     "text": [
      "remove_outliers_dbscan + features_selection_rfe + oversampling_smote_borderline is invalid for dataset kaggle because: Found array with 0 sample(s) (shape=(0, 34)) while a minimum of 1 is required by RFE.\n",
      "remove_outliers_dbscan + features_selection_rfe + oversampling_nc_smote is invalid for dataset kaggle because: Found array with 0 sample(s) (shape=(0, 34)) while a minimum of 1 is required by RFE.\n"
     ]
    },
    {
     "name": "stderr",
     "output_type": "stream",
     "text": [
      "Dataset: kaggle:  81%|████████  | 145/180 [02:17<00:05,  6.25it/s]"
     ]
    },
    {
     "name": "stdout",
     "output_type": "stream",
     "text": [
      "remove_outliers_dbscan + features_selection_variance_threshold + oversampling_none is invalid for dataset kaggle because: Found array with 0 sample(s) (shape=(0, 34)) while a minimum of 1 is required by VarianceThreshold.\n",
      "remove_outliers_dbscan + features_selection_variance_threshold + oversampling_smote is invalid for dataset kaggle because: Found array with 0 sample(s) (shape=(0, 34)) while a minimum of 1 is required by VarianceThreshold.\n"
     ]
    },
    {
     "name": "stderr",
     "output_type": "stream",
     "text": [
      "Dataset: kaggle:  82%|████████▏ | 147/180 [02:18<00:05,  6.06it/s]"
     ]
    },
    {
     "name": "stdout",
     "output_type": "stream",
     "text": [
      "remove_outliers_dbscan + features_selection_variance_threshold + oversampling_svm_smote is invalid for dataset kaggle because: Found array with 0 sample(s) (shape=(0, 34)) while a minimum of 1 is required by VarianceThreshold.\n",
      "remove_outliers_dbscan + features_selection_variance_threshold + oversampling_adasyn is invalid for dataset kaggle because: Found array with 0 sample(s) (shape=(0, 34)) while a minimum of 1 is required by VarianceThreshold.\n"
     ]
    },
    {
     "name": "stderr",
     "output_type": "stream",
     "text": [
      "Dataset: kaggle:  83%|████████▎ | 149/180 [02:18<00:05,  6.06it/s]"
     ]
    },
    {
     "name": "stdout",
     "output_type": "stream",
     "text": [
      "remove_outliers_dbscan + features_selection_variance_threshold + oversampling_smote_borderline is invalid for dataset kaggle because: Found array with 0 sample(s) (shape=(0, 34)) while a minimum of 1 is required by VarianceThreshold.\n",
      "remove_outliers_dbscan + features_selection_variance_threshold + oversampling_nc_smote is invalid for dataset kaggle because: Found array with 0 sample(s) (shape=(0, 34)) while a minimum of 1 is required by VarianceThreshold.\n"
     ]
    },
    {
     "name": "stderr",
     "output_type": "stream",
     "text": [
      "Dataset: kaggle:  83%|████████▎ | 150/180 [02:18<00:04,  6.10it/s]"
     ]
    },
    {
     "name": "stdout",
     "output_type": "stream",
     "text": [
      "K-nearest-neighbor failed to train with configuration remove_outliers_lof + features_selection_none + oversampling_none because: 'Flags' object has no attribute 'c_contiguous'\n"
     ]
    },
    {
     "name": "stderr",
     "output_type": "stream",
     "text": [
      "Dataset: kaggle:  84%|████████▍ | 151/180 [02:20<00:15,  1.84it/s]"
     ]
    },
    {
     "name": "stdout",
     "output_type": "stream",
     "text": [
      "K-nearest-neighbor failed to train with configuration remove_outliers_lof + features_selection_none + oversampling_smote because: 'Flags' object has no attribute 'c_contiguous'\n"
     ]
    },
    {
     "name": "stderr",
     "output_type": "stream",
     "text": [
      "Dataset: kaggle:  84%|████████▍ | 152/180 [02:21<00:21,  1.28it/s]"
     ]
    },
    {
     "name": "stdout",
     "output_type": "stream",
     "text": [
      "K-nearest-neighbor failed to train with configuration remove_outliers_lof + features_selection_none + oversampling_svm_smote because: 'Flags' object has no attribute 'c_contiguous'\n"
     ]
    },
    {
     "name": "stderr",
     "output_type": "stream",
     "text": [
      "Dataset: kaggle:  85%|████████▌ | 153/180 [02:22<00:25,  1.05it/s]"
     ]
    },
    {
     "name": "stdout",
     "output_type": "stream",
     "text": [
      "K-nearest-neighbor failed to train with configuration remove_outliers_lof + features_selection_none + oversampling_adasyn because: 'Flags' object has no attribute 'c_contiguous'\n"
     ]
    },
    {
     "name": "stderr",
     "output_type": "stream",
     "text": [
      "Dataset: kaggle:  86%|████████▌ | 154/180 [02:24<00:28,  1.09s/it]"
     ]
    },
    {
     "name": "stdout",
     "output_type": "stream",
     "text": [
      "K-nearest-neighbor failed to train with configuration remove_outliers_lof + features_selection_none + oversampling_smote_borderline because: 'Flags' object has no attribute 'c_contiguous'\n"
     ]
    },
    {
     "name": "stderr",
     "output_type": "stream",
     "text": [
      "Dataset: kaggle:  87%|████████▋ | 156/180 [02:25<00:21,  1.14it/s]"
     ]
    },
    {
     "name": "stdout",
     "output_type": "stream",
     "text": [
      "remove_outliers_lof + features_selection_none + oversampling_nc_smote is invalid for dataset kaggle because: SMOTE-NC is not designed to work only with numerical features. It requires some categorical features.\n"
     ]
    },
    {
     "name": "stderr",
     "output_type": "stream",
     "text": [
      "Dataset: kaggle:  90%|█████████ | 162/180 [02:33<00:18,  1.02s/it]"
     ]
    },
    {
     "name": "stdout",
     "output_type": "stream",
     "text": [
      "remove_outliers_lof + features_selection_extratrees + oversampling_nc_smote is invalid for dataset kaggle because: SMOTE-NC is not designed to work only with numerical features. It requires some categorical features.\n"
     ]
    },
    {
     "name": "stderr",
     "output_type": "stream",
     "text": [
      "Dataset: kaggle:  93%|█████████▎| 168/180 [02:40<00:12,  1.05s/it]"
     ]
    },
    {
     "name": "stdout",
     "output_type": "stream",
     "text": [
      "remove_outliers_lof + features_selection_mutual_information + oversampling_nc_smote is invalid for dataset kaggle because: SMOTE-NC is not designed to work only with numerical features. It requires some categorical features.\n",
      "K-nearest-neighbor failed to train with configuration remove_outliers_lof + features_selection_rfe + oversampling_none because: 'Flags' object has no attribute 'c_contiguous'\n"
     ]
    },
    {
     "name": "stderr",
     "output_type": "stream",
     "text": [
      "Dataset: kaggle:  94%|█████████▍| 169/180 [02:42<00:14,  1.35s/it]"
     ]
    },
    {
     "name": "stdout",
     "output_type": "stream",
     "text": [
      "K-nearest-neighbor failed to train with configuration remove_outliers_lof + features_selection_rfe + oversampling_smote because: 'Flags' object has no attribute 'c_contiguous'\n"
     ]
    },
    {
     "name": "stderr",
     "output_type": "stream",
     "text": [
      "Dataset: kaggle:  94%|█████████▍| 170/180 [02:44<00:15,  1.56s/it]"
     ]
    },
    {
     "name": "stdout",
     "output_type": "stream",
     "text": [
      "K-nearest-neighbor failed to train with configuration remove_outliers_lof + features_selection_rfe + oversampling_svm_smote because: 'Flags' object has no attribute 'c_contiguous'\n"
     ]
    },
    {
     "name": "stderr",
     "output_type": "stream",
     "text": [
      "Dataset: kaggle:  95%|█████████▌| 171/180 [02:46<00:15,  1.77s/it]"
     ]
    },
    {
     "name": "stdout",
     "output_type": "stream",
     "text": [
      "K-nearest-neighbor failed to train with configuration remove_outliers_lof + features_selection_rfe + oversampling_adasyn because: 'Flags' object has no attribute 'c_contiguous'\n"
     ]
    },
    {
     "name": "stderr",
     "output_type": "stream",
     "text": [
      "Dataset: kaggle:  96%|█████████▌| 172/180 [02:48<00:15,  1.89s/it]"
     ]
    },
    {
     "name": "stdout",
     "output_type": "stream",
     "text": [
      "K-nearest-neighbor failed to train with configuration remove_outliers_lof + features_selection_rfe + oversampling_smote_borderline because: 'Flags' object has no attribute 'c_contiguous'\n"
     ]
    },
    {
     "name": "stderr",
     "output_type": "stream",
     "text": [
      "Dataset: kaggle:  97%|█████████▋| 174/180 [02:52<00:10,  1.73s/it]"
     ]
    },
    {
     "name": "stdout",
     "output_type": "stream",
     "text": [
      "remove_outliers_lof + features_selection_rfe + oversampling_nc_smote is invalid for dataset kaggle because: SMOTE-NC is not designed to work only with numerical features. It requires some categorical features.\n",
      "K-nearest-neighbor failed to train with configuration remove_outliers_lof + features_selection_variance_threshold + oversampling_none because: 'Flags' object has no attribute 'c_contiguous'\n"
     ]
    },
    {
     "name": "stderr",
     "output_type": "stream",
     "text": [
      "Dataset: kaggle:  97%|█████████▋| 175/180 [02:53<00:07,  1.58s/it]"
     ]
    },
    {
     "name": "stdout",
     "output_type": "stream",
     "text": [
      "K-nearest-neighbor failed to train with configuration remove_outliers_lof + features_selection_variance_threshold + oversampling_smote because: 'Flags' object has no attribute 'c_contiguous'\n"
     ]
    },
    {
     "name": "stderr",
     "output_type": "stream",
     "text": [
      "Dataset: kaggle:  98%|█████████▊| 176/180 [02:54<00:06,  1.51s/it]"
     ]
    },
    {
     "name": "stdout",
     "output_type": "stream",
     "text": [
      "K-nearest-neighbor failed to train with configuration remove_outliers_lof + features_selection_variance_threshold + oversampling_svm_smote because: 'Flags' object has no attribute 'c_contiguous'\n"
     ]
    },
    {
     "name": "stderr",
     "output_type": "stream",
     "text": [
      "Dataset: kaggle:  98%|█████████▊| 177/180 [02:56<00:04,  1.51s/it]"
     ]
    },
    {
     "name": "stdout",
     "output_type": "stream",
     "text": [
      "K-nearest-neighbor failed to train with configuration remove_outliers_lof + features_selection_variance_threshold + oversampling_adasyn because: 'Flags' object has no attribute 'c_contiguous'\n"
     ]
    },
    {
     "name": "stderr",
     "output_type": "stream",
     "text": [
      "Dataset: kaggle:  99%|█████████▉| 178/180 [02:57<00:03,  1.51s/it]"
     ]
    },
    {
     "name": "stdout",
     "output_type": "stream",
     "text": [
      "K-nearest-neighbor failed to train with configuration remove_outliers_lof + features_selection_variance_threshold + oversampling_smote_borderline because: 'Flags' object has no attribute 'c_contiguous'\n"
     ]
    },
    {
     "name": "stderr",
     "output_type": "stream",
     "text": [
      "Dataset: kaggle: 100%|██████████| 180/180 [02:59<00:00,  1.00it/s]\n"
     ]
    },
    {
     "name": "stdout",
     "output_type": "stream",
     "text": [
      "remove_outliers_lof + features_selection_variance_threshold + oversampling_nc_smote is invalid for dataset kaggle because: SMOTE-NC is not designed to work only with numerical features. It requires some categorical features.\n"
     ]
    },
    {
     "name": "stderr",
     "output_type": "stream",
     "text": [
      "Dataset: moodle:   3%|▎         | 6/180 [00:02<01:03,  2.74it/s]"
     ]
    },
    {
     "name": "stdout",
     "output_type": "stream",
     "text": [
      "remove_outliers_none + features_selection_none + oversampling_nc_smote is invalid for dataset moodle because: SMOTE-NC is not designed to work only with numerical features. It requires some categorical features.\n"
     ]
    },
    {
     "name": "stderr",
     "output_type": "stream",
     "text": [
      "Dataset: moodle:   7%|▋         | 12/180 [00:06<01:27,  1.92it/s]"
     ]
    },
    {
     "name": "stdout",
     "output_type": "stream",
     "text": [
      "remove_outliers_none + features_selection_extratrees + oversampling_nc_smote is invalid for dataset moodle because: SMOTE-NC is not designed to work only with numerical features. It requires some categorical features.\n",
      "remove_outliers_none + features_selection_mutual_information + oversampling_none is invalid for dataset moodle because: k should be <= n_features = 9; got 10. Use k='all' to return all features.\n"
     ]
    },
    {
     "name": "stderr",
     "output_type": "stream",
     "text": [
      "Dataset: moodle:   8%|▊         | 14/180 [00:06<00:54,  3.05it/s]"
     ]
    },
    {
     "name": "stdout",
     "output_type": "stream",
     "text": [
      "remove_outliers_none + features_selection_mutual_information + oversampling_smote is invalid for dataset moodle because: k should be <= n_features = 9; got 10. Use k='all' to return all features.\n",
      "remove_outliers_none + features_selection_mutual_information + oversampling_svm_smote is invalid for dataset moodle because: k should be <= n_features = 9; got 10. Use k='all' to return all features.\n"
     ]
    },
    {
     "name": "stderr",
     "output_type": "stream",
     "text": [
      "Dataset: moodle:   9%|▉         | 16/180 [00:06<00:37,  4.33it/s]"
     ]
    },
    {
     "name": "stdout",
     "output_type": "stream",
     "text": [
      "remove_outliers_none + features_selection_mutual_information + oversampling_adasyn is invalid for dataset moodle because: k should be <= n_features = 9; got 10. Use k='all' to return all features.\n",
      "remove_outliers_none + features_selection_mutual_information + oversampling_smote_borderline is invalid for dataset moodle because: k should be <= n_features = 9; got 10. Use k='all' to return all features.\n"
     ]
    },
    {
     "name": "stderr",
     "output_type": "stream",
     "text": [
      "Dataset: moodle:  10%|█         | 18/180 [00:07<00:29,  5.53it/s]"
     ]
    },
    {
     "name": "stdout",
     "output_type": "stream",
     "text": [
      "remove_outliers_none + features_selection_mutual_information + oversampling_nc_smote is invalid for dataset moodle because: k should be <= n_features = 9; got 10. Use k='all' to return all features.\n"
     ]
    },
    {
     "name": "stderr",
     "output_type": "stream",
     "text": [
      "Dataset: moodle:  13%|█▎        | 24/180 [00:10<01:21,  1.91it/s]"
     ]
    },
    {
     "name": "stdout",
     "output_type": "stream",
     "text": [
      "remove_outliers_none + features_selection_rfe + oversampling_nc_smote is invalid for dataset moodle because: SMOTE-NC is not designed to work only with numerical features. It requires some categorical features.\n"
     ]
    },
    {
     "name": "stderr",
     "output_type": "stream",
     "text": [
      "Dataset: moodle:  17%|█▋        | 30/180 [00:13<00:57,  2.59it/s]"
     ]
    },
    {
     "name": "stdout",
     "output_type": "stream",
     "text": [
      "remove_outliers_none + features_selection_variance_threshold + oversampling_nc_smote is invalid for dataset moodle because: SMOTE-NC is not designed to work only with numerical features. It requires some categorical features.\n"
     ]
    },
    {
     "name": "stderr",
     "output_type": "stream",
     "text": [
      "Dataset: moodle:  20%|██        | 36/180 [00:16<01:04,  2.24it/s]"
     ]
    },
    {
     "name": "stdout",
     "output_type": "stream",
     "text": [
      "remove_outliers_isolation_forest + features_selection_none + oversampling_nc_smote is invalid for dataset moodle because: SMOTE-NC is not designed to work only with numerical features. It requires some categorical features.\n"
     ]
    },
    {
     "name": "stderr",
     "output_type": "stream",
     "text": [
      "Dataset: moodle:  23%|██▎       | 42/180 [00:20<01:28,  1.55it/s]"
     ]
    },
    {
     "name": "stdout",
     "output_type": "stream",
     "text": [
      "remove_outliers_isolation_forest + features_selection_extratrees + oversampling_nc_smote is invalid for dataset moodle because: SMOTE-NC is not designed to work only with numerical features. It requires some categorical features.\n"
     ]
    },
    {
     "name": "stderr",
     "output_type": "stream",
     "text": [
      "Dataset: moodle:  24%|██▍       | 43/180 [00:21<01:10,  1.93it/s]"
     ]
    },
    {
     "name": "stdout",
     "output_type": "stream",
     "text": [
      "remove_outliers_isolation_forest + features_selection_mutual_information + oversampling_none is invalid for dataset moodle because: k should be <= n_features = 9; got 10. Use k='all' to return all features.\n"
     ]
    },
    {
     "name": "stderr",
     "output_type": "stream",
     "text": [
      "Dataset: moodle:  24%|██▍       | 44/180 [00:21<00:58,  2.34it/s]"
     ]
    },
    {
     "name": "stdout",
     "output_type": "stream",
     "text": [
      "remove_outliers_isolation_forest + features_selection_mutual_information + oversampling_smote is invalid for dataset moodle because: k should be <= n_features = 9; got 10. Use k='all' to return all features.\n"
     ]
    },
    {
     "name": "stderr",
     "output_type": "stream",
     "text": [
      "Dataset: moodle:  25%|██▌       | 45/180 [00:21<00:49,  2.70it/s]"
     ]
    },
    {
     "name": "stdout",
     "output_type": "stream",
     "text": [
      "remove_outliers_isolation_forest + features_selection_mutual_information + oversampling_svm_smote is invalid for dataset moodle because: k should be <= n_features = 9; got 10. Use k='all' to return all features.\n"
     ]
    },
    {
     "name": "stderr",
     "output_type": "stream",
     "text": [
      "Dataset: moodle:  26%|██▌       | 46/180 [00:21<00:44,  3.00it/s]"
     ]
    },
    {
     "name": "stdout",
     "output_type": "stream",
     "text": [
      "remove_outliers_isolation_forest + features_selection_mutual_information + oversampling_adasyn is invalid for dataset moodle because: k should be <= n_features = 9; got 10. Use k='all' to return all features.\n"
     ]
    },
    {
     "name": "stderr",
     "output_type": "stream",
     "text": [
      "Dataset: moodle:  26%|██▌       | 47/180 [00:22<00:39,  3.38it/s]"
     ]
    },
    {
     "name": "stdout",
     "output_type": "stream",
     "text": [
      "remove_outliers_isolation_forest + features_selection_mutual_information + oversampling_smote_borderline is invalid for dataset moodle because: k should be <= n_features = 9; got 10. Use k='all' to return all features.\n"
     ]
    },
    {
     "name": "stderr",
     "output_type": "stream",
     "text": [
      "Dataset: moodle:  27%|██▋       | 48/180 [00:22<00:35,  3.68it/s]"
     ]
    },
    {
     "name": "stdout",
     "output_type": "stream",
     "text": [
      "remove_outliers_isolation_forest + features_selection_mutual_information + oversampling_nc_smote is invalid for dataset moodle because: k should be <= n_features = 9; got 10. Use k='all' to return all features.\n"
     ]
    },
    {
     "name": "stderr",
     "output_type": "stream",
     "text": [
      "Dataset: moodle:  30%|███       | 54/180 [00:26<01:19,  1.59it/s]"
     ]
    },
    {
     "name": "stdout",
     "output_type": "stream",
     "text": [
      "remove_outliers_isolation_forest + features_selection_rfe + oversampling_nc_smote is invalid for dataset moodle because: SMOTE-NC is not designed to work only with numerical features. It requires some categorical features.\n"
     ]
    },
    {
     "name": "stderr",
     "output_type": "stream",
     "text": [
      "Dataset: moodle:  33%|███▎      | 60/180 [00:29<00:53,  2.26it/s]"
     ]
    },
    {
     "name": "stdout",
     "output_type": "stream",
     "text": [
      "remove_outliers_isolation_forest + features_selection_variance_threshold + oversampling_nc_smote is invalid for dataset moodle because: SMOTE-NC is not designed to work only with numerical features. It requires some categorical features.\n"
     ]
    },
    {
     "name": "stderr",
     "output_type": "stream",
     "text": [
      "Dataset: moodle:  36%|███▌      | 65/180 [00:32<00:57,  2.02it/s]"
     ]
    },
    {
     "name": "stdout",
     "output_type": "stream",
     "text": [
      "remove_outliers_zscore + features_selection_none + oversampling_nc_smote is invalid for dataset moodle because: SMOTE-NC is not designed to work only with numerical features. It requires some categorical features.\n"
     ]
    },
    {
     "name": "stderr",
     "output_type": "stream",
     "text": [
      "Dataset: moodle:  40%|████      | 72/180 [00:35<00:53,  2.03it/s]"
     ]
    },
    {
     "name": "stdout",
     "output_type": "stream",
     "text": [
      "remove_outliers_zscore + features_selection_extratrees + oversampling_nc_smote is invalid for dataset moodle because: SMOTE-NC is not designed to work only with numerical features. It requires some categorical features.\n",
      "remove_outliers_zscore + features_selection_mutual_information + oversampling_none is invalid for dataset moodle because: k should be <= n_features = 9; got 10. Use k='all' to return all features.\n",
      "remove_outliers_zscore + features_selection_mutual_information + oversampling_smote is invalid for dataset moodle because: k should be <= n_features = 9; got 10. Use k='all' to return all features.\n"
     ]
    },
    {
     "name": "stderr",
     "output_type": "stream",
     "text": [
      "Dataset: moodle:  42%|████▏     | 75/180 [00:36<00:29,  3.61it/s]"
     ]
    },
    {
     "name": "stdout",
     "output_type": "stream",
     "text": [
      "remove_outliers_zscore + features_selection_mutual_information + oversampling_svm_smote is invalid for dataset moodle because: k should be <= n_features = 9; got 10. Use k='all' to return all features.\n",
      "remove_outliers_zscore + features_selection_mutual_information + oversampling_adasyn is invalid for dataset moodle because: k should be <= n_features = 9; got 10. Use k='all' to return all features.\n"
     ]
    },
    {
     "name": "stderr",
     "output_type": "stream",
     "text": [
      "Dataset: moodle:  43%|████▎     | 78/180 [00:36<00:19,  5.29it/s]"
     ]
    },
    {
     "name": "stdout",
     "output_type": "stream",
     "text": [
      "remove_outliers_zscore + features_selection_mutual_information + oversampling_smote_borderline is invalid for dataset moodle because: k should be <= n_features = 9; got 10. Use k='all' to return all features.\n",
      "remove_outliers_zscore + features_selection_mutual_information + oversampling_nc_smote is invalid for dataset moodle because: k should be <= n_features = 9; got 10. Use k='all' to return all features.\n"
     ]
    },
    {
     "name": "stderr",
     "output_type": "stream",
     "text": [
      "Dataset: moodle:  47%|████▋     | 84/180 [00:40<00:53,  1.78it/s]"
     ]
    },
    {
     "name": "stdout",
     "output_type": "stream",
     "text": [
      "remove_outliers_zscore + features_selection_rfe + oversampling_nc_smote is invalid for dataset moodle because: SMOTE-NC is not designed to work only with numerical features. It requires some categorical features.\n"
     ]
    },
    {
     "name": "stderr",
     "output_type": "stream",
     "text": [
      "Dataset: moodle:  49%|████▉     | 89/180 [00:43<00:46,  1.97it/s]"
     ]
    },
    {
     "name": "stdout",
     "output_type": "stream",
     "text": [
      "remove_outliers_zscore + features_selection_variance_threshold + oversampling_nc_smote is invalid for dataset moodle because: SMOTE-NC is not designed to work only with numerical features. It requires some categorical features.\n"
     ]
    },
    {
     "name": "stderr",
     "output_type": "stream",
     "text": [
      "Dataset: moodle:  53%|█████▎    | 95/180 [00:45<00:37,  2.28it/s]"
     ]
    },
    {
     "name": "stdout",
     "output_type": "stream",
     "text": [
      "remove_outliers_iqr + features_selection_none + oversampling_nc_smote is invalid for dataset moodle because: SMOTE-NC is not designed to work only with numerical features. It requires some categorical features.\n"
     ]
    },
    {
     "name": "stderr",
     "output_type": "stream",
     "text": [
      "Dataset: moodle:  57%|█████▋    | 102/180 [00:48<00:36,  2.13it/s]"
     ]
    },
    {
     "name": "stdout",
     "output_type": "stream",
     "text": [
      "remove_outliers_iqr + features_selection_extratrees + oversampling_nc_smote is invalid for dataset moodle because: SMOTE-NC is not designed to work only with numerical features. It requires some categorical features.\n",
      "remove_outliers_iqr + features_selection_mutual_information + oversampling_none is invalid for dataset moodle because: k should be <= n_features = 9; got 10. Use k='all' to return all features.\n",
      "remove_outliers_iqr + features_selection_mutual_information + oversampling_smote is invalid for dataset moodle because: k should be <= n_features = 9; got 10. Use k='all' to return all features.\n"
     ]
    },
    {
     "name": "stderr",
     "output_type": "stream",
     "text": [
      "Dataset: moodle:  58%|█████▊    | 105/180 [00:49<00:18,  3.97it/s]"
     ]
    },
    {
     "name": "stdout",
     "output_type": "stream",
     "text": [
      "remove_outliers_iqr + features_selection_mutual_information + oversampling_svm_smote is invalid for dataset moodle because: k should be <= n_features = 9; got 10. Use k='all' to return all features.\n",
      "remove_outliers_iqr + features_selection_mutual_information + oversampling_adasyn is invalid for dataset moodle because: k should be <= n_features = 9; got 10. Use k='all' to return all features.\n",
      "remove_outliers_iqr + features_selection_mutual_information + oversampling_smote_borderline is invalid for dataset moodle because: k should be <= n_features = 9; got 10. Use k='all' to return all features.\n"
     ]
    },
    {
     "name": "stderr",
     "output_type": "stream",
     "text": [
      "Dataset: moodle:  59%|█████▉    | 107/180 [00:49<00:13,  5.44it/s]"
     ]
    },
    {
     "name": "stdout",
     "output_type": "stream",
     "text": [
      "remove_outliers_iqr + features_selection_mutual_information + oversampling_nc_smote is invalid for dataset moodle because: k should be <= n_features = 9; got 10. Use k='all' to return all features.\n"
     ]
    },
    {
     "name": "stderr",
     "output_type": "stream",
     "text": [
      "Dataset: moodle:  63%|██████▎   | 114/180 [00:53<00:33,  1.97it/s]"
     ]
    },
    {
     "name": "stdout",
     "output_type": "stream",
     "text": [
      "remove_outliers_iqr + features_selection_rfe + oversampling_nc_smote is invalid for dataset moodle because: SMOTE-NC is not designed to work only with numerical features. It requires some categorical features.\n"
     ]
    },
    {
     "name": "stderr",
     "output_type": "stream",
     "text": [
      "Dataset: moodle:  66%|██████▌   | 119/180 [00:55<00:26,  2.30it/s]"
     ]
    },
    {
     "name": "stdout",
     "output_type": "stream",
     "text": [
      "remove_outliers_iqr + features_selection_variance_threshold + oversampling_nc_smote is invalid for dataset moodle because: SMOTE-NC is not designed to work only with numerical features. It requires some categorical features.\n"
     ]
    },
    {
     "name": "stderr",
     "output_type": "stream",
     "text": [
      "Dataset: moodle:  68%|██████▊   | 123/180 [00:56<00:12,  4.48it/s]"
     ]
    },
    {
     "name": "stdout",
     "output_type": "stream",
     "text": [
      "remove_outliers_dbscan + features_selection_none + oversampling_smote is invalid for dataset moodle because: Expected n_neighbors <= n_samples,  but n_samples = 2, n_neighbors = 11\n",
      "remove_outliers_dbscan + features_selection_none + oversampling_svm_smote is invalid for dataset moodle because: Expected n_neighbors <= n_samples,  but n_samples = 2, n_neighbors = 11\n",
      "remove_outliers_dbscan + features_selection_none + oversampling_adasyn is invalid for dataset moodle because: Expected n_neighbors <= n_samples,  but n_samples = 2, n_neighbors = 11\n"
     ]
    },
    {
     "name": "stderr",
     "output_type": "stream",
     "text": [
      "Dataset: moodle:  69%|██████▉   | 125/180 [00:56<00:10,  5.41it/s]"
     ]
    },
    {
     "name": "stdout",
     "output_type": "stream",
     "text": [
      "remove_outliers_dbscan + features_selection_none + oversampling_smote_borderline is invalid for dataset moodle because: Expected n_neighbors <= n_samples,  but n_samples = 2, n_neighbors = 11\n",
      "remove_outliers_dbscan + features_selection_none + oversampling_nc_smote is invalid for dataset moodle because: SMOTE-NC is not designed to work only with numerical features. It requires some categorical features.\n"
     ]
    },
    {
     "name": "stderr",
     "output_type": "stream",
     "text": [
      "Dataset: moodle:  71%|███████   | 128/180 [00:57<00:11,  4.70it/s]"
     ]
    },
    {
     "name": "stdout",
     "output_type": "stream",
     "text": [
      "remove_outliers_dbscan + features_selection_extratrees + oversampling_smote is invalid for dataset moodle because: Expected n_neighbors <= n_samples,  but n_samples = 2, n_neighbors = 11\n"
     ]
    },
    {
     "name": "stderr",
     "output_type": "stream",
     "text": [
      "Dataset: moodle:  72%|███████▏  | 129/180 [00:57<00:10,  4.66it/s]"
     ]
    },
    {
     "name": "stdout",
     "output_type": "stream",
     "text": [
      "remove_outliers_dbscan + features_selection_extratrees + oversampling_svm_smote is invalid for dataset moodle because: Expected n_neighbors <= n_samples,  but n_samples = 2, n_neighbors = 11\n"
     ]
    },
    {
     "name": "stderr",
     "output_type": "stream",
     "text": [
      "Dataset: moodle:  72%|███████▏  | 130/180 [00:57<00:10,  4.58it/s]"
     ]
    },
    {
     "name": "stdout",
     "output_type": "stream",
     "text": [
      "remove_outliers_dbscan + features_selection_extratrees + oversampling_adasyn is invalid for dataset moodle because: Expected n_neighbors <= n_samples,  but n_samples = 2, n_neighbors = 11\n"
     ]
    },
    {
     "name": "stderr",
     "output_type": "stream",
     "text": [
      "Dataset: moodle:  73%|███████▎  | 131/180 [00:57<00:10,  4.51it/s]"
     ]
    },
    {
     "name": "stdout",
     "output_type": "stream",
     "text": [
      "remove_outliers_dbscan + features_selection_extratrees + oversampling_smote_borderline is invalid for dataset moodle because: Expected n_neighbors <= n_samples,  but n_samples = 2, n_neighbors = 11\n"
     ]
    },
    {
     "name": "stderr",
     "output_type": "stream",
     "text": [
      "Dataset: moodle:  73%|███████▎  | 132/180 [00:57<00:10,  4.57it/s]"
     ]
    },
    {
     "name": "stdout",
     "output_type": "stream",
     "text": [
      "remove_outliers_dbscan + features_selection_extratrees + oversampling_nc_smote is invalid for dataset moodle because: SMOTE-NC is not designed to work only with numerical features. It requires some categorical features.\n",
      "remove_outliers_dbscan + features_selection_mutual_information + oversampling_none is invalid for dataset moodle because: k should be <= n_features = 9; got 10. Use k='all' to return all features.\n"
     ]
    },
    {
     "name": "stderr",
     "output_type": "stream",
     "text": [
      "Dataset: moodle:  74%|███████▍  | 134/180 [00:58<00:09,  5.02it/s]"
     ]
    },
    {
     "name": "stdout",
     "output_type": "stream",
     "text": [
      "remove_outliers_dbscan + features_selection_mutual_information + oversampling_smote is invalid for dataset moodle because: k should be <= n_features = 9; got 10. Use k='all' to return all features.\n",
      "remove_outliers_dbscan + features_selection_mutual_information + oversampling_svm_smote is invalid for dataset moodle because: k should be <= n_features = 9; got 10. Use k='all' to return all features.\n"
     ]
    },
    {
     "name": "stderr",
     "output_type": "stream",
     "text": [
      "Dataset: moodle:  76%|███████▌  | 136/180 [00:58<00:08,  5.29it/s]"
     ]
    },
    {
     "name": "stdout",
     "output_type": "stream",
     "text": [
      "remove_outliers_dbscan + features_selection_mutual_information + oversampling_adasyn is invalid for dataset moodle because: k should be <= n_features = 9; got 10. Use k='all' to return all features.\n",
      "remove_outliers_dbscan + features_selection_mutual_information + oversampling_smote_borderline is invalid for dataset moodle because: k should be <= n_features = 9; got 10. Use k='all' to return all features.\n"
     ]
    },
    {
     "name": "stderr",
     "output_type": "stream",
     "text": [
      "Dataset: moodle:  77%|███████▋  | 138/180 [00:59<00:09,  4.67it/s]"
     ]
    },
    {
     "name": "stdout",
     "output_type": "stream",
     "text": [
      "remove_outliers_dbscan + features_selection_mutual_information + oversampling_nc_smote is invalid for dataset moodle because: k should be <= n_features = 9; got 10. Use k='all' to return all features.\n"
     ]
    },
    {
     "name": "stderr",
     "output_type": "stream",
     "text": [
      "Dataset: moodle:  78%|███████▊  | 140/180 [00:59<00:10,  3.68it/s]"
     ]
    },
    {
     "name": "stdout",
     "output_type": "stream",
     "text": [
      "remove_outliers_dbscan + features_selection_rfe + oversampling_smote is invalid for dataset moodle because: Expected n_neighbors <= n_samples,  but n_samples = 2, n_neighbors = 11\n"
     ]
    },
    {
     "name": "stderr",
     "output_type": "stream",
     "text": [
      "Dataset: moodle:  78%|███████▊  | 141/180 [00:59<00:09,  3.94it/s]"
     ]
    },
    {
     "name": "stdout",
     "output_type": "stream",
     "text": [
      "remove_outliers_dbscan + features_selection_rfe + oversampling_svm_smote is invalid for dataset moodle because: Found array with 0 sample(s) (shape=(0, 4)) while a minimum of 1 is required by NearestNeighbors.\n"
     ]
    },
    {
     "name": "stderr",
     "output_type": "stream",
     "text": [
      "Dataset: moodle:  79%|███████▉  | 142/180 [01:00<00:09,  4.04it/s]"
     ]
    },
    {
     "name": "stdout",
     "output_type": "stream",
     "text": [
      "remove_outliers_dbscan + features_selection_rfe + oversampling_adasyn is invalid for dataset moodle because: Expected n_neighbors <= n_samples,  but n_samples = 2, n_neighbors = 11\n"
     ]
    },
    {
     "name": "stderr",
     "output_type": "stream",
     "text": [
      "Dataset: moodle:  80%|████████  | 144/180 [01:00<00:10,  3.52it/s]"
     ]
    },
    {
     "name": "stdout",
     "output_type": "stream",
     "text": [
      "remove_outliers_dbscan + features_selection_rfe + oversampling_nc_smote is invalid for dataset moodle because: SMOTE-NC is not designed to work only with numerical features. It requires some categorical features.\n"
     ]
    },
    {
     "name": "stderr",
     "output_type": "stream",
     "text": [
      "Dataset: moodle:  82%|████████▏ | 147/180 [01:01<00:06,  5.16it/s]"
     ]
    },
    {
     "name": "stdout",
     "output_type": "stream",
     "text": [
      "remove_outliers_dbscan + features_selection_variance_threshold + oversampling_smote is invalid for dataset moodle because: Expected n_neighbors <= n_samples,  but n_samples = 2, n_neighbors = 11\n",
      "remove_outliers_dbscan + features_selection_variance_threshold + oversampling_svm_smote is invalid for dataset moodle because: Expected n_neighbors <= n_samples,  but n_samples = 2, n_neighbors = 11\n",
      "remove_outliers_dbscan + features_selection_variance_threshold + oversampling_adasyn is invalid for dataset moodle because: Expected n_neighbors <= n_samples,  but n_samples = 2, n_neighbors = 11\n"
     ]
    },
    {
     "name": "stderr",
     "output_type": "stream",
     "text": [
      "Dataset: moodle:  83%|████████▎ | 149/180 [01:01<00:04,  6.87it/s]"
     ]
    },
    {
     "name": "stdout",
     "output_type": "stream",
     "text": [
      "remove_outliers_dbscan + features_selection_variance_threshold + oversampling_smote_borderline is invalid for dataset moodle because: Expected n_neighbors <= n_samples,  but n_samples = 2, n_neighbors = 11\n",
      "remove_outliers_dbscan + features_selection_variance_threshold + oversampling_nc_smote is invalid for dataset moodle because: SMOTE-NC is not designed to work only with numerical features. It requires some categorical features.\n"
     ]
    },
    {
     "name": "stderr",
     "output_type": "stream",
     "text": [
      "Dataset: moodle:  86%|████████▌ | 155/180 [01:04<00:09,  2.69it/s]"
     ]
    },
    {
     "name": "stdout",
     "output_type": "stream",
     "text": [
      "remove_outliers_lof + features_selection_none + oversampling_nc_smote is invalid for dataset moodle because: SMOTE-NC is not designed to work only with numerical features. It requires some categorical features.\n"
     ]
    },
    {
     "name": "stderr",
     "output_type": "stream",
     "text": [
      "Dataset: moodle:  90%|█████████ | 162/180 [01:07<00:08,  2.22it/s]"
     ]
    },
    {
     "name": "stdout",
     "output_type": "stream",
     "text": [
      "remove_outliers_lof + features_selection_extratrees + oversampling_nc_smote is invalid for dataset moodle because: SMOTE-NC is not designed to work only with numerical features. It requires some categorical features.\n",
      "remove_outliers_lof + features_selection_mutual_information + oversampling_none is invalid for dataset moodle because: k should be <= n_features = 9; got 10. Use k='all' to return all features.\n"
     ]
    },
    {
     "name": "stderr",
     "output_type": "stream",
     "text": [
      "Dataset: moodle:  92%|█████████▏| 165/180 [01:07<00:03,  4.14it/s]"
     ]
    },
    {
     "name": "stdout",
     "output_type": "stream",
     "text": [
      "remove_outliers_lof + features_selection_mutual_information + oversampling_smote is invalid for dataset moodle because: k should be <= n_features = 9; got 10. Use k='all' to return all features.\n",
      "remove_outliers_lof + features_selection_mutual_information + oversampling_svm_smote is invalid for dataset moodle because: k should be <= n_features = 9; got 10. Use k='all' to return all features.\n",
      "remove_outliers_lof + features_selection_mutual_information + oversampling_adasyn is invalid for dataset moodle because: k should be <= n_features = 9; got 10. Use k='all' to return all features.\n"
     ]
    },
    {
     "name": "stderr",
     "output_type": "stream",
     "text": [
      "Dataset: moodle:  93%|█████████▎| 167/180 [01:07<00:02,  5.60it/s]"
     ]
    },
    {
     "name": "stdout",
     "output_type": "stream",
     "text": [
      "remove_outliers_lof + features_selection_mutual_information + oversampling_smote_borderline is invalid for dataset moodle because: k should be <= n_features = 9; got 10. Use k='all' to return all features.\n",
      "remove_outliers_lof + features_selection_mutual_information + oversampling_nc_smote is invalid for dataset moodle because: k should be <= n_features = 9; got 10. Use k='all' to return all features.\n"
     ]
    },
    {
     "name": "stderr",
     "output_type": "stream",
     "text": [
      "Dataset: moodle:  97%|█████████▋| 174/180 [01:12<00:03,  1.81it/s]"
     ]
    },
    {
     "name": "stdout",
     "output_type": "stream",
     "text": [
      "remove_outliers_lof + features_selection_rfe + oversampling_nc_smote is invalid for dataset moodle because: SMOTE-NC is not designed to work only with numerical features. It requires some categorical features.\n"
     ]
    },
    {
     "name": "stderr",
     "output_type": "stream",
     "text": [
      "Dataset: moodle: 100%|██████████| 180/180 [01:14<00:00,  2.41it/s]\n"
     ]
    },
    {
     "name": "stdout",
     "output_type": "stream",
     "text": [
      "remove_outliers_lof + features_selection_variance_threshold + oversampling_nc_smote is invalid for dataset moodle because: SMOTE-NC is not designed to work only with numerical features. It requires some categorical features.\n"
     ]
    },
    {
     "name": "stderr",
     "output_type": "stream",
     "text": [
      "Dataset: student_pred:   1%|          | 2/180 [00:00<00:10, 16.87it/s]"
     ]
    },
    {
     "name": "stdout",
     "output_type": "stream",
     "text": [
      "remove_outliers_none + features_selection_none + oversampling_none is invalid for dataset student_pred because: Input y contains NaN.\n",
      "remove_outliers_none + features_selection_none + oversampling_smote is invalid for dataset student_pred because: Input y contains NaN.\n",
      "remove_outliers_none + features_selection_none + oversampling_svm_smote is invalid for dataset student_pred because: Input y contains NaN.\n",
      "remove_outliers_none + features_selection_none + oversampling_adasyn is invalid for dataset student_pred because: Input y contains NaN.\n"
     ]
    },
    {
     "name": "stderr",
     "output_type": "stream",
     "text": [
      "Dataset: student_pred:   2%|▏         | 4/180 [00:00<00:10, 16.74it/s]"
     ]
    },
    {
     "name": "stdout",
     "output_type": "stream",
     "text": [
      "remove_outliers_none + features_selection_none + oversampling_smote_borderline is invalid for dataset student_pred because: Input y contains NaN.\n",
      "remove_outliers_none + features_selection_none + oversampling_nc_smote is invalid for dataset student_pred because: Input y contains NaN.\n"
     ]
    },
    {
     "name": "stderr",
     "output_type": "stream",
     "text": [
      "Dataset: student_pred:   3%|▎         | 6/180 [00:00<00:10, 16.93it/s]"
     ]
    },
    {
     "name": "stdout",
     "output_type": "stream",
     "text": [
      "remove_outliers_none + features_selection_extratrees + oversampling_none is invalid for dataset student_pred because: Input y contains NaN.\n",
      "remove_outliers_none + features_selection_extratrees + oversampling_smote is invalid for dataset student_pred because: Input y contains NaN.\n"
     ]
    },
    {
     "name": "stderr",
     "output_type": "stream",
     "text": [
      "Dataset: student_pred:   4%|▍         | 8/180 [00:00<00:10, 17.14it/s]"
     ]
    },
    {
     "name": "stdout",
     "output_type": "stream",
     "text": [
      "remove_outliers_none + features_selection_extratrees + oversampling_svm_smote is invalid for dataset student_pred because: Input y contains NaN.\n",
      "remove_outliers_none + features_selection_extratrees + oversampling_adasyn is invalid for dataset student_pred because: Input y contains NaN.\n"
     ]
    },
    {
     "name": "stderr",
     "output_type": "stream",
     "text": [
      "Dataset: student_pred:   7%|▋         | 12/180 [00:00<00:11, 14.38it/s]"
     ]
    },
    {
     "name": "stdout",
     "output_type": "stream",
     "text": [
      "remove_outliers_none + features_selection_extratrees + oversampling_smote_borderline is invalid for dataset student_pred because: Input y contains NaN.\n",
      "remove_outliers_none + features_selection_extratrees + oversampling_nc_smote is invalid for dataset student_pred because: Input y contains NaN.\n",
      "remove_outliers_none + features_selection_mutual_information + oversampling_none is invalid for dataset student_pred because: Input y contains NaN.\n",
      "remove_outliers_none + features_selection_mutual_information + oversampling_smote is invalid for dataset student_pred because: Input y contains NaN.\n"
     ]
    },
    {
     "name": "stderr",
     "output_type": "stream",
     "text": [
      "Dataset: student_pred:   9%|▉         | 16/180 [00:01<00:10, 15.70it/s]"
     ]
    },
    {
     "name": "stdout",
     "output_type": "stream",
     "text": [
      "remove_outliers_none + features_selection_mutual_information + oversampling_svm_smote is invalid for dataset student_pred because: Input y contains NaN.\n",
      "remove_outliers_none + features_selection_mutual_information + oversampling_adasyn is invalid for dataset student_pred because: Input y contains NaN.\n",
      "remove_outliers_none + features_selection_mutual_information + oversampling_smote_borderline is invalid for dataset student_pred because: Input y contains NaN.\n",
      "remove_outliers_none + features_selection_mutual_information + oversampling_nc_smote is invalid for dataset student_pred because: Input y contains NaN.\n"
     ]
    },
    {
     "name": "stderr",
     "output_type": "stream",
     "text": [
      "Dataset: student_pred:  11%|█         | 20/180 [00:01<00:09, 17.00it/s]"
     ]
    },
    {
     "name": "stdout",
     "output_type": "stream",
     "text": [
      "remove_outliers_none + features_selection_rfe + oversampling_none is invalid for dataset student_pred because: Input y contains NaN.\n",
      "remove_outliers_none + features_selection_rfe + oversampling_smote is invalid for dataset student_pred because: Input y contains NaN.\n",
      "remove_outliers_none + features_selection_rfe + oversampling_svm_smote is invalid for dataset student_pred because: Input y contains NaN.\n",
      "remove_outliers_none + features_selection_rfe + oversampling_adasyn is invalid for dataset student_pred because: Input y contains NaN.\n"
     ]
    },
    {
     "name": "stderr",
     "output_type": "stream",
     "text": [
      "Dataset: student_pred:  12%|█▏        | 22/180 [00:01<00:09, 17.51it/s]"
     ]
    },
    {
     "name": "stdout",
     "output_type": "stream",
     "text": [
      "remove_outliers_none + features_selection_rfe + oversampling_smote_borderline is invalid for dataset student_pred because: Input y contains NaN.\n"
     ]
    },
    {
     "name": "stderr",
     "output_type": "stream",
     "text": [
      "Dataset: student_pred:  13%|█▎        | 24/180 [00:01<00:11, 13.92it/s]"
     ]
    },
    {
     "name": "stdout",
     "output_type": "stream",
     "text": [
      "remove_outliers_none + features_selection_rfe + oversampling_nc_smote is invalid for dataset student_pred because: Input y contains NaN.\n"
     ]
    },
    {
     "name": "stderr",
     "output_type": "stream",
     "text": [
      "Dataset: student_pred:  14%|█▍        | 26/180 [00:01<00:10, 14.80it/s]"
     ]
    },
    {
     "name": "stdout",
     "output_type": "stream",
     "text": [
      "remove_outliers_none + features_selection_variance_threshold + oversampling_none is invalid for dataset student_pred because: Input y contains NaN.\n",
      "remove_outliers_none + features_selection_variance_threshold + oversampling_smote is invalid for dataset student_pred because: Input y contains NaN.\n",
      "remove_outliers_none + features_selection_variance_threshold + oversampling_svm_smote is invalid for dataset student_pred because: Input y contains NaN.\n",
      "remove_outliers_none + features_selection_variance_threshold + oversampling_adasyn is invalid for dataset student_pred because: Input y contains NaN.\n"
     ]
    },
    {
     "name": "stderr",
     "output_type": "stream",
     "text": [
      "Dataset: student_pred:  17%|█▋        | 30/180 [00:01<00:09, 16.28it/s]"
     ]
    },
    {
     "name": "stdout",
     "output_type": "stream",
     "text": [
      "remove_outliers_none + features_selection_variance_threshold + oversampling_smote_borderline is invalid for dataset student_pred because: Input y contains NaN.\n",
      "remove_outliers_none + features_selection_variance_threshold + oversampling_nc_smote is invalid for dataset student_pred because: Input y contains NaN.\n",
      "remove_outliers_isolation_forest + features_selection_none + oversampling_none is invalid for dataset student_pred because: Input y contains NaN.\n",
      "remove_outliers_isolation_forest + features_selection_none + oversampling_smote is invalid for dataset student_pred because: Input y contains NaN.\n"
     ]
    },
    {
     "name": "stderr",
     "output_type": "stream",
     "text": [
      "Dataset: student_pred:  19%|█▉        | 34/180 [00:02<00:08, 17.21it/s]"
     ]
    },
    {
     "name": "stdout",
     "output_type": "stream",
     "text": [
      "remove_outliers_isolation_forest + features_selection_none + oversampling_svm_smote is invalid for dataset student_pred because: Input y contains NaN.\n",
      "remove_outliers_isolation_forest + features_selection_none + oversampling_adasyn is invalid for dataset student_pred because: Input y contains NaN.\n",
      "remove_outliers_isolation_forest + features_selection_none + oversampling_smote_borderline is invalid for dataset student_pred because: Input y contains NaN.\n",
      "remove_outliers_isolation_forest + features_selection_none + oversampling_nc_smote is invalid for dataset student_pred because: Input y contains NaN.\n"
     ]
    },
    {
     "name": "stderr",
     "output_type": "stream",
     "text": [
      "Dataset: student_pred:  21%|██        | 38/180 [00:02<00:09, 15.06it/s]"
     ]
    },
    {
     "name": "stdout",
     "output_type": "stream",
     "text": [
      "remove_outliers_isolation_forest + features_selection_extratrees + oversampling_none is invalid for dataset student_pred because: Input y contains NaN.\n",
      "remove_outliers_isolation_forest + features_selection_extratrees + oversampling_smote is invalid for dataset student_pred because: Input y contains NaN.\n",
      "remove_outliers_isolation_forest + features_selection_extratrees + oversampling_svm_smote is invalid for dataset student_pred because: Input y contains NaN.\n",
      "remove_outliers_isolation_forest + features_selection_extratrees + oversampling_adasyn is invalid for dataset student_pred because: Input y contains NaN.\n"
     ]
    },
    {
     "name": "stderr",
     "output_type": "stream",
     "text": [
      "Dataset: student_pred:  23%|██▎       | 42/180 [00:02<00:08, 16.86it/s]"
     ]
    },
    {
     "name": "stdout",
     "output_type": "stream",
     "text": [
      "remove_outliers_isolation_forest + features_selection_extratrees + oversampling_smote_borderline is invalid for dataset student_pred because: Input y contains NaN.\n",
      "remove_outliers_isolation_forest + features_selection_extratrees + oversampling_nc_smote is invalid for dataset student_pred because: Input y contains NaN.\n",
      "remove_outliers_isolation_forest + features_selection_mutual_information + oversampling_none is invalid for dataset student_pred because: Input y contains NaN.\n",
      "remove_outliers_isolation_forest + features_selection_mutual_information + oversampling_smote is invalid for dataset student_pred because: Input y contains NaN.\n",
      "remove_outliers_isolation_forest + features_selection_mutual_information + oversampling_svm_smote is invalid for dataset student_pred because: Input y contains NaN.\n"
     ]
    },
    {
     "name": "stderr",
     "output_type": "stream",
     "text": [
      "Dataset: student_pred:  26%|██▌       | 47/180 [00:02<00:07, 18.18it/s]"
     ]
    },
    {
     "name": "stdout",
     "output_type": "stream",
     "text": [
      "remove_outliers_isolation_forest + features_selection_mutual_information + oversampling_adasyn is invalid for dataset student_pred because: Input y contains NaN.\n",
      "remove_outliers_isolation_forest + features_selection_mutual_information + oversampling_smote_borderline is invalid for dataset student_pred because: Input y contains NaN.\n",
      "remove_outliers_isolation_forest + features_selection_mutual_information + oversampling_nc_smote is invalid for dataset student_pred because: Input y contains NaN.\n",
      "remove_outliers_isolation_forest + features_selection_rfe + oversampling_none is invalid for dataset student_pred because: Input y contains NaN.\n"
     ]
    },
    {
     "name": "stderr",
     "output_type": "stream",
     "text": [
      "Dataset: student_pred:  27%|██▋       | 49/180 [00:03<00:07, 18.59it/s]"
     ]
    },
    {
     "name": "stdout",
     "output_type": "stream",
     "text": [
      "remove_outliers_isolation_forest + features_selection_rfe + oversampling_smote is invalid for dataset student_pred because: Input y contains NaN.\n",
      "remove_outliers_isolation_forest + features_selection_rfe + oversampling_svm_smote is invalid for dataset student_pred because: Input y contains NaN.\n"
     ]
    },
    {
     "name": "stderr",
     "output_type": "stream",
     "text": [
      "Dataset: student_pred:  31%|███       | 55/180 [00:03<00:07, 16.36it/s]"
     ]
    },
    {
     "name": "stdout",
     "output_type": "stream",
     "text": [
      "remove_outliers_isolation_forest + features_selection_rfe + oversampling_adasyn is invalid for dataset student_pred because: Input y contains NaN.\n",
      "remove_outliers_isolation_forest + features_selection_rfe + oversampling_smote_borderline is invalid for dataset student_pred because: Input y contains NaN.\n",
      "remove_outliers_isolation_forest + features_selection_rfe + oversampling_nc_smote is invalid for dataset student_pred because: Input y contains NaN.\n",
      "remove_outliers_isolation_forest + features_selection_variance_threshold + oversampling_none is invalid for dataset student_pred because: Input y contains NaN.\n"
     ]
    },
    {
     "name": "stderr",
     "output_type": "stream",
     "text": [
      "Dataset: student_pred:  32%|███▏      | 57/180 [00:03<00:07, 17.00it/s]"
     ]
    },
    {
     "name": "stdout",
     "output_type": "stream",
     "text": [
      "remove_outliers_isolation_forest + features_selection_variance_threshold + oversampling_smote is invalid for dataset student_pred because: Input y contains NaN.\n",
      "remove_outliers_isolation_forest + features_selection_variance_threshold + oversampling_svm_smote is invalid for dataset student_pred because: Input y contains NaN.\n",
      "remove_outliers_isolation_forest + features_selection_variance_threshold + oversampling_adasyn is invalid for dataset student_pred because: Input y contains NaN.\n",
      "remove_outliers_isolation_forest + features_selection_variance_threshold + oversampling_smote_borderline is invalid for dataset student_pred because: Input y contains NaN.\n"
     ]
    },
    {
     "name": "stderr",
     "output_type": "stream",
     "text": [
      "Dataset: student_pred:  34%|███▍      | 61/180 [00:03<00:06, 17.49it/s]"
     ]
    },
    {
     "name": "stdout",
     "output_type": "stream",
     "text": [
      "remove_outliers_isolation_forest + features_selection_variance_threshold + oversampling_nc_smote is invalid for dataset student_pred because: Input y contains NaN.\n",
      "remove_outliers_zscore + features_selection_none + oversampling_none is invalid for dataset student_pred because: Input y contains NaN.\n",
      "remove_outliers_zscore + features_selection_none + oversampling_smote is invalid for dataset student_pred because: Input y contains NaN.\n",
      "remove_outliers_zscore + features_selection_none + oversampling_svm_smote is invalid for dataset student_pred because: Input y contains NaN.\n"
     ]
    },
    {
     "name": "stderr",
     "output_type": "stream",
     "text": [
      "Dataset: student_pred:  36%|███▌      | 65/180 [00:04<00:08, 14.20it/s]"
     ]
    },
    {
     "name": "stdout",
     "output_type": "stream",
     "text": [
      "remove_outliers_zscore + features_selection_none + oversampling_adasyn is invalid for dataset student_pred because: Input y contains NaN.\n",
      "remove_outliers_zscore + features_selection_none + oversampling_smote_borderline is invalid for dataset student_pred because: Input y contains NaN.\n"
     ]
    },
    {
     "name": "stderr",
     "output_type": "stream",
     "text": [
      "Dataset: student_pred:  37%|███▋      | 67/180 [00:04<00:07, 15.22it/s]"
     ]
    },
    {
     "name": "stdout",
     "output_type": "stream",
     "text": [
      "remove_outliers_zscore + features_selection_none + oversampling_nc_smote is invalid for dataset student_pred because: Input y contains NaN.\n",
      "remove_outliers_zscore + features_selection_extratrees + oversampling_none is invalid for dataset student_pred because: Input y contains NaN.\n",
      "remove_outliers_zscore + features_selection_extratrees + oversampling_smote is invalid for dataset student_pred because: Input y contains NaN.\n",
      "remove_outliers_zscore + features_selection_extratrees + oversampling_svm_smote is invalid for dataset student_pred because: Input y contains NaN.\n"
     ]
    },
    {
     "name": "stderr",
     "output_type": "stream",
     "text": [
      "Dataset: student_pred:  39%|███▉      | 71/180 [00:04<00:07, 15.46it/s]"
     ]
    },
    {
     "name": "stdout",
     "output_type": "stream",
     "text": [
      "remove_outliers_zscore + features_selection_extratrees + oversampling_adasyn is invalid for dataset student_pred because: Input y contains NaN.\n",
      "remove_outliers_zscore + features_selection_extratrees + oversampling_smote_borderline is invalid for dataset student_pred because: Input y contains NaN.\n",
      "remove_outliers_zscore + features_selection_extratrees + oversampling_nc_smote is invalid for dataset student_pred because: Input y contains NaN.\n",
      "remove_outliers_zscore + features_selection_mutual_information + oversampling_none is invalid for dataset student_pred because: Input y contains NaN.\n"
     ]
    },
    {
     "name": "stderr",
     "output_type": "stream",
     "text": [
      "Dataset: student_pred:  42%|████▏     | 75/180 [00:04<00:06, 17.11it/s]"
     ]
    },
    {
     "name": "stdout",
     "output_type": "stream",
     "text": [
      "remove_outliers_zscore + features_selection_mutual_information + oversampling_smote is invalid for dataset student_pred because: Input y contains NaN.\n",
      "remove_outliers_zscore + features_selection_mutual_information + oversampling_svm_smote is invalid for dataset student_pred because: Input y contains NaN.\n",
      "remove_outliers_zscore + features_selection_mutual_information + oversampling_adasyn is invalid for dataset student_pred because: Input y contains NaN.\n",
      "remove_outliers_zscore + features_selection_mutual_information + oversampling_smote_borderline is invalid for dataset student_pred because: Input y contains NaN.\n"
     ]
    },
    {
     "name": "stderr",
     "output_type": "stream",
     "text": [
      "Dataset: student_pred:  44%|████▍     | 79/180 [00:04<00:07, 13.94it/s]"
     ]
    },
    {
     "name": "stdout",
     "output_type": "stream",
     "text": [
      "remove_outliers_zscore + features_selection_mutual_information + oversampling_nc_smote is invalid for dataset student_pred because: Input y contains NaN.\n",
      "remove_outliers_zscore + features_selection_rfe + oversampling_none is invalid for dataset student_pred because: Input y contains NaN.\n"
     ]
    },
    {
     "name": "stderr",
     "output_type": "stream",
     "text": [
      "Dataset: student_pred:  45%|████▌     | 81/180 [00:05<00:06, 15.28it/s]"
     ]
    },
    {
     "name": "stdout",
     "output_type": "stream",
     "text": [
      "remove_outliers_zscore + features_selection_rfe + oversampling_smote is invalid for dataset student_pred because: Input y contains NaN.\n",
      "remove_outliers_zscore + features_selection_rfe + oversampling_svm_smote is invalid for dataset student_pred because: Input y contains NaN.\n",
      "remove_outliers_zscore + features_selection_rfe + oversampling_adasyn is invalid for dataset student_pred because: Input y contains NaN.\n",
      "remove_outliers_zscore + features_selection_rfe + oversampling_smote_borderline is invalid for dataset student_pred because: Input y contains NaN.\n"
     ]
    },
    {
     "name": "stderr",
     "output_type": "stream",
     "text": [
      "Dataset: student_pred:  47%|████▋     | 85/180 [00:05<00:06, 15.64it/s]"
     ]
    },
    {
     "name": "stdout",
     "output_type": "stream",
     "text": [
      "remove_outliers_zscore + features_selection_rfe + oversampling_nc_smote is invalid for dataset student_pred because: Input y contains NaN.\n",
      "remove_outliers_zscore + features_selection_variance_threshold + oversampling_none is invalid for dataset student_pred because: Input y contains NaN.\n",
      "remove_outliers_zscore + features_selection_variance_threshold + oversampling_smote is invalid for dataset student_pred because: Input y contains NaN.\n",
      "remove_outliers_zscore + features_selection_variance_threshold + oversampling_svm_smote is invalid for dataset student_pred because: Input y contains NaN.\n"
     ]
    },
    {
     "name": "stderr",
     "output_type": "stream",
     "text": [
      "Dataset: student_pred:  49%|████▉     | 89/180 [00:05<00:05, 17.26it/s]"
     ]
    },
    {
     "name": "stdout",
     "output_type": "stream",
     "text": [
      "remove_outliers_zscore + features_selection_variance_threshold + oversampling_adasyn is invalid for dataset student_pred because: Input y contains NaN.\n",
      "remove_outliers_zscore + features_selection_variance_threshold + oversampling_smote_borderline is invalid for dataset student_pred because: Input y contains NaN.\n",
      "remove_outliers_zscore + features_selection_variance_threshold + oversampling_nc_smote is invalid for dataset student_pred because: Input y contains NaN.\n",
      "remove_outliers_iqr + features_selection_none + oversampling_none is invalid for dataset student_pred because: Input y contains NaN.\n"
     ]
    },
    {
     "name": "stderr",
     "output_type": "stream",
     "text": [
      "Dataset: student_pred:  51%|█████     | 92/180 [00:05<00:06, 14.31it/s]"
     ]
    },
    {
     "name": "stdout",
     "output_type": "stream",
     "text": [
      "remove_outliers_iqr + features_selection_none + oversampling_smote is invalid for dataset student_pred because: Input y contains NaN.\n",
      "remove_outliers_iqr + features_selection_none + oversampling_svm_smote is invalid for dataset student_pred because: Input y contains NaN.\n"
     ]
    },
    {
     "name": "stderr",
     "output_type": "stream",
     "text": [
      "Dataset: student_pred:  53%|█████▎    | 96/180 [00:06<00:05, 15.76it/s]"
     ]
    },
    {
     "name": "stdout",
     "output_type": "stream",
     "text": [
      "remove_outliers_iqr + features_selection_none + oversampling_adasyn is invalid for dataset student_pred because: Input y contains NaN.\n",
      "remove_outliers_iqr + features_selection_none + oversampling_smote_borderline is invalid for dataset student_pred because: Input y contains NaN.\n",
      "remove_outliers_iqr + features_selection_none + oversampling_nc_smote is invalid for dataset student_pred because: Input y contains NaN.\n",
      "remove_outliers_iqr + features_selection_extratrees + oversampling_none is invalid for dataset student_pred because: Input y contains NaN.\n"
     ]
    },
    {
     "name": "stderr",
     "output_type": "stream",
     "text": [
      "Dataset: student_pred:  56%|█████▌    | 100/180 [00:06<00:04, 16.65it/s]"
     ]
    },
    {
     "name": "stdout",
     "output_type": "stream",
     "text": [
      "remove_outliers_iqr + features_selection_extratrees + oversampling_smote is invalid for dataset student_pred because: Input y contains NaN.\n",
      "remove_outliers_iqr + features_selection_extratrees + oversampling_svm_smote is invalid for dataset student_pred because: Input y contains NaN.\n",
      "remove_outliers_iqr + features_selection_extratrees + oversampling_adasyn is invalid for dataset student_pred because: Input y contains NaN.\n",
      "remove_outliers_iqr + features_selection_extratrees + oversampling_smote_borderline is invalid for dataset student_pred because: Input y contains NaN.\n"
     ]
    },
    {
     "name": "stderr",
     "output_type": "stream",
     "text": [
      "Dataset: student_pred:  58%|█████▊    | 104/180 [00:06<00:04, 17.07it/s]"
     ]
    },
    {
     "name": "stdout",
     "output_type": "stream",
     "text": [
      "remove_outliers_iqr + features_selection_extratrees + oversampling_nc_smote is invalid for dataset student_pred because: Input y contains NaN.\n",
      "remove_outliers_iqr + features_selection_mutual_information + oversampling_none is invalid for dataset student_pred because: Input y contains NaN.\n",
      "remove_outliers_iqr + features_selection_mutual_information + oversampling_smote is invalid for dataset student_pred because: Input y contains NaN.\n",
      "remove_outliers_iqr + features_selection_mutual_information + oversampling_svm_smote is invalid for dataset student_pred because: Input y contains NaN.\n"
     ]
    },
    {
     "name": "stderr",
     "output_type": "stream",
     "text": [
      "Dataset: student_pred:  59%|█████▉    | 106/180 [00:06<00:04, 17.27it/s]"
     ]
    },
    {
     "name": "stdout",
     "output_type": "stream",
     "text": [
      "remove_outliers_iqr + features_selection_mutual_information + oversampling_adasyn is invalid for dataset student_pred because: Input y contains NaN.\n",
      "remove_outliers_iqr + features_selection_mutual_information + oversampling_smote_borderline is invalid for dataset student_pred because: Input y contains NaN.\n"
     ]
    },
    {
     "name": "stderr",
     "output_type": "stream",
     "text": [
      "Dataset: student_pred:  61%|██████    | 110/180 [00:06<00:04, 14.42it/s]"
     ]
    },
    {
     "name": "stdout",
     "output_type": "stream",
     "text": [
      "remove_outliers_iqr + features_selection_mutual_information + oversampling_nc_smote is invalid for dataset student_pred because: Input y contains NaN.\n",
      "remove_outliers_iqr + features_selection_rfe + oversampling_none is invalid for dataset student_pred because: Input y contains NaN.\n",
      "remove_outliers_iqr + features_selection_rfe + oversampling_smote is invalid for dataset student_pred because: Input y contains NaN.\n",
      "remove_outliers_iqr + features_selection_rfe + oversampling_svm_smote is invalid for dataset student_pred because: Input y contains NaN.\n"
     ]
    },
    {
     "name": "stderr",
     "output_type": "stream",
     "text": [
      "Dataset: student_pred:  63%|██████▎   | 114/180 [00:07<00:04, 15.48it/s]"
     ]
    },
    {
     "name": "stdout",
     "output_type": "stream",
     "text": [
      "remove_outliers_iqr + features_selection_rfe + oversampling_adasyn is invalid for dataset student_pred because: Input y contains NaN.\n",
      "remove_outliers_iqr + features_selection_rfe + oversampling_smote_borderline is invalid for dataset student_pred because: Input y contains NaN.\n",
      "remove_outliers_iqr + features_selection_rfe + oversampling_nc_smote is invalid for dataset student_pred because: Input y contains NaN.\n"
     ]
    },
    {
     "name": "stderr",
     "output_type": "stream",
     "text": [
      "Dataset: student_pred:  64%|██████▍   | 116/180 [00:07<00:04, 15.80it/s]"
     ]
    },
    {
     "name": "stdout",
     "output_type": "stream",
     "text": [
      "remove_outliers_iqr + features_selection_variance_threshold + oversampling_none is invalid for dataset student_pred because: Input y contains NaN.\n",
      "remove_outliers_iqr + features_selection_variance_threshold + oversampling_smote is invalid for dataset student_pred because: Input y contains NaN.\n",
      "remove_outliers_iqr + features_selection_variance_threshold + oversampling_svm_smote is invalid for dataset student_pred because: Input y contains NaN.\n",
      "remove_outliers_iqr + features_selection_variance_threshold + oversampling_adasyn is invalid for dataset student_pred because: Input y contains NaN.\n"
     ]
    },
    {
     "name": "stderr",
     "output_type": "stream",
     "text": [
      "Dataset: student_pred:  67%|██████▋   | 120/180 [00:07<00:03, 16.70it/s]"
     ]
    },
    {
     "name": "stdout",
     "output_type": "stream",
     "text": [
      "remove_outliers_iqr + features_selection_variance_threshold + oversampling_smote_borderline is invalid for dataset student_pred because: Input y contains NaN.\n",
      "remove_outliers_iqr + features_selection_variance_threshold + oversampling_nc_smote is invalid for dataset student_pred because: Input y contains NaN.\n",
      "remove_outliers_dbscan + features_selection_none + oversampling_none is invalid for dataset student_pred because: Input y contains NaN.\n"
     ]
    },
    {
     "name": "stderr",
     "output_type": "stream",
     "text": [
      "Dataset: student_pred:  69%|██████▉   | 124/180 [00:07<00:03, 14.81it/s]"
     ]
    },
    {
     "name": "stdout",
     "output_type": "stream",
     "text": [
      "remove_outliers_dbscan + features_selection_none + oversampling_smote is invalid for dataset student_pred because: Input y contains NaN.\n",
      "remove_outliers_dbscan + features_selection_none + oversampling_svm_smote is invalid for dataset student_pred because: Input y contains NaN.\n",
      "remove_outliers_dbscan + features_selection_none + oversampling_adasyn is invalid for dataset student_pred because: Input y contains NaN.\n",
      "remove_outliers_dbscan + features_selection_none + oversampling_smote_borderline is invalid for dataset student_pred because: Input y contains NaN.\n",
      "remove_outliers_dbscan + features_selection_none + oversampling_nc_smote is invalid for dataset student_pred because: Input y contains NaN.\n"
     ]
    },
    {
     "name": "stderr",
     "output_type": "stream",
     "text": [
      "Dataset: student_pred:  71%|███████   | 128/180 [00:08<00:03, 16.21it/s]"
     ]
    },
    {
     "name": "stdout",
     "output_type": "stream",
     "text": [
      "remove_outliers_dbscan + features_selection_extratrees + oversampling_none is invalid for dataset student_pred because: Input y contains NaN.\n",
      "remove_outliers_dbscan + features_selection_extratrees + oversampling_smote is invalid for dataset student_pred because: Input y contains NaN.\n",
      "remove_outliers_dbscan + features_selection_extratrees + oversampling_svm_smote is invalid for dataset student_pred because: Input y contains NaN.\n",
      "remove_outliers_dbscan + features_selection_extratrees + oversampling_adasyn is invalid for dataset student_pred because: Input y contains NaN.\n"
     ]
    },
    {
     "name": "stderr",
     "output_type": "stream",
     "text": [
      "Dataset: student_pred:  73%|███████▎  | 132/180 [00:08<00:02, 16.69it/s]"
     ]
    },
    {
     "name": "stdout",
     "output_type": "stream",
     "text": [
      "remove_outliers_dbscan + features_selection_extratrees + oversampling_smote_borderline is invalid for dataset student_pred because: Input y contains NaN.\n",
      "remove_outliers_dbscan + features_selection_extratrees + oversampling_nc_smote is invalid for dataset student_pred because: Input y contains NaN.\n",
      "remove_outliers_dbscan + features_selection_mutual_information + oversampling_none is invalid for dataset student_pred because: Input y contains NaN.\n",
      "remove_outliers_dbscan + features_selection_mutual_information + oversampling_smote is invalid for dataset student_pred because: Input y contains NaN.\n"
     ]
    },
    {
     "name": "stderr",
     "output_type": "stream",
     "text": [
      "Dataset: student_pred:  74%|███████▍  | 134/180 [00:08<00:02, 17.22it/s]"
     ]
    },
    {
     "name": "stdout",
     "output_type": "stream",
     "text": [
      "remove_outliers_dbscan + features_selection_mutual_information + oversampling_svm_smote is invalid for dataset student_pred because: Input y contains NaN.\n",
      "remove_outliers_dbscan + features_selection_mutual_information + oversampling_adasyn is invalid for dataset student_pred because: Input y contains NaN.\n"
     ]
    },
    {
     "name": "stderr",
     "output_type": "stream",
     "text": [
      "Dataset: student_pred:  77%|███████▋  | 138/180 [00:08<00:03, 13.90it/s]"
     ]
    },
    {
     "name": "stdout",
     "output_type": "stream",
     "text": [
      "remove_outliers_dbscan + features_selection_mutual_information + oversampling_smote_borderline is invalid for dataset student_pred because: Input y contains NaN.\n",
      "remove_outliers_dbscan + features_selection_mutual_information + oversampling_nc_smote is invalid for dataset student_pred because: Input y contains NaN.\n",
      "remove_outliers_dbscan + features_selection_rfe + oversampling_none is invalid for dataset student_pred because: Input y contains NaN.\n",
      "remove_outliers_dbscan + features_selection_rfe + oversampling_smote is invalid for dataset student_pred because: Input y contains NaN.\n"
     ]
    },
    {
     "name": "stderr",
     "output_type": "stream",
     "text": [
      "Dataset: student_pred:  79%|███████▉  | 142/180 [00:08<00:02, 15.68it/s]"
     ]
    },
    {
     "name": "stdout",
     "output_type": "stream",
     "text": [
      "remove_outliers_dbscan + features_selection_rfe + oversampling_svm_smote is invalid for dataset student_pred because: Input y contains NaN.\n",
      "remove_outliers_dbscan + features_selection_rfe + oversampling_adasyn is invalid for dataset student_pred because: Input y contains NaN.\n",
      "remove_outliers_dbscan + features_selection_rfe + oversampling_smote_borderline is invalid for dataset student_pred because: Input y contains NaN.\n",
      "remove_outliers_dbscan + features_selection_rfe + oversampling_nc_smote is invalid for dataset student_pred because: Input y contains NaN.\n"
     ]
    },
    {
     "name": "stderr",
     "output_type": "stream",
     "text": [
      "Dataset: student_pred:  81%|████████  | 146/180 [00:09<00:02, 16.01it/s]"
     ]
    },
    {
     "name": "stdout",
     "output_type": "stream",
     "text": [
      "remove_outliers_dbscan + features_selection_variance_threshold + oversampling_none is invalid for dataset student_pred because: Input y contains NaN.\n",
      "remove_outliers_dbscan + features_selection_variance_threshold + oversampling_smote is invalid for dataset student_pred because: Input y contains NaN.\n",
      "remove_outliers_dbscan + features_selection_variance_threshold + oversampling_svm_smote is invalid for dataset student_pred because: Input y contains NaN.\n",
      "remove_outliers_dbscan + features_selection_variance_threshold + oversampling_adasyn is invalid for dataset student_pred because: Input y contains NaN.\n"
     ]
    },
    {
     "name": "stderr",
     "output_type": "stream",
     "text": [
      "Dataset: student_pred:  82%|████████▏ | 148/180 [00:09<00:01, 16.55it/s]"
     ]
    },
    {
     "name": "stdout",
     "output_type": "stream",
     "text": [
      "remove_outliers_dbscan + features_selection_variance_threshold + oversampling_smote_borderline is invalid for dataset student_pred because: Input y contains NaN.\n",
      "remove_outliers_dbscan + features_selection_variance_threshold + oversampling_nc_smote is invalid for dataset student_pred because: Input y contains NaN.\n"
     ]
    },
    {
     "name": "stderr",
     "output_type": "stream",
     "text": [
      "Dataset: student_pred:  84%|████████▍ | 152/180 [00:09<00:02, 13.86it/s]"
     ]
    },
    {
     "name": "stdout",
     "output_type": "stream",
     "text": [
      "remove_outliers_lof + features_selection_none + oversampling_none is invalid for dataset student_pred because: Input y contains NaN.\n",
      "remove_outliers_lof + features_selection_none + oversampling_smote is invalid for dataset student_pred because: Input y contains NaN.\n",
      "remove_outliers_lof + features_selection_none + oversampling_svm_smote is invalid for dataset student_pred because: Input y contains NaN.\n",
      "remove_outliers_lof + features_selection_none + oversampling_adasyn is invalid for dataset student_pred because: Input y contains NaN.\n"
     ]
    },
    {
     "name": "stderr",
     "output_type": "stream",
     "text": [
      "Dataset: student_pred:  87%|████████▋ | 156/180 [00:09<00:01, 15.77it/s]"
     ]
    },
    {
     "name": "stdout",
     "output_type": "stream",
     "text": [
      "remove_outliers_lof + features_selection_none + oversampling_smote_borderline is invalid for dataset student_pred because: Input y contains NaN.\n",
      "remove_outliers_lof + features_selection_none + oversampling_nc_smote is invalid for dataset student_pred because: Input y contains NaN.\n",
      "remove_outliers_lof + features_selection_extratrees + oversampling_none is invalid for dataset student_pred because: Input y contains NaN.\n",
      "remove_outliers_lof + features_selection_extratrees + oversampling_smote is invalid for dataset student_pred because: Input y contains NaN.\n"
     ]
    },
    {
     "name": "stderr",
     "output_type": "stream",
     "text": [
      "Dataset: student_pred:  89%|████████▉ | 160/180 [00:10<00:01, 15.58it/s]"
     ]
    },
    {
     "name": "stdout",
     "output_type": "stream",
     "text": [
      "remove_outliers_lof + features_selection_extratrees + oversampling_svm_smote is invalid for dataset student_pred because: Input y contains NaN.\n",
      "remove_outliers_lof + features_selection_extratrees + oversampling_adasyn is invalid for dataset student_pred because: Input y contains NaN.\n",
      "remove_outliers_lof + features_selection_extratrees + oversampling_smote_borderline is invalid for dataset student_pred because: Input y contains NaN.\n",
      "remove_outliers_lof + features_selection_extratrees + oversampling_nc_smote is invalid for dataset student_pred because: Input y contains NaN.\n"
     ]
    },
    {
     "name": "stderr",
     "output_type": "stream",
     "text": [
      "Dataset: student_pred:  91%|█████████ | 164/180 [00:10<00:00, 16.43it/s]"
     ]
    },
    {
     "name": "stdout",
     "output_type": "stream",
     "text": [
      "remove_outliers_lof + features_selection_mutual_information + oversampling_none is invalid for dataset student_pred because: Input y contains NaN.\n",
      "remove_outliers_lof + features_selection_mutual_information + oversampling_smote is invalid for dataset student_pred because: Input y contains NaN.\n",
      "remove_outliers_lof + features_selection_mutual_information + oversampling_svm_smote is invalid for dataset student_pred because: Input y contains NaN.\n"
     ]
    },
    {
     "name": "stderr",
     "output_type": "stream",
     "text": [
      "Dataset: student_pred:  93%|█████████▎| 168/180 [00:10<00:00, 13.69it/s]"
     ]
    },
    {
     "name": "stdout",
     "output_type": "stream",
     "text": [
      "remove_outliers_lof + features_selection_mutual_information + oversampling_adasyn is invalid for dataset student_pred because: Input y contains NaN.\n",
      "remove_outliers_lof + features_selection_mutual_information + oversampling_smote_borderline is invalid for dataset student_pred because: Input y contains NaN.\n",
      "remove_outliers_lof + features_selection_mutual_information + oversampling_nc_smote is invalid for dataset student_pred because: Input y contains NaN.\n"
     ]
    },
    {
     "name": "stderr",
     "output_type": "stream",
     "text": [
      "Dataset: student_pred:  94%|█████████▍| 170/180 [00:10<00:00, 14.58it/s]"
     ]
    },
    {
     "name": "stdout",
     "output_type": "stream",
     "text": [
      "remove_outliers_lof + features_selection_rfe + oversampling_none is invalid for dataset student_pred because: Input y contains NaN.\n",
      "remove_outliers_lof + features_selection_rfe + oversampling_smote is invalid for dataset student_pred because: Input y contains NaN.\n",
      "remove_outliers_lof + features_selection_rfe + oversampling_svm_smote is invalid for dataset student_pred because: Input y contains NaN.\n",
      "remove_outliers_lof + features_selection_rfe + oversampling_adasyn is invalid for dataset student_pred because: Input y contains NaN.\n"
     ]
    },
    {
     "name": "stderr",
     "output_type": "stream",
     "text": [
      "Dataset: student_pred:  97%|█████████▋| 174/180 [00:11<00:00, 15.70it/s]"
     ]
    },
    {
     "name": "stdout",
     "output_type": "stream",
     "text": [
      "remove_outliers_lof + features_selection_rfe + oversampling_smote_borderline is invalid for dataset student_pred because: Input y contains NaN.\n",
      "remove_outliers_lof + features_selection_rfe + oversampling_nc_smote is invalid for dataset student_pred because: Input y contains NaN.\n",
      "remove_outliers_lof + features_selection_variance_threshold + oversampling_none is invalid for dataset student_pred because: Input y contains NaN.\n",
      "remove_outliers_lof + features_selection_variance_threshold + oversampling_smote is invalid for dataset student_pred because: Input y contains NaN.\n"
     ]
    },
    {
     "name": "stderr",
     "output_type": "stream",
     "text": [
      "Dataset: student_pred:  99%|█████████▉| 178/180 [00:11<00:00, 14.97it/s]"
     ]
    },
    {
     "name": "stdout",
     "output_type": "stream",
     "text": [
      "remove_outliers_lof + features_selection_variance_threshold + oversampling_svm_smote is invalid for dataset student_pred because: Input y contains NaN.\n",
      "remove_outliers_lof + features_selection_variance_threshold + oversampling_adasyn is invalid for dataset student_pred because: Input y contains NaN.\n",
      "remove_outliers_lof + features_selection_variance_threshold + oversampling_smote_borderline is invalid for dataset student_pred because: Input y contains NaN.\n"
     ]
    },
    {
     "name": "stderr",
     "output_type": "stream",
     "text": [
      "Dataset: student_pred: 100%|██████████| 180/180 [00:11<00:00, 15.52it/s]"
     ]
    },
    {
     "name": "stdout",
     "output_type": "stream",
     "text": [
      "remove_outliers_lof + features_selection_variance_threshold + oversampling_nc_smote is invalid for dataset student_pred because: Input y contains NaN.\n"
     ]
    },
    {
     "name": "stderr",
     "output_type": "stream",
     "text": [
      "\n"
     ]
    }
   ],
   "source": [
    "# Define the metrics\n",
    "def compute_metrics(y_true, y_pred):\n",
    "    return {\n",
    "        \"accuracy\": accuracy_score(y_true, y_pred),\n",
    "        \"precision\": precision_score(y_true, y_pred),\n",
    "        \"recall\": recall_score(y_true, y_pred),\n",
    "        \"f1\": f1_score(y_true, y_pred),\n",
    "        \"confusion_matrix\": confusion_matrix(y_true, y_pred),\n",
    "    }\n",
    "\n",
    "\n",
    "# Training function\n",
    "def train_classifiers(X_train, y_train, X_test, y_test, config_key):\n",
    "    results = {}\n",
    "    for classifier_name, classifier_info in classifiers.items():\n",
    "        try:\n",
    "            clf = classifier_info[\"model\"]\n",
    "            clf.fit(X_train, y_train)\n",
    "            predictions = clf.predict(X_test)\n",
    "            metrics = compute_metrics(y_test, predictions)\n",
    "\n",
    "            results[classifier_name] = {\n",
    "                \"metrics\": metrics,\n",
    "                \"data\": {\n",
    "                    \"X_train\": X_train,\n",
    "                    \"y_train\": y_train,\n",
    "                    \"X_test\": X_test,\n",
    "                    \"y_test\": y_test,\n",
    "                    \"y_pred\": predictions,\n",
    "                },\n",
    "            }\n",
    "        except Exception as e:\n",
    "            print(\n",
    "                f\"{classifier_name} failed to train with configuration {config_key} because: {e}\"\n",
    "            )\n",
    "    return results\n",
    "\n",
    "\n",
    "classifiers = {\n",
    "    \"RandomForest\": {\n",
    "        \"model\": RandomForestClassifier(),\n",
    "    },\n",
    "    \"K-nearest-neighbor\": {\n",
    "        \"model\": KNeighborsClassifier(),\n",
    "    },\n",
    "    \"Artificial Neural Network\": {\n",
    "        \"model\": MLPClassifier(),\n",
    "    },\n",
    "    \"Decision Tree\": {\n",
    "        \"model\": DecisionTreeClassifier(),\n",
    "    },\n",
    "    \"Logistic Regression\": {\n",
    "        \"model\": LogisticRegression(),\n",
    "    },\n",
    "    \"Support Vector Machine\": {\n",
    "        \"model\": SVC(),  # https: //www.kaggle.com/code/sunayanagawde/ml-algorithms-usage-and-prediction?scriptVersionId=120249289&cellId=62\n",
    "    },\n",
    "    \"Naive Bayes\": {\n",
    "        \"model\": GaussianNB(),\n",
    "    },\n",
    "    \"XG-boost\": {\n",
    "        \"model\": XGBClassifier(),\n",
    "    },\n",
    "}\n",
    "\n",
    "kaggle = (\n",
    "    \"kaggle\",\n",
    "    KAGGLE_DATA_PATH,\n",
    "    KAGGLE_IGNORED_FEAT,\n",
    "    KAGGLE_IGNORED_LABELS,\n",
    "    KAGGLE_TARGET,\n",
    "    0.8,\n",
    ")\n",
    "moodle = (\n",
    "    \"moodle\",\n",
    "    MOODLE_DATA_PATH,\n",
    "    MOODLE_IGNORED_FEAT,\n",
    "    MOODLE_IGNORED_LABELS,\n",
    "    MOODLE_TARGET,\n",
    "    0.2,\n",
    ")\n",
    "student_pred = (\n",
    "    \"student_pred\",\n",
    "    STUDENT_PRED_PATH,\n",
    "    STUDENT_PRED_IGNORED_FEAT,\n",
    "    STUDENT_PRED_IGNORED_LABELS,\n",
    "    STUDENT_PRED_TARGET,\n",
    "    0.2,\n",
    ")\n",
    "datasets = [\n",
    "    kaggle,\n",
    "    moodle,\n",
    "    student_pred,\n",
    "]\n",
    "\n",
    "# Main dictionary to store results\n",
    "all_results = {}\n",
    "\n",
    "for dataset in datasets:\n",
    "    dataset_name = dataset[0]\n",
    "    datapath = dataset[1]\n",
    "    columns_to_ignore = dataset[2]\n",
    "    labels_to_ignore = dataset[3]\n",
    "    target_label = dataset[4]\n",
    "    test_size = dataset[5]\n",
    "    for config in tqdm(PREPROCESSING_CONFIGURATIONS, desc=f\"Dataset: {dataset_name}\"):\n",
    "        config_key = _generate_config_key(config)\n",
    "        try:\n",
    "            X_train, y_train, X_test, y_test = get_data_for_config(\n",
    "                config,\n",
    "                datapath=datapath,\n",
    "                target=target_label,\n",
    "                columns_to_ignore=columns_to_ignore,\n",
    "                labels_to_ignore=labels_to_ignore,\n",
    "                test_size=test_size,\n",
    "            )\n",
    "            all_results[config_key] = train_classifiers(\n",
    "                X_train, y_train, X_test, y_test, config_key\n",
    "            )\n",
    "        except Exception as e:\n",
    "            print(f\"{config_key} is invalid for dataset {dataset_name} because: {e}\")\n",
    "        # Serialize results\n",
    "        with open(f\"all_results_{dataset_name}.pkl\", \"wb\") as f:\n",
    "            pickle.dump(all_results, f)"
   ]
  },
  {
   "cell_type": "markdown",
   "metadata": {},
   "source": [
    "# TO-DO\n",
    "\n",
    "- implementar cross-validation\n",
    "- limpiar los NaN de los datasets\n",
    "- en feat_selection se usa k=10. cambiar esto a tomar los mas relevantes calculando k en funcion de cada escenario Y/O hacer k = min(n_feat, 10) pq hay datasets que tienen menos de 10 feats\n",
    "- añadir modelos: algo de ensemble (boosting y bagging) y red neuronal mas turbia\n",
    "- graficas para los mejores resultados de cada dataset\n",
    "- graficas de aprendizaje\n",
    "- añadir roc_auc a las metricas"
   ]
  }
 ],
 "metadata": {
  "kernelspec": {
   "display_name": "base",
   "language": "python",
   "name": "python3"
  },
  "language_info": {
   "codemirror_mode": {
    "name": "ipython",
    "version": 3
   },
   "file_extension": ".py",
   "mimetype": "text/x-python",
   "name": "python",
   "nbconvert_exporter": "python",
   "pygments_lexer": "ipython3",
   "version": "3.10.9"
  },
  "orig_nbformat": 4
 },
 "nbformat": 4,
 "nbformat_minor": 2
}
